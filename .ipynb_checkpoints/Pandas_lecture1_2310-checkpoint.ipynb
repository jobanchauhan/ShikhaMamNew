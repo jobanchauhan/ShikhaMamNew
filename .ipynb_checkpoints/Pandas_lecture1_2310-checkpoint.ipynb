{
 "cells": [
  {
   "cell_type": "code",
   "execution_count": null,
   "id": "072602fc",
   "metadata": {},
   "outputs": [],
   "source": [
    "import pandas as pd\n",
    "import numpy as np"
   ]
  },
  {
   "cell_type": "code",
   "execution_count": null,
   "id": "957fe2ee",
   "metadata": {},
   "outputs": [],
   "source": [
    "x=['a','d','b','c',1,2,3]\n",
    "s=pd.Series(x,index=['A','B','C','D','E','F','G'])\n",
    "s"
   ]
  },
  {
   "cell_type": "code",
   "execution_count": null,
   "id": "5621dec6",
   "metadata": {},
   "outputs": [],
   "source": [
    "import numpy as np\n",
    "arr=np.array(['p','b','h','u'])\n",
    "s1=pd.Series(arr)\n",
    "s1"
   ]
  },
  {
   "cell_type": "code",
   "execution_count": null,
   "id": "21dd981a",
   "metadata": {},
   "outputs": [],
   "source": [
    "d={'name':'a','age':23,'class':4,'bloodgroup':'B'}\n",
    "s2=pd.Series(d)\n",
    "s2"
   ]
  },
  {
   "cell_type": "code",
   "execution_count": null,
   "id": "0027b476",
   "metadata": {},
   "outputs": [],
   "source": [
    "d['class']"
   ]
  },
  {
   "cell_type": "code",
   "execution_count": null,
   "id": "938fcfe0",
   "metadata": {},
   "outputs": [],
   "source": [
    "d={'name':'arun','surname':'singh','age':23,'class':4,'bloodgroup':'B'}\n",
    "s2=pd.Series(d,index=['name','surname'])\n",
    "s2"
   ]
  },
  {
   "cell_type": "code",
   "execution_count": null,
   "id": "2e0f10bc",
   "metadata": {},
   "outputs": [],
   "source": [
    "x=['a','d','b','c',1,2,3]\n",
    "s=pd.DataFrame(x,index=['A','B','C','D','E','F','G'])\n",
    "s"
   ]
  },
  {
   "cell_type": "code",
   "execution_count": null,
   "id": "ab96738f",
   "metadata": {
    "scrolled": true
   },
   "outputs": [],
   "source": [
    "x=['a','d','b','c',1,2,3]\n",
    "s=pd.Series(x,index=['A','B','C','D','E','F','G'])\n",
    "s"
   ]
  },
  {
   "cell_type": "code",
   "execution_count": null,
   "id": "96da8db3",
   "metadata": {},
   "outputs": [],
   "source": [
    "s1=pd.Series(10,index=['A','B','C','D','E','F','G','H','I','J'])\n",
    "s1"
   ]
  },
  {
   "cell_type": "code",
   "execution_count": null,
   "id": "6d6dca17",
   "metadata": {},
   "outputs": [],
   "source": [
    "s1.shape"
   ]
  },
  {
   "cell_type": "code",
   "execution_count": null,
   "id": "c964f536",
   "metadata": {},
   "outputs": [],
   "source": [
    "s1.dtype"
   ]
  },
  {
   "cell_type": "code",
   "execution_count": null,
   "id": "b45a9f82",
   "metadata": {},
   "outputs": [],
   "source": [
    "s1.index"
   ]
  },
  {
   "cell_type": "code",
   "execution_count": null,
   "id": "69950ddc",
   "metadata": {},
   "outputs": [],
   "source": [
    "s1.values"
   ]
  },
  {
   "cell_type": "code",
   "execution_count": null,
   "id": "5197e749",
   "metadata": {},
   "outputs": [],
   "source": [
    "s1.size"
   ]
  },
  {
   "cell_type": "code",
   "execution_count": null,
   "id": "ba0803b0",
   "metadata": {},
   "outputs": [],
   "source": [
    "s1.empty"
   ]
  },
  {
   "cell_type": "code",
   "execution_count": null,
   "id": "90522e51",
   "metadata": {},
   "outputs": [],
   "source": [
    "s1.hasnans #check nan value"
   ]
  },
  {
   "cell_type": "code",
   "execution_count": null,
   "id": "6c957755",
   "metadata": {},
   "outputs": [],
   "source": [
    "s1.ndim"
   ]
  },
  {
   "cell_type": "code",
   "execution_count": null,
   "id": "af40b01e",
   "metadata": {},
   "outputs": [],
   "source": [
    "#s1.itemsize -check"
   ]
  },
  {
   "cell_type": "code",
   "execution_count": null,
   "id": "145eddf5",
   "metadata": {},
   "outputs": [],
   "source": [
    "x=['a','d','b']\n",
    "s=pd.Series(x,index=['A','B','C'])\n",
    "s"
   ]
  },
  {
   "cell_type": "code",
   "execution_count": null,
   "id": "f24b9b4c",
   "metadata": {},
   "outputs": [],
   "source": [
    "s.map({'a':'A','b':'g'})"
   ]
  },
  {
   "cell_type": "code",
   "execution_count": null,
   "id": "4a5dee0c",
   "metadata": {},
   "outputs": [],
   "source": [
    "s"
   ]
  },
  {
   "cell_type": "code",
   "execution_count": null,
   "id": "ea2bca0b",
   "metadata": {},
   "outputs": [],
   "source": [
    "x=['a','d','b']\n",
    "s=pd.Series(x,name='column1')\n",
    "s"
   ]
  },
  {
   "cell_type": "code",
   "execution_count": null,
   "id": "93bd5be3",
   "metadata": {},
   "outputs": [],
   "source": [
    "s.to_frame()"
   ]
  },
  {
   "cell_type": "code",
   "execution_count": null,
   "id": "0283884d",
   "metadata": {},
   "outputs": [],
   "source": [
    "x=['a','d','b','b']\n",
    "s=pd.Series(x)\n",
    "s"
   ]
  },
  {
   "cell_type": "code",
   "execution_count": null,
   "id": "6e2fe555",
   "metadata": {},
   "outputs": [],
   "source": [
    "s.value_counts()"
   ]
  },
  {
   "cell_type": "code",
   "execution_count": null,
   "id": "fe5b82a1",
   "metadata": {},
   "outputs": [],
   "source": [
    "x=['a','d','b']\n",
    "s=pd.DataFrame(x)\n",
    "s"
   ]
  },
  {
   "cell_type": "code",
   "execution_count": null,
   "id": "28e3e1a3",
   "metadata": {},
   "outputs": [],
   "source": [
    "d={'name':['a','b','c'],\n",
    "  'age':[23,333,45],\n",
    "  'salary':[1400,4500,3400]}\n",
    "df=pd.DataFrame(d)\n",
    "df"
   ]
  },
  {
   "cell_type": "code",
   "execution_count": null,
   "id": "e0ba6624",
   "metadata": {},
   "outputs": [],
   "source": [
    "d1={'name':pd.Series(['x','y','z','i'],index=['i1','i2','i3','i4']),\n",
    "  'age':pd.Series([23,333,45],index=['i1','i2','i3']),\n",
    "  'salary':pd.Series([1400,4500,3400],index=['i1','i2','i3'])}\n",
    "df1=pd.DataFrame(d1)\n",
    "df1"
   ]
  },
  {
   "cell_type": "code",
   "execution_count": null,
   "id": "4869aa36",
   "metadata": {},
   "outputs": [],
   "source": [
    "arr1=np.array([['p','b','h','u'],[1,2,3,4],['p','b','h','u'],[1,2,3,4]])\n",
    "s2=pd.DataFrame(arr1,columns=['i1','i2','i3','i4'])\n",
    "s2"
   ]
  },
  {
   "cell_type": "code",
   "execution_count": null,
   "id": "60be1789",
   "metadata": {},
   "outputs": [],
   "source": [
    "arr3=np.array([[11,'Rahul',200],[12,'Raj',300],[13,'Ramesh',200]])\n",
    "s3=pd.DataFrame(arr3,columns=['emp_id','name','salary'])\n",
    "s3"
   ]
  },
  {
   "cell_type": "code",
   "execution_count": null,
   "id": "cba1df0a",
   "metadata": {},
   "outputs": [],
   "source": [
    "s3['experience']=pd.Series([3,4,5]) #add new column"
   ]
  },
  {
   "cell_type": "code",
   "execution_count": null,
   "id": "ac4cd92a",
   "metadata": {},
   "outputs": [],
   "source": [
    "s3"
   ]
  },
  {
   "cell_type": "code",
   "execution_count": null,
   "id": "7f26ddd4",
   "metadata": {},
   "outputs": [],
   "source": [
    "dnew={'salary':int}"
   ]
  },
  {
   "cell_type": "code",
   "execution_count": null,
   "id": "10f6cc88",
   "metadata": {},
   "outputs": [],
   "source": [
    "s3=s3.astype(dnew)"
   ]
  },
  {
   "cell_type": "code",
   "execution_count": null,
   "id": "308b18ee",
   "metadata": {},
   "outputs": [],
   "source": [
    "s3['salary'].dtype"
   ]
  },
  {
   "cell_type": "code",
   "execution_count": null,
   "id": "603b69e5",
   "metadata": {},
   "outputs": [],
   "source": [
    "s3['xyz']=s3['salary']+s3['experience']\n",
    "s3"
   ]
  },
  {
   "cell_type": "code",
   "execution_count": null,
   "id": "0ab3a6bc",
   "metadata": {},
   "outputs": [],
   "source": [
    "del s3[\"inference\"]"
   ]
  },
  {
   "cell_type": "code",
   "execution_count": null,
   "id": "c89ea1a9",
   "metadata": {},
   "outputs": [],
   "source": [
    "s3['emp_id']"
   ]
  },
  {
   "cell_type": "code",
   "execution_count": null,
   "id": "8af08c07",
   "metadata": {},
   "outputs": [],
   "source": [
    "s3"
   ]
  },
  {
   "cell_type": "code",
   "execution_count": null,
   "id": "00c366ac",
   "metadata": {},
   "outputs": [],
   "source": [
    "s3.pop('xyz')"
   ]
  },
  {
   "cell_type": "code",
   "execution_count": null,
   "id": "dfaaf282",
   "metadata": {},
   "outputs": [],
   "source": [
    "s3"
   ]
  },
  {
   "cell_type": "code",
   "execution_count": null,
   "id": "ce12056f",
   "metadata": {},
   "outputs": [],
   "source": [
    "s3.loc[1]"
   ]
  },
  {
   "cell_type": "code",
   "execution_count": null,
   "id": "139ba26a",
   "metadata": {},
   "outputs": [],
   "source": [
    "s3.loc[[1,2]]"
   ]
  },
  {
   "cell_type": "code",
   "execution_count": null,
   "id": "a21479ca",
   "metadata": {},
   "outputs": [],
   "source": [
    "s3[1:4:2]"
   ]
  },
  {
   "cell_type": "code",
   "execution_count": null,
   "id": "d2b04c1a",
   "metadata": {},
   "outputs": [],
   "source": [
    "nn=pd.DataFrame([[14,'Ajay',200,6],[15,'Rachel',500,9],[16,'Olive',600,8]],columns=['emp_id','name','salary','experience'])\n",
    "dfnew=s3.append(nn,ignore_index=True)\n",
    "dfnew"
   ]
  },
  {
   "cell_type": "code",
   "execution_count": null,
   "id": "cea29bee",
   "metadata": {},
   "outputs": [],
   "source": [
    "dfnew[1:6:2]"
   ]
  },
  {
   "cell_type": "code",
   "execution_count": null,
   "id": "42d04490",
   "metadata": {},
   "outputs": [],
   "source": [
    "dfnew.drop(2)"
   ]
  },
  {
   "cell_type": "code",
   "execution_count": null,
   "id": "b494477f",
   "metadata": {},
   "outputs": [],
   "source": [
    "import pandas as pd\n",
    "df=pd.read_csv(\"weather.csv\")\n",
    "df"
   ]
  },
  {
   "cell_type": "code",
   "execution_count": null,
   "id": "24e6f52b",
   "metadata": {},
   "outputs": [],
   "source": [
    "d1={'Date':['01-12-2022','02-12-2022','03-12-2022','04-12-2022','05-12-2022'],\n",
    "  'Temperature':[33,45,34,56,44],\n",
    "  'Humidty':[5,6,7,8,8],\n",
    "   'Weather':['Rain','Snow','Sun','Windy','Snow']}\n",
    "df1=pd.DataFrame(d1)\n",
    "df1"
   ]
  },
  {
   "cell_type": "code",
   "execution_count": null,
   "id": "07392ee9",
   "metadata": {},
   "outputs": [],
   "source": [
    "df1.head(2)"
   ]
  },
  {
   "cell_type": "code",
   "execution_count": null,
   "id": "eb5b521f",
   "metadata": {},
   "outputs": [],
   "source": [
    "df1.columns"
   ]
  },
  {
   "cell_type": "code",
   "execution_count": null,
   "id": "37136482",
   "metadata": {},
   "outputs": [],
   "source": [
    "df1.Humidty"
   ]
  },
  {
   "cell_type": "code",
   "execution_count": null,
   "id": "8cf6ca6a",
   "metadata": {},
   "outputs": [],
   "source": [
    "df1['Humidty']"
   ]
  },
  {
   "cell_type": "code",
   "execution_count": null,
   "id": "094bbce9",
   "metadata": {},
   "outputs": [],
   "source": [
    "df1[['Humidty','Temperature']]"
   ]
  },
  {
   "cell_type": "code",
   "execution_count": null,
   "id": "9deab74b",
   "metadata": {},
   "outputs": [],
   "source": [
    "df1.Temperature.max()"
   ]
  },
  {
   "cell_type": "code",
   "execution_count": null,
   "id": "3d6ef850",
   "metadata": {},
   "outputs": [],
   "source": [
    "df.describe()"
   ]
  },
  {
   "cell_type": "code",
   "execution_count": null,
   "id": "09af2992",
   "metadata": {},
   "outputs": [],
   "source": [
    "df[df.Humidty>5]"
   ]
  },
  {
   "cell_type": "code",
   "execution_count": null,
   "id": "76d8aca6",
   "metadata": {},
   "outputs": [],
   "source": [
    "df[df.Temperature ==df.Temperature.min()]"
   ]
  },
  {
   "cell_type": "code",
   "execution_count": null,
   "id": "67ff7798",
   "metadata": {},
   "outputs": [],
   "source": [
    "df[df.Temperature ==df.Temperature.min()][['Date']] #want date of min temeparrure"
   ]
  },
  {
   "cell_type": "code",
   "execution_count": null,
   "id": "5a472812",
   "metadata": {},
   "outputs": [],
   "source": [
    "df[df.Temperature ==df.Temperature.min()][['Date','Temperature']]"
   ]
  },
  {
   "cell_type": "code",
   "execution_count": null,
   "id": "282d519f",
   "metadata": {},
   "outputs": [],
   "source": [
    "df1.index"
   ]
  },
  {
   "cell_type": "code",
   "execution_count": null,
   "id": "00417e7f",
   "metadata": {},
   "outputs": [],
   "source": [
    "dfnew=df.set_index('Date') #toset index by column\n",
    "dfnew  #if you want to change original use iplace=True"
   ]
  },
  {
   "cell_type": "code",
   "execution_count": null,
   "id": "cb9697a9",
   "metadata": {},
   "outputs": [],
   "source": [
    "dfnew.loc['02-12-2022':'04-12-2022']"
   ]
  },
  {
   "cell_type": "code",
   "execution_count": null,
   "id": "0d9d30bc",
   "metadata": {},
   "outputs": [],
   "source": [
    "dfnew.reset_index(inplace=True)\n",
    "dfnew"
   ]
  },
  {
   "cell_type": "code",
   "execution_count": null,
   "id": "8a062a18",
   "metadata": {},
   "outputs": [],
   "source": [
    "dfnew.to_excel(\"weather.xlsx\")"
   ]
  },
  {
   "cell_type": "code",
   "execution_count": null,
   "id": "53e1c56e",
   "metadata": {},
   "outputs": [],
   "source": [
    "pip install pandas_profiling"
   ]
  },
  {
   "cell_type": "code",
   "execution_count": null,
   "id": "69ea1ab7",
   "metadata": {},
   "outputs": [],
   "source": [
    "import pandas_profiling as prof"
   ]
  },
  {
   "cell_type": "code",
   "execution_count": null,
   "id": "668358ef",
   "metadata": {},
   "outputs": [],
   "source": [
    "p=prof.ProfileReport(df)"
   ]
  },
  {
   "cell_type": "code",
   "execution_count": null,
   "id": "b491db0c",
   "metadata": {},
   "outputs": [],
   "source": [
    "p.to_file(\"ProfileReport.html\")"
   ]
  },
  {
   "cell_type": "code",
   "execution_count": null,
   "id": "1409613e",
   "metadata": {},
   "outputs": [],
   "source": [
    "p"
   ]
  },
  {
   "cell_type": "code",
   "execution_count": null,
   "id": "6c3a88e3",
   "metadata": {},
   "outputs": [],
   "source": [
    "df2=pd.read_csv('weathernew.csv')\n",
    "df2"
   ]
  },
  {
   "cell_type": "code",
   "execution_count": null,
   "id": "ee2549a1",
   "metadata": {},
   "outputs": [],
   "source": [
    "df4=df2.fillna(0)\n",
    "df4"
   ]
  },
  {
   "cell_type": "code",
   "execution_count": null,
   "id": "fb8f1097",
   "metadata": {},
   "outputs": [],
   "source": [
    "df4.info()"
   ]
  },
  {
   "cell_type": "code",
   "execution_count": null,
   "id": "bd86eeca",
   "metadata": {},
   "outputs": [],
   "source": [
    "df5=df2.fillna({\"Temperature\":0,'Humidty':0.0,'Weather':'No Weather'})\n",
    "df5"
   ]
  },
  {
   "cell_type": "code",
   "execution_count": null,
   "id": "25a8472b",
   "metadata": {},
   "outputs": [],
   "source": [
    "#forward filling\n",
    "df2"
   ]
  },
  {
   "cell_type": "code",
   "execution_count": null,
   "id": "24000b01",
   "metadata": {},
   "outputs": [],
   "source": [
    "df6=df2.fillna(method='ffill',axis=1)"
   ]
  },
  {
   "cell_type": "code",
   "execution_count": null,
   "id": "6b7132d4",
   "metadata": {},
   "outputs": [],
   "source": [
    "df6"
   ]
  },
  {
   "cell_type": "code",
   "execution_count": null,
   "id": "95a1768c",
   "metadata": {},
   "outputs": [],
   "source": [
    "df7=df2.fillna(method='bfill') #backward filling\n",
    "df7"
   ]
  },
  {
   "cell_type": "code",
   "execution_count": null,
   "id": "8ea92329",
   "metadata": {},
   "outputs": [],
   "source": [
    "#fill nan value\n",
    "df8=df2.interpolate()"
   ]
  },
  {
   "cell_type": "code",
   "execution_count": null,
   "id": "af27e322",
   "metadata": {
    "scrolled": true
   },
   "outputs": [],
   "source": [
    "df8"
   ]
  },
  {
   "cell_type": "code",
   "execution_count": null,
   "id": "87bbd831",
   "metadata": {},
   "outputs": [],
   "source": [
    "df2.dropna()"
   ]
  },
  {
   "cell_type": "code",
   "execution_count": null,
   "id": "9134129a",
   "metadata": {},
   "outputs": [],
   "source": [
    "df2.isna()"
   ]
  },
  {
   "cell_type": "code",
   "execution_count": null,
   "id": "9d470d47",
   "metadata": {},
   "outputs": [],
   "source": [
    "df2.isnull()"
   ]
  },
  {
   "cell_type": "code",
   "execution_count": null,
   "id": "e147aa87",
   "metadata": {},
   "outputs": [],
   "source": [
    "df2.notna()"
   ]
  },
  {
   "cell_type": "code",
   "execution_count": null,
   "id": "4d9bc4de",
   "metadata": {},
   "outputs": [],
   "source": [
    "df2.dropna(how='any')"
   ]
  },
  {
   "cell_type": "code",
   "execution_count": null,
   "id": "02a7af74",
   "metadata": {},
   "outputs": [],
   "source": [
    "df10=pd.read_excel(\"weatherg.xlsx\",sheet_name='weathernew')\n",
    "df10"
   ]
  },
  {
   "cell_type": "code",
   "execution_count": null,
   "id": "7b0b7bf6",
   "metadata": {},
   "outputs": [],
   "source": [
    "import numpy as np\n",
    "df11=df10.replace([-9999,np.nan])\n",
    "df11"
   ]
  },
  {
   "cell_type": "code",
   "execution_count": null,
   "id": "4f32213d",
   "metadata": {},
   "outputs": [],
   "source": [
    "df11=df10.replace([-9999,-1000],np.nan)\n",
    "df11"
   ]
  },
  {
   "cell_type": "code",
   "execution_count": null,
   "id": "76b13b81",
   "metadata": {},
   "outputs": [],
   "source": [
    "df12=df10.replace({'Temperature':[-9999],'Humidty':[-1000],'Weather':'Nothing'},np.nan)\n",
    "df12"
   ]
  },
  {
   "cell_type": "code",
   "execution_count": null,
   "id": "61f6d8f7",
   "metadata": {},
   "outputs": [],
   "source": [
    "df13=df12.replace({-9999:np.nan,'Snow':'HELLO'})\n",
    "df13"
   ]
  },
  {
   "cell_type": "code",
   "execution_count": null,
   "id": "0d53299f",
   "metadata": {},
   "outputs": [],
   "source": [
    "df15=pd.read_excel(\"weatherg.xlsx\",sheet_name='Sheet3')\n",
    "df15"
   ]
  },
  {
   "cell_type": "code",
   "execution_count": null,
   "id": "3c15f5f5",
   "metadata": {},
   "outputs": [],
   "source": [
    "df16=df15.replace({'Temperature':'[A-Za-z]','Humidty':'[A-Za-z]'},'',regex=True)"
   ]
  },
  {
   "cell_type": "code",
   "execution_count": null,
   "id": "bb93869b",
   "metadata": {},
   "outputs": [],
   "source": [
    "df16"
   ]
  },
  {
   "cell_type": "code",
   "execution_count": null,
   "id": "08e31207",
   "metadata": {},
   "outputs": [],
   "source": [
    "a=list(df16.Weather.unique())"
   ]
  },
  {
   "cell_type": "code",
   "execution_count": null,
   "id": "c7485a27",
   "metadata": {},
   "outputs": [],
   "source": [
    "a"
   ]
  },
  {
   "cell_type": "code",
   "execution_count": null,
   "id": "a2fd05a1",
   "metadata": {},
   "outputs": [],
   "source": [
    "df16.replace(a,range(4))"
   ]
  },
  {
   "cell_type": "code",
   "execution_count": null,
   "id": "8bab9f5c",
   "metadata": {},
   "outputs": [],
   "source": [
    "df16.replace(['Nothing', 'Sun ', 'Snow', 'Windy'],[0,1,2,3])"
   ]
  },
  {
   "cell_type": "code",
   "execution_count": null,
   "id": "972f4aa3",
   "metadata": {},
   "outputs": [],
   "source": [
    "import pandas as pd\n",
    "import numpy as np"
   ]
  },
  {
   "cell_type": "code",
   "execution_count": null,
   "id": "162284b4",
   "metadata": {
    "scrolled": true
   },
   "outputs": [],
   "source": [
    "df1=pd.read_excel(\"weatherg.xlsx\",sheet_name='New')\n",
    "df1"
   ]
  },
  {
   "cell_type": "code",
   "execution_count": null,
   "id": "a9b4e3d6",
   "metadata": {},
   "outputs": [],
   "source": [
    "df1.rename(columns={'Date':'NewDate'},inplace=True)\n",
    "df1"
   ]
  },
  {
   "cell_type": "code",
   "execution_count": null,
   "id": "8297bc55",
   "metadata": {},
   "outputs": [],
   "source": [
    "df1.rename(columns={'NewDate':'MyDate','Temperature':'Temp'},inplace=True) #renaming columns\n",
    "df1"
   ]
  },
  {
   "cell_type": "code",
   "execution_count": null,
   "id": "48c74c09",
   "metadata": {},
   "outputs": [],
   "source": [
    "df1.columns=['Date','City','Temperature','Windspeed','Climate'] #renaming columns\n",
    "df1"
   ]
  },
  {
   "cell_type": "code",
   "execution_count": null,
   "id": "f4e3973d",
   "metadata": {},
   "outputs": [],
   "source": [
    "df1.City.unique()"
   ]
  },
  {
   "cell_type": "code",
   "execution_count": null,
   "id": "df1bd778",
   "metadata": {},
   "outputs": [],
   "source": [
    "mygroup=df1.groupby('City')\n",
    "mygroup"
   ]
  },
  {
   "cell_type": "code",
   "execution_count": null,
   "id": "864d6eb1",
   "metadata": {},
   "outputs": [],
   "source": [
    "for i,j in mygroup:\n",
    "    print(i)\n",
    "    print(j)"
   ]
  },
  {
   "cell_type": "code",
   "execution_count": null,
   "id": "a377e526",
   "metadata": {},
   "outputs": [],
   "source": [
    "mygroup.get_group(\"Delhi \")"
   ]
  },
  {
   "cell_type": "code",
   "execution_count": null,
   "id": "a8172e28",
   "metadata": {},
   "outputs": [],
   "source": [
    "mygroup.first() #prints first entry from each group"
   ]
  },
  {
   "cell_type": "code",
   "execution_count": null,
   "id": "a0d60777",
   "metadata": {},
   "outputs": [],
   "source": [
    "mygroup1=df1.groupby(['City','Climate'])\n",
    "mygroup1"
   ]
  },
  {
   "cell_type": "code",
   "execution_count": null,
   "id": "27846f51",
   "metadata": {},
   "outputs": [],
   "source": [
    "mygroup1.first()"
   ]
  },
  {
   "cell_type": "code",
   "execution_count": null,
   "id": "650f369a",
   "metadata": {},
   "outputs": [],
   "source": [
    "mygroup.max()"
   ]
  },
  {
   "cell_type": "code",
   "execution_count": null,
   "id": "3d194abe",
   "metadata": {},
   "outputs": [],
   "source": [
    "mygroup.min()"
   ]
  },
  {
   "cell_type": "code",
   "execution_count": null,
   "id": "af478b80",
   "metadata": {},
   "outputs": [],
   "source": [
    "mygroup.mean()"
   ]
  },
  {
   "cell_type": "code",
   "execution_count": null,
   "id": "e92bd13b",
   "metadata": {},
   "outputs": [],
   "source": [
    "mygroup.describe()"
   ]
  },
  {
   "cell_type": "code",
   "execution_count": null,
   "id": "a024685d",
   "metadata": {},
   "outputs": [],
   "source": [
    "import matplotlib.pyplot as plt"
   ]
  },
  {
   "cell_type": "code",
   "execution_count": null,
   "id": "84f81d1d",
   "metadata": {},
   "outputs": [],
   "source": [
    "mygroup.plot()"
   ]
  },
  {
   "cell_type": "markdown",
   "id": "05bb8962",
   "metadata": {},
   "source": [
    "## GroupBy"
   ]
  },
  {
   "cell_type": "code",
   "execution_count": null,
   "id": "33a29eff",
   "metadata": {},
   "outputs": [],
   "source": [
    "import pandas as pd, numpy as np"
   ]
  },
  {
   "cell_type": "code",
   "execution_count": null,
   "id": "5a2d12ac",
   "metadata": {},
   "outputs": [],
   "source": [
    "dic={'A':['x','x','y','y','a'] , 'B': ['p','s','p','s','p'], 'C':[11,2,5,3,4] , 'D':[11,2,5,3,4]}\n",
    "\n",
    "x= [['first', 'first','second','third', 'third'] , ['car','car','motor','motor','car']]\n",
    "df=pd.DataFrame(dic)\n",
    "df"
   ]
  },
  {
   "cell_type": "code",
   "execution_count": null,
   "id": "0ae255d5",
   "metadata": {},
   "outputs": [],
   "source": [
    "index_=pd.MultiIndex.from_arrays(x,names=['Rank','Vehicle'])\n",
    "index_"
   ]
  },
  {
   "cell_type": "code",
   "execution_count": null,
   "id": "5c6201a0",
   "metadata": {},
   "outputs": [],
   "source": [
    "df2=pd.DataFrame({'M':['x','x','y','y','a'],'N':[11,2,5,3,4]})\n",
    "df2"
   ]
  },
  {
   "cell_type": "code",
   "execution_count": null,
   "id": "6e74dfb2",
   "metadata": {},
   "outputs": [],
   "source": [
    "df2.groupby(\"M\")[\"N\"].sum()"
   ]
  },
  {
   "cell_type": "code",
   "execution_count": null,
   "id": "9811cc09",
   "metadata": {},
   "outputs": [],
   "source": [
    "df2.groupby(\"M\")[\"N\"].mean()"
   ]
  },
  {
   "cell_type": "code",
   "execution_count": null,
   "id": "a9ac9c5c",
   "metadata": {},
   "outputs": [],
   "source": [
    "df2.groupby(['M']).sum()"
   ]
  },
  {
   "cell_type": "code",
   "execution_count": null,
   "id": "32823194",
   "metadata": {},
   "outputs": [],
   "source": [
    "df2.groupby(['M'],sort=False).sum()"
   ]
  },
  {
   "cell_type": "code",
   "execution_count": null,
   "id": "e634bbe9",
   "metadata": {},
   "outputs": [],
   "source": [
    "df2.groupby(['M'],sort=True).sum()"
   ]
  },
  {
   "cell_type": "code",
   "execution_count": null,
   "id": "170ae42c",
   "metadata": {},
   "outputs": [],
   "source": [
    "#.group to get all groups\n",
    "g=df2.groupby(['M'])\n",
    "g.groups"
   ]
  },
  {
   "cell_type": "code",
   "execution_count": null,
   "id": "00ea033c",
   "metadata": {},
   "outputs": [],
   "source": [
    "g.get_group(\"x\")"
   ]
  },
  {
   "cell_type": "code",
   "execution_count": null,
   "id": "13bf4f42",
   "metadata": {},
   "outputs": [],
   "source": [
    "g.get_group(\"x\").sum()"
   ]
  },
  {
   "cell_type": "code",
   "execution_count": null,
   "id": "ddbb99c2",
   "metadata": {},
   "outputs": [],
   "source": [
    "g.get_group(\"x\")['N'].sum()"
   ]
  },
  {
   "cell_type": "code",
   "execution_count": null,
   "id": "3a73dd7c",
   "metadata": {},
   "outputs": [],
   "source": [
    "df"
   ]
  },
  {
   "cell_type": "code",
   "execution_count": null,
   "id": "0a67bc8f",
   "metadata": {},
   "outputs": [],
   "source": [
    "df.index=index_\n",
    "df"
   ]
  },
  {
   "cell_type": "code",
   "execution_count": null,
   "id": "5c148042",
   "metadata": {},
   "outputs": [],
   "source": [
    "g1=df.groupby(['Rank','Vehicle'])"
   ]
  },
  {
   "cell_type": "code",
   "execution_count": null,
   "id": "1e9262ec",
   "metadata": {},
   "outputs": [],
   "source": [
    "g1.groups"
   ]
  },
  {
   "cell_type": "code",
   "execution_count": null,
   "id": "96fd29dc",
   "metadata": {},
   "outputs": [],
   "source": [
    "g1.get_group(('first', 'car'))"
   ]
  },
  {
   "cell_type": "code",
   "execution_count": null,
   "id": "4fe65bfe",
   "metadata": {},
   "outputs": [],
   "source": [
    "g2=df.groupby(['A','B'])"
   ]
  },
  {
   "cell_type": "code",
   "execution_count": null,
   "id": "3984d6e1",
   "metadata": {},
   "outputs": [],
   "source": [
    "g2.groups"
   ]
  },
  {
   "cell_type": "code",
   "execution_count": null,
   "id": "b8e3dc75",
   "metadata": {},
   "outputs": [],
   "source": [
    "h=dict(g2.groups)\n",
    "type(h)"
   ]
  },
  {
   "cell_type": "code",
   "execution_count": null,
   "id": "d42fb46e",
   "metadata": {},
   "outputs": [],
   "source": [
    "j=dict(g2.groups)\n",
    "j.keys()"
   ]
  },
  {
   "cell_type": "code",
   "execution_count": null,
   "id": "f2d401aa",
   "metadata": {},
   "outputs": [],
   "source": [
    "for i,j in g2:\n",
    "    print(i)\n",
    "    print(j)"
   ]
  },
  {
   "cell_type": "code",
   "execution_count": null,
   "id": "929dfb7e",
   "metadata": {},
   "outputs": [],
   "source": [
    "g3=df['C'].groupby(level=0)"
   ]
  },
  {
   "cell_type": "code",
   "execution_count": null,
   "id": "a0995d42",
   "metadata": {},
   "outputs": [],
   "source": [
    "g3.groups"
   ]
  },
  {
   "cell_type": "code",
   "execution_count": null,
   "id": "65d2e683",
   "metadata": {},
   "outputs": [],
   "source": [
    "g3.sum()"
   ]
  },
  {
   "cell_type": "code",
   "execution_count": null,
   "id": "6316f976",
   "metadata": {},
   "outputs": [],
   "source": [
    "df"
   ]
  },
  {
   "cell_type": "code",
   "execution_count": null,
   "id": "9c76dfcd",
   "metadata": {},
   "outputs": [],
   "source": [
    "g4=df['C'].groupby(level=1)"
   ]
  },
  {
   "cell_type": "code",
   "execution_count": null,
   "id": "43e7ef69",
   "metadata": {},
   "outputs": [],
   "source": [
    "g4.sum()"
   ]
  },
  {
   "cell_type": "code",
   "execution_count": null,
   "id": "79b7e7c4",
   "metadata": {},
   "outputs": [],
   "source": [
    "df['C'].groupby(level=['Rank','Vehicle']).sum()"
   ]
  },
  {
   "cell_type": "code",
   "execution_count": null,
   "id": "b71a7ee5",
   "metadata": {},
   "outputs": [],
   "source": [
    "df['C'].groupby(level=['Rank','Vehicle']).mean()"
   ]
  },
  {
   "cell_type": "code",
   "execution_count": null,
   "id": "6673cde8",
   "metadata": {},
   "outputs": [],
   "source": [
    "g5=df.groupby([pd.Grouper(level=0),'A'])"
   ]
  },
  {
   "cell_type": "code",
   "execution_count": null,
   "id": "612a9b5c",
   "metadata": {},
   "outputs": [],
   "source": [
    "g5.groups"
   ]
  },
  {
   "cell_type": "code",
   "execution_count": null,
   "id": "6e09e78c",
   "metadata": {},
   "outputs": [],
   "source": [
    "g5.sum()"
   ]
  },
  {
   "cell_type": "code",
   "execution_count": null,
   "id": "788dc999",
   "metadata": {},
   "outputs": [],
   "source": [
    "h1=df.groupby(['Rank','A'])"
   ]
  },
  {
   "cell_type": "code",
   "execution_count": null,
   "id": "09a38a09",
   "metadata": {},
   "outputs": [],
   "source": [
    "h1.sum()"
   ]
  },
  {
   "cell_type": "code",
   "execution_count": null,
   "id": "9cfe0b50",
   "metadata": {},
   "outputs": [],
   "source": [
    "g5=df.groupby(\"Rank\")\n",
    "g5.groups"
   ]
  },
  {
   "cell_type": "code",
   "execution_count": null,
   "id": "c51dde98",
   "metadata": {},
   "outputs": [],
   "source": [
    "g5['C'].sum()"
   ]
  },
  {
   "cell_type": "code",
   "execution_count": null,
   "id": "9e4452cb",
   "metadata": {},
   "outputs": [],
   "source": [
    "g5['C'].mean()"
   ]
  },
  {
   "cell_type": "code",
   "execution_count": null,
   "id": "60078b52",
   "metadata": {},
   "outputs": [],
   "source": [
    "df1=df.reset_index()"
   ]
  },
  {
   "cell_type": "code",
   "execution_count": null,
   "id": "131ae9af",
   "metadata": {},
   "outputs": [],
   "source": [
    "df1"
   ]
  },
  {
   "cell_type": "code",
   "execution_count": null,
   "id": "4c37ae12",
   "metadata": {},
   "outputs": [],
   "source": [
    "df1.set_index([\"Rank\",'Vehicle'])"
   ]
  },
  {
   "cell_type": "code",
   "execution_count": null,
   "id": "b00cbf86",
   "metadata": {},
   "outputs": [],
   "source": [
    "d={'Animals':['Cat','Cat','Dog','Dog','Rat'],'Rank':['a','b','a','a','b'],'N':[11,2,3,4,5],'Rate':[10,12,8,9,3]}\n",
    "dff=pd.DataFrame(d)\n",
    "dff"
   ]
  },
  {
   "cell_type": "code",
   "execution_count": null,
   "id": "094f8700",
   "metadata": {},
   "outputs": [],
   "source": [
    "g7_=dff.groupby('Animals')\n",
    "g7_.groups"
   ]
  },
  {
   "cell_type": "code",
   "execution_count": null,
   "id": "aa022220",
   "metadata": {},
   "outputs": [],
   "source": [
    "g7_.sum()"
   ]
  },
  {
   "cell_type": "code",
   "execution_count": null,
   "id": "8ef8d595",
   "metadata": {},
   "outputs": [],
   "source": [
    "g7_.mean()"
   ]
  },
  {
   "cell_type": "code",
   "execution_count": null,
   "id": "64c8d1ea",
   "metadata": {},
   "outputs": [],
   "source": [
    "g7_.aggregate(np.sum)"
   ]
  },
  {
   "cell_type": "code",
   "execution_count": null,
   "id": "c111175e",
   "metadata": {},
   "outputs": [],
   "source": [
    "g7_.agg(np.sum)"
   ]
  },
  {
   "cell_type": "code",
   "execution_count": null,
   "id": "1258a4a8",
   "metadata": {},
   "outputs": [],
   "source": [
    "g8=dff.groupby(['Animals','Rank'])"
   ]
  },
  {
   "cell_type": "code",
   "execution_count": null,
   "id": "90b8813b",
   "metadata": {},
   "outputs": [],
   "source": [
    "g8.agg(np.sum)"
   ]
  },
  {
   "cell_type": "code",
   "execution_count": null,
   "id": "642f9506",
   "metadata": {},
   "outputs": [],
   "source": [
    "g9=dff.groupby('Animals',as_index=False)\n",
    "g9.groups"
   ]
  },
  {
   "cell_type": "code",
   "execution_count": null,
   "id": "4bac2a3c",
   "metadata": {},
   "outputs": [],
   "source": [
    "g7.size()"
   ]
  },
  {
   "cell_type": "code",
   "execution_count": null,
   "id": "d06fb280",
   "metadata": {},
   "outputs": [],
   "source": [
    "g8.describe()"
   ]
  },
  {
   "cell_type": "code",
   "execution_count": null,
   "id": "d7e399df",
   "metadata": {},
   "outputs": [],
   "source": [
    "g8['Rate'].agg([np.sum,np.mean,np.std])"
   ]
  },
  {
   "cell_type": "code",
   "execution_count": null,
   "id": "63d19241",
   "metadata": {},
   "outputs": [],
   "source": [
    "g8['Rate'].agg([np.sum,np.mean,np.std]).rename(columns={'sum':'Total','mean':'Average'})"
   ]
  },
  {
   "cell_type": "markdown",
   "id": "003bd65c",
   "metadata": {},
   "source": [
    " # Pandas New Lecture"
   ]
  },
  {
   "cell_type": "code",
   "execution_count": null,
   "id": "15c49aa3",
   "metadata": {},
   "outputs": [],
   "source": [
    "import pandas as pd, numpy as np\n",
    "d={'Animals':['Cat','Cat','Dog','Dog','Rat'],'Rank':['a','b','a','a','b'],'N':[11,2,3,4,5],'Rate':[10,12,8,9,3]}\n",
    "dff=pd.DataFrame(d)\n",
    "dff"
   ]
  },
  {
   "cell_type": "code",
   "execution_count": null,
   "id": "d265bc49",
   "metadata": {},
   "outputs": [],
   "source": [
    "g3=dff[\"Rate\"].groupby(dff['Animals'])"
   ]
  },
  {
   "cell_type": "code",
   "execution_count": null,
   "id": "696f8986",
   "metadata": {},
   "outputs": [],
   "source": [
    "list(g3)"
   ]
  },
  {
   "cell_type": "code",
   "execution_count": null,
   "id": "f0607e06",
   "metadata": {},
   "outputs": [],
   "source": [
    "g4=dff[\"Rate\"].groupby([dff['Animals'],dff['Rank']])"
   ]
  },
  {
   "cell_type": "code",
   "execution_count": null,
   "id": "c1a5ee3a",
   "metadata": {},
   "outputs": [],
   "source": [
    "list(g4)"
   ]
  },
  {
   "cell_type": "code",
   "execution_count": null,
   "id": "512d481e",
   "metadata": {},
   "outputs": [],
   "source": [
    "dff[\"N\"].groupby([dff['Animals'],dff['Rank']]).mean()"
   ]
  },
  {
   "cell_type": "code",
   "execution_count": null,
   "id": "fad1d174",
   "metadata": {},
   "outputs": [],
   "source": [
    "import math"
   ]
  },
  {
   "cell_type": "code",
   "execution_count": null,
   "id": "6ecdf536",
   "metadata": {
    "scrolled": true
   },
   "outputs": [],
   "source": [
    "list(g3)"
   ]
  },
  {
   "cell_type": "code",
   "execution_count": null,
   "id": "f2f37f53",
   "metadata": {},
   "outputs": [],
   "source": [
    "np.log2(10)"
   ]
  },
  {
   "cell_type": "code",
   "execution_count": null,
   "id": "deaa9773",
   "metadata": {
    "scrolled": true
   },
   "outputs": [],
   "source": [
    "dff.groupby('Animals').apply(lambda y: np.log2(y['Rate']))"
   ]
  },
  {
   "cell_type": "code",
   "execution_count": null,
   "id": "b7eac007",
   "metadata": {},
   "outputs": [],
   "source": [
    "dff.groupby('Animals').apply(lambda y: np.mean(np.log2(y['Rate'])))"
   ]
  },
  {
   "cell_type": "code",
   "execution_count": null,
   "id": "2033a20d",
   "metadata": {},
   "outputs": [],
   "source": [
    "(3.321928+3.584963)/2"
   ]
  },
  {
   "cell_type": "code",
   "execution_count": null,
   "id": "d9ee126c",
   "metadata": {},
   "outputs": [],
   "source": [
    "dff.groupby('Animals').apply(lambda y: np.max(np.log2(y['Rate'])))"
   ]
  },
  {
   "cell_type": "code",
   "execution_count": null,
   "id": "4f627a64",
   "metadata": {},
   "outputs": [],
   "source": [
    "df = pd.DataFrame({'cat': ['A', 'A', 'A', 'B', 'B', 'B', 'B'],\n",
    "                   'pf': [18, 22, 19, 14, 11, 20, 28],\n",
    "                   'pt': [14, 21, 19, 14, 12, 20, 21]})\n",
    "df"
   ]
  },
  {
   "cell_type": "code",
   "execution_count": null,
   "id": "8b90bab0",
   "metadata": {},
   "outputs": [],
   "source": [
    "df.groupby(\"cat\").apply(lambda x:np.max(x['pf']))"
   ]
  },
  {
   "cell_type": "code",
   "execution_count": null,
   "id": "816e24f8",
   "metadata": {},
   "outputs": [],
   "source": [
    "df.groupby(\"cat\").apply(lambda x:(x['pf'].max()))"
   ]
  },
  {
   "cell_type": "code",
   "execution_count": null,
   "id": "da89a086",
   "metadata": {},
   "outputs": [],
   "source": [
    "df.groupby(\"cat\").apply(lambda x:(x['pf']-x['pt'])*10)"
   ]
  },
  {
   "cell_type": "code",
   "execution_count": null,
   "id": "d684a471",
   "metadata": {},
   "outputs": [],
   "source": [
    "df.groupby(\"cat\").apply(lambda x:(x['pf']-x['pt'])*10).mean()"
   ]
  },
  {
   "cell_type": "code",
   "execution_count": null,
   "id": "62f8d613",
   "metadata": {},
   "outputs": [],
   "source": [
    "df.groupby(\"cat\").agg(['sum','min','max'])"
   ]
  },
  {
   "cell_type": "code",
   "execution_count": null,
   "id": "c2b3eb99",
   "metadata": {},
   "outputs": [],
   "source": [
    "df.groupby(\"cat\").agg([np.sum,np.mean,np.std])"
   ]
  },
  {
   "cell_type": "code",
   "execution_count": null,
   "id": "42e9e19f",
   "metadata": {},
   "outputs": [],
   "source": [
    "df.groupby(\"cat\").filter(lambda x:(len(x)<4))"
   ]
  },
  {
   "cell_type": "code",
   "execution_count": null,
   "id": "8fa83c04",
   "metadata": {},
   "outputs": [],
   "source": [
    "df1=pd.DataFrame({'City':['Mumbai','Delhi','Gurgaon'],'Temperature':[45,56,56],'Windspeed':[10,20,15]})\n",
    "df2=pd.DataFrame({'City':['Mumbai','Jaipur','Goa'],'Temperature':[22,35,25],'Windspeed':[17,11,18]})\n",
    "print(df1)\n",
    "print(df2)"
   ]
  },
  {
   "cell_type": "code",
   "execution_count": null,
   "id": "7a95924f",
   "metadata": {},
   "outputs": [],
   "source": [
    "x1=pd.concat([df1,df2])\n",
    "x1"
   ]
  },
  {
   "cell_type": "code",
   "execution_count": null,
   "id": "783a3008",
   "metadata": {},
   "outputs": [],
   "source": [
    "y=[x1,df2,df1]"
   ]
  },
  {
   "cell_type": "code",
   "execution_count": null,
   "id": "56fe7b0f",
   "metadata": {},
   "outputs": [],
   "source": [
    "pd.concat(y) #simply it is concatenating one below the other"
   ]
  },
  {
   "cell_type": "code",
   "execution_count": null,
   "id": "e721438a",
   "metadata": {},
   "outputs": [],
   "source": [
    "output=pd.concat(y,keys=['first','second','third'])\n",
    "output"
   ]
  },
  {
   "cell_type": "code",
   "execution_count": null,
   "id": "779bc1f8",
   "metadata": {},
   "outputs": [],
   "source": [
    "output.loc[\"first\":'second']"
   ]
  },
  {
   "cell_type": "code",
   "execution_count": null,
   "id": "f86651b9",
   "metadata": {},
   "outputs": [],
   "source": [
    "df1=pd.DataFrame({'City':['Mumbai','Delhi','Gurgaon','Haryana'],'Temperature':[45,56,56,66],'Windspeed':[10,20,15,4]})\n",
    "df2=pd.DataFrame({'City':['Mumbai','Jaipur','Goa'],'Temperature':[22,35,25],'Windspeed':[17,11,18]})\n",
    "print(df1)\n",
    "print(df2)"
   ]
  },
  {
   "cell_type": "code",
   "execution_count": null,
   "id": "e9e3643a",
   "metadata": {
    "scrolled": true
   },
   "outputs": [],
   "source": [
    "y2=pd.concat([df1,df2],axis=1)\n",
    "y2"
   ]
  },
  {
   "cell_type": "code",
   "execution_count": null,
   "id": "e95c7927",
   "metadata": {},
   "outputs": [],
   "source": [
    "pd.concat([df1,df2],axis=1, join='inner')"
   ]
  },
  {
   "cell_type": "code",
   "execution_count": null,
   "id": "a16c02f1",
   "metadata": {},
   "outputs": [],
   "source": [
    "pd.concat([df1,df2], ignore_index=True)"
   ]
  },
  {
   "cell_type": "code",
   "execution_count": null,
   "id": "03fb4f42",
   "metadata": {},
   "outputs": [],
   "source": [
    "df_temp=pd.DataFrame({'City':['Mumbai','Delhi','Gurgaon'],'Temperature':[45,56,66]})\n",
    "df_wind=pd.DataFrame({'City':['Mumbai','Jaipur','Goa'],'Windspeed':[17,11,18]})\n",
    "print(df_temp)\n",
    "print(df_wind)"
   ]
  },
  {
   "cell_type": "code",
   "execution_count": null,
   "id": "5becad65",
   "metadata": {},
   "outputs": [],
   "source": [
    "newvar=pd.concat([df_temp,df_wind], ignore_index=True)\n",
    "newvar"
   ]
  },
  {
   "cell_type": "code",
   "execution_count": null,
   "id": "9f0d69e0",
   "metadata": {},
   "outputs": [],
   "source": [
    "pd.concat([df_temp,df_wind], axis=1)"
   ]
  },
  {
   "cell_type": "code",
   "execution_count": null,
   "id": "2eff7e01",
   "metadata": {},
   "outputs": [],
   "source": [
    "a=pd.Series(['Rainy','Snow','Sunny'], name='weather')"
   ]
  },
  {
   "cell_type": "code",
   "execution_count": null,
   "id": "86fe6ea0",
   "metadata": {},
   "outputs": [],
   "source": [
    "pd.concat([newvar,a], axis=1)"
   ]
  },
  {
   "cell_type": "code",
   "execution_count": null,
   "id": "c6a120fc",
   "metadata": {},
   "outputs": [],
   "source": [
    "pd.concat([newvar,a], ignore_index=True)"
   ]
  },
  {
   "cell_type": "code",
   "execution_count": 2,
   "id": "32e32aed",
   "metadata": {},
   "outputs": [],
   "source": [
    "x1=pd.Series(['Rainy','Snow','Sunny'], name='weather')\n",
    "x2=pd.Series(['Winter','Autumn','Summer'], name='Season')\n",
    "x3=pd.Series(['North','South','East'], name='Region')"
   ]
  },
  {
   "cell_type": "code",
   "execution_count": 3,
   "id": "5c905b86",
   "metadata": {},
   "outputs": [
    {
     "data": {
      "text/html": [
       "<div>\n",
       "<style scoped>\n",
       "    .dataframe tbody tr th:only-of-type {\n",
       "        vertical-align: middle;\n",
       "    }\n",
       "\n",
       "    .dataframe tbody tr th {\n",
       "        vertical-align: top;\n",
       "    }\n",
       "\n",
       "    .dataframe thead th {\n",
       "        text-align: right;\n",
       "    }\n",
       "</style>\n",
       "<table border=\"1\" class=\"dataframe\">\n",
       "  <thead>\n",
       "    <tr style=\"text-align: right;\">\n",
       "      <th></th>\n",
       "      <th>weather</th>\n",
       "      <th>Season</th>\n",
       "      <th>Region</th>\n",
       "    </tr>\n",
       "  </thead>\n",
       "  <tbody>\n",
       "    <tr>\n",
       "      <th>0</th>\n",
       "      <td>Rainy</td>\n",
       "      <td>Winter</td>\n",
       "      <td>North</td>\n",
       "    </tr>\n",
       "    <tr>\n",
       "      <th>1</th>\n",
       "      <td>Snow</td>\n",
       "      <td>Autumn</td>\n",
       "      <td>South</td>\n",
       "    </tr>\n",
       "    <tr>\n",
       "      <th>2</th>\n",
       "      <td>Sunny</td>\n",
       "      <td>Summer</td>\n",
       "      <td>East</td>\n",
       "    </tr>\n",
       "  </tbody>\n",
       "</table>\n",
       "</div>"
      ],
      "text/plain": [
       "  weather  Season Region\n",
       "0   Rainy  Winter  North\n",
       "1    Snow  Autumn  South\n",
       "2   Sunny  Summer   East"
      ]
     },
     "execution_count": 3,
     "metadata": {},
     "output_type": "execute_result"
    }
   ],
   "source": [
    "pd.concat([x1,x2,x3],axis=1)"
   ]
  },
  {
   "cell_type": "code",
   "execution_count": 4,
   "id": "f924ea54",
   "metadata": {},
   "outputs": [
    {
     "data": {
      "text/html": [
       "<div>\n",
       "<style scoped>\n",
       "    .dataframe tbody tr th:only-of-type {\n",
       "        vertical-align: middle;\n",
       "    }\n",
       "\n",
       "    .dataframe tbody tr th {\n",
       "        vertical-align: top;\n",
       "    }\n",
       "\n",
       "    .dataframe thead th {\n",
       "        text-align: right;\n",
       "    }\n",
       "</style>\n",
       "<table border=\"1\" class=\"dataframe\">\n",
       "  <thead>\n",
       "    <tr style=\"text-align: right;\">\n",
       "      <th></th>\n",
       "      <th>a</th>\n",
       "      <th>b</th>\n",
       "      <th>c</th>\n",
       "    </tr>\n",
       "  </thead>\n",
       "  <tbody>\n",
       "    <tr>\n",
       "      <th>0</th>\n",
       "      <td>Rainy</td>\n",
       "      <td>Winter</td>\n",
       "      <td>North</td>\n",
       "    </tr>\n",
       "    <tr>\n",
       "      <th>1</th>\n",
       "      <td>Snow</td>\n",
       "      <td>Autumn</td>\n",
       "      <td>South</td>\n",
       "    </tr>\n",
       "    <tr>\n",
       "      <th>2</th>\n",
       "      <td>Sunny</td>\n",
       "      <td>Summer</td>\n",
       "      <td>East</td>\n",
       "    </tr>\n",
       "  </tbody>\n",
       "</table>\n",
       "</div>"
      ],
      "text/plain": [
       "       a       b      c\n",
       "0  Rainy  Winter  North\n",
       "1   Snow  Autumn  South\n",
       "2  Sunny  Summer   East"
      ]
     },
     "execution_count": 4,
     "metadata": {},
     "output_type": "execute_result"
    }
   ],
   "source": [
    "pd.concat([x1,x2,x3],axis=1, keys=['a','b','c'])"
   ]
  },
  {
   "cell_type": "code",
   "execution_count": 1,
   "id": "c1fdba7c",
   "metadata": {},
   "outputs": [],
   "source": [
    "import pandas as pd, numpy as np"
   ]
  },
  {
   "cell_type": "code",
   "execution_count": 5,
   "id": "094e962b",
   "metadata": {},
   "outputs": [
    {
     "data": {
      "text/plain": [
       "0     Rainy\n",
       "1      Snow\n",
       "2     Sunny\n",
       "0    Winter\n",
       "1    Autumn\n",
       "2    Summer\n",
       "0     North\n",
       "1     South\n",
       "2      East\n",
       "dtype: object"
      ]
     },
     "execution_count": 5,
     "metadata": {},
     "output_type": "execute_result"
    }
   ],
   "source": [
    "x1.append([x2,x3])"
   ]
  },
  {
   "cell_type": "markdown",
   "id": "b38aa250",
   "metadata": {},
   "source": [
    "### Merge"
   ]
  },
  {
   "cell_type": "code",
   "execution_count": 25,
   "id": "dc08fc4a",
   "metadata": {
    "scrolled": false
   },
   "outputs": [
    {
     "data": {
      "text/html": [
       "<div>\n",
       "<style scoped>\n",
       "    .dataframe tbody tr th:only-of-type {\n",
       "        vertical-align: middle;\n",
       "    }\n",
       "\n",
       "    .dataframe tbody tr th {\n",
       "        vertical-align: top;\n",
       "    }\n",
       "\n",
       "    .dataframe thead th {\n",
       "        text-align: right;\n",
       "    }\n",
       "</style>\n",
       "<table border=\"1\" class=\"dataframe\">\n",
       "  <thead>\n",
       "    <tr style=\"text-align: right;\">\n",
       "      <th></th>\n",
       "      <th>City</th>\n",
       "      <th>Temperature</th>\n",
       "    </tr>\n",
       "  </thead>\n",
       "  <tbody>\n",
       "    <tr>\n",
       "      <th>0</th>\n",
       "      <td>Mumbai</td>\n",
       "      <td>45</td>\n",
       "    </tr>\n",
       "    <tr>\n",
       "      <th>1</th>\n",
       "      <td>Delhi</td>\n",
       "      <td>56</td>\n",
       "    </tr>\n",
       "    <tr>\n",
       "      <th>2</th>\n",
       "      <td>Gurgaon</td>\n",
       "      <td>56</td>\n",
       "    </tr>\n",
       "    <tr>\n",
       "      <th>3</th>\n",
       "      <td>Haryana</td>\n",
       "      <td>66</td>\n",
       "    </tr>\n",
       "  </tbody>\n",
       "</table>\n",
       "</div>"
      ],
      "text/plain": [
       "      City  Temperature\n",
       "0   Mumbai           45\n",
       "1    Delhi           56\n",
       "2  Gurgaon           56\n",
       "3  Haryana           66"
      ]
     },
     "execution_count": 25,
     "metadata": {},
     "output_type": "execute_result"
    }
   ],
   "source": [
    "import pandas as pd, numpy as np\n",
    "df1=pd.DataFrame({'City':['Mumbai','Delhi','Gurgaon','Haryana'],'Temperature':[45,56,56,66]})\n",
    "df2=pd.DataFrame({'City':['Mumbai','Delhi','Gurgaon','Haryana'],'Windspeed':[17,11,18,65]})\n",
    "df1"
   ]
  },
  {
   "cell_type": "code",
   "execution_count": 26,
   "id": "eaa0f837",
   "metadata": {
    "scrolled": false
   },
   "outputs": [
    {
     "data": {
      "text/html": [
       "<div>\n",
       "<style scoped>\n",
       "    .dataframe tbody tr th:only-of-type {\n",
       "        vertical-align: middle;\n",
       "    }\n",
       "\n",
       "    .dataframe tbody tr th {\n",
       "        vertical-align: top;\n",
       "    }\n",
       "\n",
       "    .dataframe thead th {\n",
       "        text-align: right;\n",
       "    }\n",
       "</style>\n",
       "<table border=\"1\" class=\"dataframe\">\n",
       "  <thead>\n",
       "    <tr style=\"text-align: right;\">\n",
       "      <th></th>\n",
       "      <th>City</th>\n",
       "      <th>Windspeed</th>\n",
       "    </tr>\n",
       "  </thead>\n",
       "  <tbody>\n",
       "    <tr>\n",
       "      <th>0</th>\n",
       "      <td>Mumbai</td>\n",
       "      <td>17</td>\n",
       "    </tr>\n",
       "    <tr>\n",
       "      <th>1</th>\n",
       "      <td>Delhi</td>\n",
       "      <td>11</td>\n",
       "    </tr>\n",
       "    <tr>\n",
       "      <th>2</th>\n",
       "      <td>Gurgaon</td>\n",
       "      <td>18</td>\n",
       "    </tr>\n",
       "    <tr>\n",
       "      <th>3</th>\n",
       "      <td>Haryana</td>\n",
       "      <td>65</td>\n",
       "    </tr>\n",
       "  </tbody>\n",
       "</table>\n",
       "</div>"
      ],
      "text/plain": [
       "      City  Windspeed\n",
       "0   Mumbai         17\n",
       "1    Delhi         11\n",
       "2  Gurgaon         18\n",
       "3  Haryana         65"
      ]
     },
     "execution_count": 26,
     "metadata": {},
     "output_type": "execute_result"
    }
   ],
   "source": [
    "df2"
   ]
  },
  {
   "cell_type": "code",
   "execution_count": 17,
   "id": "bc031729",
   "metadata": {},
   "outputs": [],
   "source": [
    "import pandas as pd, numpy as np\n",
    "df_1=pd.DataFrame({'City':['Mumbai','Delhi','Gurgaon','Haryana','Surat'],'Temperature':[45,56,56,66,38]})\n",
    "df_2=pd.DataFrame({'City':['Mumbai','Delhi','Gurgaon','Haryana','Surat'],'Windspeed':[17,11,18,65,np.nan]})\n"
   ]
  },
  {
   "cell_type": "code",
   "execution_count": 27,
   "id": "3b6714ee",
   "metadata": {
    "scrolled": true
   },
   "outputs": [
    {
     "data": {
      "text/html": [
       "<div>\n",
       "<style scoped>\n",
       "    .dataframe tbody tr th:only-of-type {\n",
       "        vertical-align: middle;\n",
       "    }\n",
       "\n",
       "    .dataframe tbody tr th {\n",
       "        vertical-align: top;\n",
       "    }\n",
       "\n",
       "    .dataframe thead th {\n",
       "        text-align: right;\n",
       "    }\n",
       "</style>\n",
       "<table border=\"1\" class=\"dataframe\">\n",
       "  <thead>\n",
       "    <tr style=\"text-align: right;\">\n",
       "      <th></th>\n",
       "      <th>City</th>\n",
       "      <th>Temperature</th>\n",
       "      <th>Windspeed</th>\n",
       "    </tr>\n",
       "  </thead>\n",
       "  <tbody>\n",
       "    <tr>\n",
       "      <th>0</th>\n",
       "      <td>Mumbai</td>\n",
       "      <td>45</td>\n",
       "      <td>17</td>\n",
       "    </tr>\n",
       "    <tr>\n",
       "      <th>1</th>\n",
       "      <td>Delhi</td>\n",
       "      <td>56</td>\n",
       "      <td>11</td>\n",
       "    </tr>\n",
       "    <tr>\n",
       "      <th>2</th>\n",
       "      <td>Gurgaon</td>\n",
       "      <td>56</td>\n",
       "      <td>18</td>\n",
       "    </tr>\n",
       "    <tr>\n",
       "      <th>3</th>\n",
       "      <td>Haryana</td>\n",
       "      <td>66</td>\n",
       "      <td>65</td>\n",
       "    </tr>\n",
       "  </tbody>\n",
       "</table>\n",
       "</div>"
      ],
      "text/plain": [
       "      City  Temperature  Windspeed\n",
       "0   Mumbai           45         17\n",
       "1    Delhi           56         11\n",
       "2  Gurgaon           56         18\n",
       "3  Haryana           66         65"
      ]
     },
     "execution_count": 27,
     "metadata": {},
     "output_type": "execute_result"
    }
   ],
   "source": [
    "df3=pd.merge(df1,df2, on='City',how = 'inner')\n",
    "df3"
   ]
  },
  {
   "cell_type": "code",
   "execution_count": 30,
   "id": "f4cc740c",
   "metadata": {},
   "outputs": [
    {
     "data": {
      "text/html": [
       "<div>\n",
       "<style scoped>\n",
       "    .dataframe tbody tr th:only-of-type {\n",
       "        vertical-align: middle;\n",
       "    }\n",
       "\n",
       "    .dataframe tbody tr th {\n",
       "        vertical-align: top;\n",
       "    }\n",
       "\n",
       "    .dataframe thead th {\n",
       "        text-align: right;\n",
       "    }\n",
       "</style>\n",
       "<table border=\"1\" class=\"dataframe\">\n",
       "  <thead>\n",
       "    <tr style=\"text-align: right;\">\n",
       "      <th></th>\n",
       "      <th>City</th>\n",
       "      <th>Temperature</th>\n",
       "      <th>Windspeed</th>\n",
       "    </tr>\n",
       "  </thead>\n",
       "  <tbody>\n",
       "    <tr>\n",
       "      <th>0</th>\n",
       "      <td>Mumbai</td>\n",
       "      <td>45</td>\n",
       "      <td>17.0</td>\n",
       "    </tr>\n",
       "    <tr>\n",
       "      <th>1</th>\n",
       "      <td>Delhi</td>\n",
       "      <td>56</td>\n",
       "      <td>11.0</td>\n",
       "    </tr>\n",
       "    <tr>\n",
       "      <th>2</th>\n",
       "      <td>Gurgaon</td>\n",
       "      <td>56</td>\n",
       "      <td>18.0</td>\n",
       "    </tr>\n",
       "    <tr>\n",
       "      <th>3</th>\n",
       "      <td>Haryana</td>\n",
       "      <td>66</td>\n",
       "      <td>65.0</td>\n",
       "    </tr>\n",
       "    <tr>\n",
       "      <th>4</th>\n",
       "      <td>Surat</td>\n",
       "      <td>38</td>\n",
       "      <td>NaN</td>\n",
       "    </tr>\n",
       "  </tbody>\n",
       "</table>\n",
       "</div>"
      ],
      "text/plain": [
       "      City  Temperature  Windspeed\n",
       "0   Mumbai           45       17.0\n",
       "1    Delhi           56       11.0\n",
       "2  Gurgaon           56       18.0\n",
       "3  Haryana           66       65.0\n",
       "4    Surat           38        NaN"
      ]
     },
     "execution_count": 30,
     "metadata": {},
     "output_type": "execute_result"
    }
   ],
   "source": [
    "df6=pd.merge(df_1,df_2, on='City', how='outer')\n",
    "df6"
   ]
  },
  {
   "cell_type": "code",
   "execution_count": 32,
   "id": "990577c2",
   "metadata": {},
   "outputs": [
    {
     "data": {
      "text/html": [
       "<div>\n",
       "<style scoped>\n",
       "    .dataframe tbody tr th:only-of-type {\n",
       "        vertical-align: middle;\n",
       "    }\n",
       "\n",
       "    .dataframe tbody tr th {\n",
       "        vertical-align: top;\n",
       "    }\n",
       "\n",
       "    .dataframe thead th {\n",
       "        text-align: right;\n",
       "    }\n",
       "</style>\n",
       "<table border=\"1\" class=\"dataframe\">\n",
       "  <thead>\n",
       "    <tr style=\"text-align: right;\">\n",
       "      <th></th>\n",
       "      <th>City</th>\n",
       "      <th>Temperature</th>\n",
       "      <th>Windspeed</th>\n",
       "    </tr>\n",
       "  </thead>\n",
       "  <tbody>\n",
       "    <tr>\n",
       "      <th>0</th>\n",
       "      <td>Mumbai</td>\n",
       "      <td>45</td>\n",
       "      <td>17.0</td>\n",
       "    </tr>\n",
       "    <tr>\n",
       "      <th>1</th>\n",
       "      <td>Delhi</td>\n",
       "      <td>56</td>\n",
       "      <td>11.0</td>\n",
       "    </tr>\n",
       "    <tr>\n",
       "      <th>2</th>\n",
       "      <td>Gurgaon</td>\n",
       "      <td>56</td>\n",
       "      <td>18.0</td>\n",
       "    </tr>\n",
       "    <tr>\n",
       "      <th>3</th>\n",
       "      <td>Haryana</td>\n",
       "      <td>66</td>\n",
       "      <td>65.0</td>\n",
       "    </tr>\n",
       "    <tr>\n",
       "      <th>4</th>\n",
       "      <td>Surat</td>\n",
       "      <td>38</td>\n",
       "      <td>NaN</td>\n",
       "    </tr>\n",
       "  </tbody>\n",
       "</table>\n",
       "</div>"
      ],
      "text/plain": [
       "      City  Temperature  Windspeed\n",
       "0   Mumbai           45       17.0\n",
       "1    Delhi           56       11.0\n",
       "2  Gurgaon           56       18.0\n",
       "3  Haryana           66       65.0\n",
       "4    Surat           38        NaN"
      ]
     },
     "execution_count": 32,
     "metadata": {},
     "output_type": "execute_result"
    }
   ],
   "source": [
    "pd.merge(df_1,df_2, on='City', how='right')\n"
   ]
  },
  {
   "cell_type": "code",
   "execution_count": 35,
   "id": "ed45b011",
   "metadata": {},
   "outputs": [
    {
     "name": "stdout",
     "output_type": "stream",
     "text": [
      "      City  Temperature\n",
      "0   Mumbai           45\n",
      "1    Delhi           56\n",
      "2  Gurgaon           56\n",
      "3  Haryana           66\n",
      "4    Surat           66\n",
      "      City  Windspeed\n",
      "0  Chennai         17\n",
      "1   Mumbai         11\n",
      "2    Delhi         18\n",
      "3  Gurgaon         65\n",
      "4  Haryana         66\n"
     ]
    }
   ],
   "source": [
    "df_1=pd.DataFrame({'City':['Mumbai','Delhi','Gurgaon','Haryana','Surat'],'Temperature':[45,56,56,66,66]})\n",
    "df_2=pd.DataFrame({'City':['Chennai','Mumbai','Delhi','Gurgaon','Haryana'],'Windspeed':[17,11,18,65,66]})\n",
    "print(df_1)\n",
    "print(df_2)"
   ]
  },
  {
   "cell_type": "code",
   "execution_count": 36,
   "id": "13d5557e",
   "metadata": {},
   "outputs": [
    {
     "data": {
      "text/html": [
       "<div>\n",
       "<style scoped>\n",
       "    .dataframe tbody tr th:only-of-type {\n",
       "        vertical-align: middle;\n",
       "    }\n",
       "\n",
       "    .dataframe tbody tr th {\n",
       "        vertical-align: top;\n",
       "    }\n",
       "\n",
       "    .dataframe thead th {\n",
       "        text-align: right;\n",
       "    }\n",
       "</style>\n",
       "<table border=\"1\" class=\"dataframe\">\n",
       "  <thead>\n",
       "    <tr style=\"text-align: right;\">\n",
       "      <th></th>\n",
       "      <th>City</th>\n",
       "      <th>Temperature</th>\n",
       "      <th>Windspeed</th>\n",
       "    </tr>\n",
       "  </thead>\n",
       "  <tbody>\n",
       "    <tr>\n",
       "      <th>0</th>\n",
       "      <td>Chennai</td>\n",
       "      <td>NaN</td>\n",
       "      <td>17</td>\n",
       "    </tr>\n",
       "    <tr>\n",
       "      <th>1</th>\n",
       "      <td>Mumbai</td>\n",
       "      <td>45.0</td>\n",
       "      <td>11</td>\n",
       "    </tr>\n",
       "    <tr>\n",
       "      <th>2</th>\n",
       "      <td>Delhi</td>\n",
       "      <td>56.0</td>\n",
       "      <td>18</td>\n",
       "    </tr>\n",
       "    <tr>\n",
       "      <th>3</th>\n",
       "      <td>Gurgaon</td>\n",
       "      <td>56.0</td>\n",
       "      <td>65</td>\n",
       "    </tr>\n",
       "    <tr>\n",
       "      <th>4</th>\n",
       "      <td>Haryana</td>\n",
       "      <td>66.0</td>\n",
       "      <td>66</td>\n",
       "    </tr>\n",
       "  </tbody>\n",
       "</table>\n",
       "</div>"
      ],
      "text/plain": [
       "      City  Temperature  Windspeed\n",
       "0  Chennai          NaN         17\n",
       "1   Mumbai         45.0         11\n",
       "2    Delhi         56.0         18\n",
       "3  Gurgaon         56.0         65\n",
       "4  Haryana         66.0         66"
      ]
     },
     "execution_count": 36,
     "metadata": {},
     "output_type": "execute_result"
    }
   ],
   "source": [
    "df_new=pd.merge(df_1,df_2, on='City',how='right')\n",
    "df_new"
   ]
  },
  {
   "cell_type": "code",
   "execution_count": 42,
   "id": "86c13f63",
   "metadata": {},
   "outputs": [
    {
     "data": {
      "text/html": [
       "<div>\n",
       "<style scoped>\n",
       "    .dataframe tbody tr th:only-of-type {\n",
       "        vertical-align: middle;\n",
       "    }\n",
       "\n",
       "    .dataframe tbody tr th {\n",
       "        vertical-align: top;\n",
       "    }\n",
       "\n",
       "    .dataframe thead th {\n",
       "        text-align: right;\n",
       "    }\n",
       "</style>\n",
       "<table border=\"1\" class=\"dataframe\">\n",
       "  <thead>\n",
       "    <tr style=\"text-align: right;\">\n",
       "      <th></th>\n",
       "      <th>City</th>\n",
       "      <th>Temperature</th>\n",
       "      <th>Windspeed</th>\n",
       "      <th>_merge</th>\n",
       "    </tr>\n",
       "  </thead>\n",
       "  <tbody>\n",
       "    <tr>\n",
       "      <th>0</th>\n",
       "      <td>Mumbai</td>\n",
       "      <td>45.0</td>\n",
       "      <td>11.0</td>\n",
       "      <td>both</td>\n",
       "    </tr>\n",
       "    <tr>\n",
       "      <th>1</th>\n",
       "      <td>Delhi</td>\n",
       "      <td>56.0</td>\n",
       "      <td>18.0</td>\n",
       "      <td>both</td>\n",
       "    </tr>\n",
       "    <tr>\n",
       "      <th>2</th>\n",
       "      <td>Gurgaon</td>\n",
       "      <td>56.0</td>\n",
       "      <td>65.0</td>\n",
       "      <td>both</td>\n",
       "    </tr>\n",
       "    <tr>\n",
       "      <th>3</th>\n",
       "      <td>Haryana</td>\n",
       "      <td>66.0</td>\n",
       "      <td>66.0</td>\n",
       "      <td>both</td>\n",
       "    </tr>\n",
       "    <tr>\n",
       "      <th>4</th>\n",
       "      <td>Surat</td>\n",
       "      <td>66.0</td>\n",
       "      <td>NaN</td>\n",
       "      <td>left_only</td>\n",
       "    </tr>\n",
       "    <tr>\n",
       "      <th>5</th>\n",
       "      <td>Chennai</td>\n",
       "      <td>NaN</td>\n",
       "      <td>17.0</td>\n",
       "      <td>right_only</td>\n",
       "    </tr>\n",
       "  </tbody>\n",
       "</table>\n",
       "</div>"
      ],
      "text/plain": [
       "      City  Temperature  Windspeed      _merge\n",
       "0   Mumbai         45.0       11.0        both\n",
       "1    Delhi         56.0       18.0        both\n",
       "2  Gurgaon         56.0       65.0        both\n",
       "3  Haryana         66.0       66.0        both\n",
       "4    Surat         66.0        NaN   left_only\n",
       "5  Chennai          NaN       17.0  right_only"
      ]
     },
     "execution_count": 42,
     "metadata": {},
     "output_type": "execute_result"
    }
   ],
   "source": [
    "pd.merge(df_1,df_2, on='City',how='outer',indicator=True)"
   ]
  },
  {
   "cell_type": "code",
   "execution_count": 43,
   "id": "7c9a09af",
   "metadata": {},
   "outputs": [
    {
     "name": "stdout",
     "output_type": "stream",
     "text": [
      "      City  Temperature   k\n",
      "0   Mumbai           45  k1\n",
      "1    Delhi           56  k2\n",
      "2  Gurgaon           56  k1\n",
      "3  Haryana           66  k2\n",
      "4    Surat           66  k1\n",
      "      City  Windspeed   k\n",
      "0  Chennai         17  k1\n",
      "1   Mumbai         11  k1\n",
      "2    Delhi         18  k1\n",
      "3  Gurgaon         65  k1\n",
      "4  Haryana         66  k1\n"
     ]
    }
   ],
   "source": [
    "df_1_=pd.DataFrame({'City':['Mumbai','Delhi','Gurgaon','Haryana','Surat'],'Temperature':[45,56,56,66,66],\"k\":['k1','k2','k1','k2','k1']})\n",
    "df_2_=pd.DataFrame({'City':['Chennai','Mumbai','Delhi','Gurgaon','Haryana'],'Windspeed':[17,11,18,65,66],\"k\":['k1','k1','k1','k1','k1']})\n",
    "print(df_1_)\n",
    "print(df_2_)"
   ]
  },
  {
   "cell_type": "code",
   "execution_count": 44,
   "id": "ee364582",
   "metadata": {},
   "outputs": [
    {
     "data": {
      "text/html": [
       "<div>\n",
       "<style scoped>\n",
       "    .dataframe tbody tr th:only-of-type {\n",
       "        vertical-align: middle;\n",
       "    }\n",
       "\n",
       "    .dataframe tbody tr th {\n",
       "        vertical-align: top;\n",
       "    }\n",
       "\n",
       "    .dataframe thead th {\n",
       "        text-align: right;\n",
       "    }\n",
       "</style>\n",
       "<table border=\"1\" class=\"dataframe\">\n",
       "  <thead>\n",
       "    <tr style=\"text-align: right;\">\n",
       "      <th></th>\n",
       "      <th>City</th>\n",
       "      <th>Temperature</th>\n",
       "      <th>k</th>\n",
       "      <th>Windspeed</th>\n",
       "      <th>_merge</th>\n",
       "    </tr>\n",
       "  </thead>\n",
       "  <tbody>\n",
       "    <tr>\n",
       "      <th>0</th>\n",
       "      <td>Mumbai</td>\n",
       "      <td>45.0</td>\n",
       "      <td>k1</td>\n",
       "      <td>11.0</td>\n",
       "      <td>both</td>\n",
       "    </tr>\n",
       "    <tr>\n",
       "      <th>1</th>\n",
       "      <td>Delhi</td>\n",
       "      <td>56.0</td>\n",
       "      <td>k2</td>\n",
       "      <td>NaN</td>\n",
       "      <td>left_only</td>\n",
       "    </tr>\n",
       "    <tr>\n",
       "      <th>2</th>\n",
       "      <td>Gurgaon</td>\n",
       "      <td>56.0</td>\n",
       "      <td>k1</td>\n",
       "      <td>65.0</td>\n",
       "      <td>both</td>\n",
       "    </tr>\n",
       "    <tr>\n",
       "      <th>3</th>\n",
       "      <td>Haryana</td>\n",
       "      <td>66.0</td>\n",
       "      <td>k2</td>\n",
       "      <td>NaN</td>\n",
       "      <td>left_only</td>\n",
       "    </tr>\n",
       "    <tr>\n",
       "      <th>4</th>\n",
       "      <td>Surat</td>\n",
       "      <td>66.0</td>\n",
       "      <td>k1</td>\n",
       "      <td>NaN</td>\n",
       "      <td>left_only</td>\n",
       "    </tr>\n",
       "    <tr>\n",
       "      <th>5</th>\n",
       "      <td>Chennai</td>\n",
       "      <td>NaN</td>\n",
       "      <td>k1</td>\n",
       "      <td>17.0</td>\n",
       "      <td>right_only</td>\n",
       "    </tr>\n",
       "    <tr>\n",
       "      <th>6</th>\n",
       "      <td>Delhi</td>\n",
       "      <td>NaN</td>\n",
       "      <td>k1</td>\n",
       "      <td>18.0</td>\n",
       "      <td>right_only</td>\n",
       "    </tr>\n",
       "    <tr>\n",
       "      <th>7</th>\n",
       "      <td>Haryana</td>\n",
       "      <td>NaN</td>\n",
       "      <td>k1</td>\n",
       "      <td>66.0</td>\n",
       "      <td>right_only</td>\n",
       "    </tr>\n",
       "  </tbody>\n",
       "</table>\n",
       "</div>"
      ],
      "text/plain": [
       "      City  Temperature   k  Windspeed      _merge\n",
       "0   Mumbai         45.0  k1       11.0        both\n",
       "1    Delhi         56.0  k2        NaN   left_only\n",
       "2  Gurgaon         56.0  k1       65.0        both\n",
       "3  Haryana         66.0  k2        NaN   left_only\n",
       "4    Surat         66.0  k1        NaN   left_only\n",
       "5  Chennai          NaN  k1       17.0  right_only\n",
       "6    Delhi          NaN  k1       18.0  right_only\n",
       "7  Haryana          NaN  k1       66.0  right_only"
      ]
     },
     "execution_count": 44,
     "metadata": {},
     "output_type": "execute_result"
    }
   ],
   "source": [
    "pd.merge(df_1_,df_2_, on=['k','City'], how='outer', indicator=True)  #outer through two keys"
   ]
  },
  {
   "cell_type": "code",
   "execution_count": 45,
   "id": "be67690b",
   "metadata": {},
   "outputs": [
    {
     "data": {
      "text/html": [
       "<div>\n",
       "<style scoped>\n",
       "    .dataframe tbody tr th:only-of-type {\n",
       "        vertical-align: middle;\n",
       "    }\n",
       "\n",
       "    .dataframe tbody tr th {\n",
       "        vertical-align: top;\n",
       "    }\n",
       "\n",
       "    .dataframe thead th {\n",
       "        text-align: right;\n",
       "    }\n",
       "</style>\n",
       "<table border=\"1\" class=\"dataframe\">\n",
       "  <thead>\n",
       "    <tr style=\"text-align: right;\">\n",
       "      <th></th>\n",
       "      <th>City</th>\n",
       "      <th>Temperature</th>\n",
       "      <th>k</th>\n",
       "      <th>Windspeed</th>\n",
       "      <th>_merge</th>\n",
       "    </tr>\n",
       "  </thead>\n",
       "  <tbody>\n",
       "    <tr>\n",
       "      <th>0</th>\n",
       "      <td>Mumbai</td>\n",
       "      <td>45</td>\n",
       "      <td>k1</td>\n",
       "      <td>11</td>\n",
       "      <td>both</td>\n",
       "    </tr>\n",
       "    <tr>\n",
       "      <th>1</th>\n",
       "      <td>Gurgaon</td>\n",
       "      <td>56</td>\n",
       "      <td>k1</td>\n",
       "      <td>65</td>\n",
       "      <td>both</td>\n",
       "    </tr>\n",
       "  </tbody>\n",
       "</table>\n",
       "</div>"
      ],
      "text/plain": [
       "      City  Temperature   k  Windspeed _merge\n",
       "0   Mumbai           45  k1         11   both\n",
       "1  Gurgaon           56  k1         65   both"
      ]
     },
     "execution_count": 45,
     "metadata": {},
     "output_type": "execute_result"
    }
   ],
   "source": [
    "pd.merge(df_1_,df_2_, on=['k','City'], how='inner', indicator=True) "
   ]
  },
  {
   "cell_type": "code",
   "execution_count": 46,
   "id": "d1059ec0",
   "metadata": {},
   "outputs": [
    {
     "data": {
      "text/html": [
       "<div>\n",
       "<style scoped>\n",
       "    .dataframe tbody tr th:only-of-type {\n",
       "        vertical-align: middle;\n",
       "    }\n",
       "\n",
       "    .dataframe tbody tr th {\n",
       "        vertical-align: top;\n",
       "    }\n",
       "\n",
       "    .dataframe thead th {\n",
       "        text-align: right;\n",
       "    }\n",
       "</style>\n",
       "<table border=\"1\" class=\"dataframe\">\n",
       "  <thead>\n",
       "    <tr style=\"text-align: right;\">\n",
       "      <th></th>\n",
       "      <th>City</th>\n",
       "      <th>Temperature</th>\n",
       "      <th>k</th>\n",
       "      <th>Windspeed</th>\n",
       "      <th>_merge</th>\n",
       "    </tr>\n",
       "  </thead>\n",
       "  <tbody>\n",
       "    <tr>\n",
       "      <th>0</th>\n",
       "      <td>Mumbai</td>\n",
       "      <td>45</td>\n",
       "      <td>k1</td>\n",
       "      <td>11.0</td>\n",
       "      <td>both</td>\n",
       "    </tr>\n",
       "    <tr>\n",
       "      <th>1</th>\n",
       "      <td>Delhi</td>\n",
       "      <td>56</td>\n",
       "      <td>k2</td>\n",
       "      <td>NaN</td>\n",
       "      <td>left_only</td>\n",
       "    </tr>\n",
       "    <tr>\n",
       "      <th>2</th>\n",
       "      <td>Gurgaon</td>\n",
       "      <td>56</td>\n",
       "      <td>k1</td>\n",
       "      <td>65.0</td>\n",
       "      <td>both</td>\n",
       "    </tr>\n",
       "    <tr>\n",
       "      <th>3</th>\n",
       "      <td>Haryana</td>\n",
       "      <td>66</td>\n",
       "      <td>k2</td>\n",
       "      <td>NaN</td>\n",
       "      <td>left_only</td>\n",
       "    </tr>\n",
       "    <tr>\n",
       "      <th>4</th>\n",
       "      <td>Surat</td>\n",
       "      <td>66</td>\n",
       "      <td>k1</td>\n",
       "      <td>NaN</td>\n",
       "      <td>left_only</td>\n",
       "    </tr>\n",
       "  </tbody>\n",
       "</table>\n",
       "</div>"
      ],
      "text/plain": [
       "      City  Temperature   k  Windspeed     _merge\n",
       "0   Mumbai           45  k1       11.0       both\n",
       "1    Delhi           56  k2        NaN  left_only\n",
       "2  Gurgaon           56  k1       65.0       both\n",
       "3  Haryana           66  k2        NaN  left_only\n",
       "4    Surat           66  k1        NaN  left_only"
      ]
     },
     "execution_count": 46,
     "metadata": {},
     "output_type": "execute_result"
    }
   ],
   "source": [
    "pd.merge(df_1_,df_2_, on=['k','City'], how='left', indicator=True)"
   ]
  },
  {
   "cell_type": "code",
   "execution_count": 47,
   "id": "b302195f",
   "metadata": {},
   "outputs": [
    {
     "data": {
      "text/html": [
       "<div>\n",
       "<style scoped>\n",
       "    .dataframe tbody tr th:only-of-type {\n",
       "        vertical-align: middle;\n",
       "    }\n",
       "\n",
       "    .dataframe tbody tr th {\n",
       "        vertical-align: top;\n",
       "    }\n",
       "\n",
       "    .dataframe thead th {\n",
       "        text-align: right;\n",
       "    }\n",
       "</style>\n",
       "<table border=\"1\" class=\"dataframe\">\n",
       "  <thead>\n",
       "    <tr style=\"text-align: right;\">\n",
       "      <th></th>\n",
       "      <th>City</th>\n",
       "      <th>Temperature</th>\n",
       "      <th>k</th>\n",
       "      <th>Windspeed</th>\n",
       "      <th>_merge</th>\n",
       "    </tr>\n",
       "  </thead>\n",
       "  <tbody>\n",
       "    <tr>\n",
       "      <th>0</th>\n",
       "      <td>Chennai</td>\n",
       "      <td>NaN</td>\n",
       "      <td>k1</td>\n",
       "      <td>17</td>\n",
       "      <td>right_only</td>\n",
       "    </tr>\n",
       "    <tr>\n",
       "      <th>1</th>\n",
       "      <td>Mumbai</td>\n",
       "      <td>45.0</td>\n",
       "      <td>k1</td>\n",
       "      <td>11</td>\n",
       "      <td>both</td>\n",
       "    </tr>\n",
       "    <tr>\n",
       "      <th>2</th>\n",
       "      <td>Delhi</td>\n",
       "      <td>NaN</td>\n",
       "      <td>k1</td>\n",
       "      <td>18</td>\n",
       "      <td>right_only</td>\n",
       "    </tr>\n",
       "    <tr>\n",
       "      <th>3</th>\n",
       "      <td>Gurgaon</td>\n",
       "      <td>56.0</td>\n",
       "      <td>k1</td>\n",
       "      <td>65</td>\n",
       "      <td>both</td>\n",
       "    </tr>\n",
       "    <tr>\n",
       "      <th>4</th>\n",
       "      <td>Haryana</td>\n",
       "      <td>NaN</td>\n",
       "      <td>k1</td>\n",
       "      <td>66</td>\n",
       "      <td>right_only</td>\n",
       "    </tr>\n",
       "  </tbody>\n",
       "</table>\n",
       "</div>"
      ],
      "text/plain": [
       "      City  Temperature   k  Windspeed      _merge\n",
       "0  Chennai          NaN  k1         17  right_only\n",
       "1   Mumbai         45.0  k1         11        both\n",
       "2    Delhi          NaN  k1         18  right_only\n",
       "3  Gurgaon         56.0  k1         65        both\n",
       "4  Haryana          NaN  k1         66  right_only"
      ]
     },
     "execution_count": 47,
     "metadata": {},
     "output_type": "execute_result"
    }
   ],
   "source": [
    "pd.merge(df_1_,df_2_, on=['k','City'], how='right', indicator=True)"
   ]
  },
  {
   "cell_type": "code",
   "execution_count": 48,
   "id": "2d33e216",
   "metadata": {},
   "outputs": [
    {
     "name": "stdout",
     "output_type": "stream",
     "text": [
      "        City  Temperature\n",
      "key                      \n",
      "k1    Mumbai           45\n",
      "k2     Delhi           56\n",
      "k3   Gurgaon           56\n",
      "k4   Haryana           66\n",
      "k5     Surat           66\n",
      "        City  Windspeed\n",
      "key                    \n",
      "k3   Chennai         17\n",
      "k4    Mumbai         11\n",
      "k5     Delhi         18\n",
      "k6   Gurgaon         65\n",
      "k7   Haryana         66\n"
     ]
    }
   ],
   "source": [
    "df_4_=pd.DataFrame({'City':['Mumbai','Delhi','Gurgaon','Haryana','Surat'],'Temperature':[45,56,56,66,66]}, index=pd.Index(['k1','k2','k3','k4','k5'],name='key'))\n",
    "df_5_=pd.DataFrame({'City':['Chennai','Mumbai','Delhi','Gurgaon','Haryana'],'Windspeed':[17,11,18,65,66]},index=pd.Index(['k3','k4','k5','k6','k7'],name='key'))\n",
    "print(df_4_)\n",
    "print(df_5_)"
   ]
  },
  {
   "cell_type": "code",
   "execution_count": 49,
   "id": "84b31084",
   "metadata": {},
   "outputs": [
    {
     "data": {
      "text/html": [
       "<div>\n",
       "<style scoped>\n",
       "    .dataframe tbody tr th:only-of-type {\n",
       "        vertical-align: middle;\n",
       "    }\n",
       "\n",
       "    .dataframe tbody tr th {\n",
       "        vertical-align: top;\n",
       "    }\n",
       "\n",
       "    .dataframe thead th {\n",
       "        text-align: right;\n",
       "    }\n",
       "</style>\n",
       "<table border=\"1\" class=\"dataframe\">\n",
       "  <thead>\n",
       "    <tr style=\"text-align: right;\">\n",
       "      <th></th>\n",
       "      <th>City_left</th>\n",
       "      <th>Temperature</th>\n",
       "      <th>City_right</th>\n",
       "      <th>Windspeed</th>\n",
       "    </tr>\n",
       "    <tr>\n",
       "      <th>key</th>\n",
       "      <th></th>\n",
       "      <th></th>\n",
       "      <th></th>\n",
       "      <th></th>\n",
       "    </tr>\n",
       "  </thead>\n",
       "  <tbody>\n",
       "    <tr>\n",
       "      <th>k1</th>\n",
       "      <td>Mumbai</td>\n",
       "      <td>45</td>\n",
       "      <td>NaN</td>\n",
       "      <td>NaN</td>\n",
       "    </tr>\n",
       "    <tr>\n",
       "      <th>k2</th>\n",
       "      <td>Delhi</td>\n",
       "      <td>56</td>\n",
       "      <td>NaN</td>\n",
       "      <td>NaN</td>\n",
       "    </tr>\n",
       "    <tr>\n",
       "      <th>k3</th>\n",
       "      <td>Gurgaon</td>\n",
       "      <td>56</td>\n",
       "      <td>Chennai</td>\n",
       "      <td>17.0</td>\n",
       "    </tr>\n",
       "    <tr>\n",
       "      <th>k4</th>\n",
       "      <td>Haryana</td>\n",
       "      <td>66</td>\n",
       "      <td>Mumbai</td>\n",
       "      <td>11.0</td>\n",
       "    </tr>\n",
       "    <tr>\n",
       "      <th>k5</th>\n",
       "      <td>Surat</td>\n",
       "      <td>66</td>\n",
       "      <td>Delhi</td>\n",
       "      <td>18.0</td>\n",
       "    </tr>\n",
       "  </tbody>\n",
       "</table>\n",
       "</div>"
      ],
      "text/plain": [
       "    City_left  Temperature City_right  Windspeed\n",
       "key                                             \n",
       "k1     Mumbai           45        NaN        NaN\n",
       "k2      Delhi           56        NaN        NaN\n",
       "k3    Gurgaon           56    Chennai       17.0\n",
       "k4    Haryana           66     Mumbai       11.0\n",
       "k5      Surat           66      Delhi       18.0"
      ]
     },
     "execution_count": 49,
     "metadata": {},
     "output_type": "execute_result"
    }
   ],
   "source": [
    "df_join=df_4_.join(df_5_, lsuffix='_left',rsuffix='_right')\n",
    "df_join"
   ]
  },
  {
   "cell_type": "code",
   "execution_count": 50,
   "id": "24f8a70f",
   "metadata": {},
   "outputs": [
    {
     "name": "stdout",
     "output_type": "stream",
     "text": [
      "      city  windspeed\n",
      "0  Haryana         67\n",
      "1    Delhi         87\n",
      "2   Mumbai         67\n",
      "   temperature  population\n",
      "0           45         100\n",
      "1           67         200\n",
      "2           89         300\n"
     ]
    }
   ],
   "source": [
    "df_a=pd.DataFrame({'city':['Haryana','Delhi','Mumbai'],'windspeed':[67,87,67]})\n",
    "df_b=pd.DataFrame({'temperature':[45,67,89],'population':[100,200,300]})\n",
    "print(df_a)\n",
    "print(df_b)"
   ]
  },
  {
   "cell_type": "code",
   "execution_count": 51,
   "id": "6ed2d14b",
   "metadata": {},
   "outputs": [
    {
     "data": {
      "text/html": [
       "<div>\n",
       "<style scoped>\n",
       "    .dataframe tbody tr th:only-of-type {\n",
       "        vertical-align: middle;\n",
       "    }\n",
       "\n",
       "    .dataframe tbody tr th {\n",
       "        vertical-align: top;\n",
       "    }\n",
       "\n",
       "    .dataframe thead th {\n",
       "        text-align: right;\n",
       "    }\n",
       "</style>\n",
       "<table border=\"1\" class=\"dataframe\">\n",
       "  <thead>\n",
       "    <tr style=\"text-align: right;\">\n",
       "      <th></th>\n",
       "      <th>city</th>\n",
       "      <th>windspeed</th>\n",
       "      <th>temperature</th>\n",
       "      <th>population</th>\n",
       "    </tr>\n",
       "  </thead>\n",
       "  <tbody>\n",
       "    <tr>\n",
       "      <th>0</th>\n",
       "      <td>Haryana</td>\n",
       "      <td>67</td>\n",
       "      <td>45</td>\n",
       "      <td>100</td>\n",
       "    </tr>\n",
       "    <tr>\n",
       "      <th>1</th>\n",
       "      <td>Delhi</td>\n",
       "      <td>87</td>\n",
       "      <td>67</td>\n",
       "      <td>200</td>\n",
       "    </tr>\n",
       "    <tr>\n",
       "      <th>2</th>\n",
       "      <td>Mumbai</td>\n",
       "      <td>67</td>\n",
       "      <td>89</td>\n",
       "      <td>300</td>\n",
       "    </tr>\n",
       "  </tbody>\n",
       "</table>\n",
       "</div>"
      ],
      "text/plain": [
       "      city  windspeed  temperature  population\n",
       "0  Haryana         67           45         100\n",
       "1    Delhi         87           67         200\n",
       "2   Mumbai         67           89         300"
      ]
     },
     "execution_count": 51,
     "metadata": {},
     "output_type": "execute_result"
    }
   ],
   "source": [
    "df_a.join(df_b, how='outer')"
   ]
  },
  {
   "cell_type": "code",
   "execution_count": 52,
   "id": "865ba716",
   "metadata": {},
   "outputs": [
    {
     "name": "stdout",
     "output_type": "stream",
     "text": [
      "       city  windspeed\n",
      "k0  Haryana         67\n",
      "k1    Delhi         87\n",
      "k2   Mumbai         67\n",
      "   temperature  population\n",
      "k1         45f         100\n",
      "k2         67f         200\n",
      "k3         89f         300\n"
     ]
    }
   ],
   "source": [
    "df_a=pd.DataFrame({'city':['Haryana','Delhi','Mumbai'],'windspeed':[67,87,67]},index=pd.Index(['k0','k1','k2']))\n",
    "df_b=pd.DataFrame({'temperature':['45f','67f','89f'],'population':[100,200,300]}, index=pd.Index(['k1','k2','k3']))\n",
    "print(df_a)\n",
    "print(df_b)"
   ]
  },
  {
   "cell_type": "code",
   "execution_count": 53,
   "id": "38fbe173",
   "metadata": {},
   "outputs": [
    {
     "data": {
      "text/html": [
       "<div>\n",
       "<style scoped>\n",
       "    .dataframe tbody tr th:only-of-type {\n",
       "        vertical-align: middle;\n",
       "    }\n",
       "\n",
       "    .dataframe tbody tr th {\n",
       "        vertical-align: top;\n",
       "    }\n",
       "\n",
       "    .dataframe thead th {\n",
       "        text-align: right;\n",
       "    }\n",
       "</style>\n",
       "<table border=\"1\" class=\"dataframe\">\n",
       "  <thead>\n",
       "    <tr style=\"text-align: right;\">\n",
       "      <th></th>\n",
       "      <th>city</th>\n",
       "      <th>windspeed</th>\n",
       "      <th>temperature</th>\n",
       "      <th>population</th>\n",
       "    </tr>\n",
       "  </thead>\n",
       "  <tbody>\n",
       "    <tr>\n",
       "      <th>k0</th>\n",
       "      <td>Haryana</td>\n",
       "      <td>67</td>\n",
       "      <td>NaN</td>\n",
       "      <td>NaN</td>\n",
       "    </tr>\n",
       "    <tr>\n",
       "      <th>k1</th>\n",
       "      <td>Delhi</td>\n",
       "      <td>87</td>\n",
       "      <td>45f</td>\n",
       "      <td>100.0</td>\n",
       "    </tr>\n",
       "    <tr>\n",
       "      <th>k2</th>\n",
       "      <td>Mumbai</td>\n",
       "      <td>67</td>\n",
       "      <td>67f</td>\n",
       "      <td>200.0</td>\n",
       "    </tr>\n",
       "  </tbody>\n",
       "</table>\n",
       "</div>"
      ],
      "text/plain": [
       "       city  windspeed temperature  population\n",
       "k0  Haryana         67         NaN         NaN\n",
       "k1    Delhi         87         45f       100.0\n",
       "k2   Mumbai         67         67f       200.0"
      ]
     },
     "execution_count": 53,
     "metadata": {},
     "output_type": "execute_result"
    }
   ],
   "source": [
    "df_a.join(df_b)"
   ]
  },
  {
   "cell_type": "code",
   "execution_count": 54,
   "id": "41249d38",
   "metadata": {},
   "outputs": [
    {
     "data": {
      "text/html": [
       "<div>\n",
       "<style scoped>\n",
       "    .dataframe tbody tr th:only-of-type {\n",
       "        vertical-align: middle;\n",
       "    }\n",
       "\n",
       "    .dataframe tbody tr th {\n",
       "        vertical-align: top;\n",
       "    }\n",
       "\n",
       "    .dataframe thead th {\n",
       "        text-align: right;\n",
       "    }\n",
       "</style>\n",
       "<table border=\"1\" class=\"dataframe\">\n",
       "  <thead>\n",
       "    <tr style=\"text-align: right;\">\n",
       "      <th></th>\n",
       "      <th>city</th>\n",
       "      <th>windspeed</th>\n",
       "      <th>temperature</th>\n",
       "      <th>population</th>\n",
       "    </tr>\n",
       "  </thead>\n",
       "  <tbody>\n",
       "    <tr>\n",
       "      <th>k0</th>\n",
       "      <td>Haryana</td>\n",
       "      <td>67.0</td>\n",
       "      <td>NaN</td>\n",
       "      <td>NaN</td>\n",
       "    </tr>\n",
       "    <tr>\n",
       "      <th>k1</th>\n",
       "      <td>Delhi</td>\n",
       "      <td>87.0</td>\n",
       "      <td>45f</td>\n",
       "      <td>100.0</td>\n",
       "    </tr>\n",
       "    <tr>\n",
       "      <th>k2</th>\n",
       "      <td>Mumbai</td>\n",
       "      <td>67.0</td>\n",
       "      <td>67f</td>\n",
       "      <td>200.0</td>\n",
       "    </tr>\n",
       "    <tr>\n",
       "      <th>k3</th>\n",
       "      <td>NaN</td>\n",
       "      <td>NaN</td>\n",
       "      <td>89f</td>\n",
       "      <td>300.0</td>\n",
       "    </tr>\n",
       "  </tbody>\n",
       "</table>\n",
       "</div>"
      ],
      "text/plain": [
       "       city  windspeed temperature  population\n",
       "k0  Haryana       67.0         NaN         NaN\n",
       "k1    Delhi       87.0         45f       100.0\n",
       "k2   Mumbai       67.0         67f       200.0\n",
       "k3      NaN        NaN         89f       300.0"
      ]
     },
     "execution_count": 54,
     "metadata": {},
     "output_type": "execute_result"
    }
   ],
   "source": [
    "df_a.join(df_b, how='outer')"
   ]
  },
  {
   "cell_type": "code",
   "execution_count": 55,
   "id": "5dc1cfc8",
   "metadata": {},
   "outputs": [
    {
     "data": {
      "text/html": [
       "<div>\n",
       "<style scoped>\n",
       "    .dataframe tbody tr th:only-of-type {\n",
       "        vertical-align: middle;\n",
       "    }\n",
       "\n",
       "    .dataframe tbody tr th {\n",
       "        vertical-align: top;\n",
       "    }\n",
       "\n",
       "    .dataframe thead th {\n",
       "        text-align: right;\n",
       "    }\n",
       "</style>\n",
       "<table border=\"1\" class=\"dataframe\">\n",
       "  <thead>\n",
       "    <tr style=\"text-align: right;\">\n",
       "      <th></th>\n",
       "      <th>city</th>\n",
       "      <th>windspeed</th>\n",
       "      <th>temperature</th>\n",
       "      <th>population</th>\n",
       "    </tr>\n",
       "  </thead>\n",
       "  <tbody>\n",
       "    <tr>\n",
       "      <th>k1</th>\n",
       "      <td>Delhi</td>\n",
       "      <td>87</td>\n",
       "      <td>45f</td>\n",
       "      <td>100</td>\n",
       "    </tr>\n",
       "    <tr>\n",
       "      <th>k2</th>\n",
       "      <td>Mumbai</td>\n",
       "      <td>67</td>\n",
       "      <td>67f</td>\n",
       "      <td>200</td>\n",
       "    </tr>\n",
       "  </tbody>\n",
       "</table>\n",
       "</div>"
      ],
      "text/plain": [
       "      city  windspeed temperature  population\n",
       "k1   Delhi         87         45f         100\n",
       "k2  Mumbai         67         67f         200"
      ]
     },
     "execution_count": 55,
     "metadata": {},
     "output_type": "execute_result"
    }
   ],
   "source": [
    "df_a.join(df_b, how='inner')"
   ]
  },
  {
   "cell_type": "code",
   "execution_count": 56,
   "id": "7c8caced",
   "metadata": {
    "scrolled": true
   },
   "outputs": [
    {
     "data": {
      "text/html": [
       "<div>\n",
       "<style scoped>\n",
       "    .dataframe tbody tr th:only-of-type {\n",
       "        vertical-align: middle;\n",
       "    }\n",
       "\n",
       "    .dataframe tbody tr th {\n",
       "        vertical-align: top;\n",
       "    }\n",
       "\n",
       "    .dataframe thead th {\n",
       "        text-align: right;\n",
       "    }\n",
       "</style>\n",
       "<table border=\"1\" class=\"dataframe\">\n",
       "  <thead>\n",
       "    <tr style=\"text-align: right;\">\n",
       "      <th></th>\n",
       "      <th>city</th>\n",
       "      <th>windspeed</th>\n",
       "      <th>temperature</th>\n",
       "      <th>population</th>\n",
       "    </tr>\n",
       "  </thead>\n",
       "  <tbody>\n",
       "    <tr>\n",
       "      <th>k1</th>\n",
       "      <td>Delhi</td>\n",
       "      <td>87.0</td>\n",
       "      <td>45f</td>\n",
       "      <td>100</td>\n",
       "    </tr>\n",
       "    <tr>\n",
       "      <th>k2</th>\n",
       "      <td>Mumbai</td>\n",
       "      <td>67.0</td>\n",
       "      <td>67f</td>\n",
       "      <td>200</td>\n",
       "    </tr>\n",
       "    <tr>\n",
       "      <th>k3</th>\n",
       "      <td>NaN</td>\n",
       "      <td>NaN</td>\n",
       "      <td>89f</td>\n",
       "      <td>300</td>\n",
       "    </tr>\n",
       "  </tbody>\n",
       "</table>\n",
       "</div>"
      ],
      "text/plain": [
       "      city  windspeed temperature  population\n",
       "k1   Delhi       87.0         45f         100\n",
       "k2  Mumbai       67.0         67f         200\n",
       "k3     NaN        NaN         89f         300"
      ]
     },
     "execution_count": 56,
     "metadata": {},
     "output_type": "execute_result"
    }
   ],
   "source": [
    "df_a.join(df_b, how='right')"
   ]
  },
  {
   "cell_type": "code",
   "execution_count": 57,
   "id": "f21f6de8",
   "metadata": {},
   "outputs": [
    {
     "data": {
      "text/html": [
       "<div>\n",
       "<style scoped>\n",
       "    .dataframe tbody tr th:only-of-type {\n",
       "        vertical-align: middle;\n",
       "    }\n",
       "\n",
       "    .dataframe tbody tr th {\n",
       "        vertical-align: top;\n",
       "    }\n",
       "\n",
       "    .dataframe thead th {\n",
       "        text-align: right;\n",
       "    }\n",
       "</style>\n",
       "<table border=\"1\" class=\"dataframe\">\n",
       "  <thead>\n",
       "    <tr style=\"text-align: right;\">\n",
       "      <th></th>\n",
       "      <th>city</th>\n",
       "      <th>windspeed</th>\n",
       "      <th>temperature</th>\n",
       "      <th>population</th>\n",
       "    </tr>\n",
       "  </thead>\n",
       "  <tbody>\n",
       "    <tr>\n",
       "      <th>k0</th>\n",
       "      <td>Haryana</td>\n",
       "      <td>67</td>\n",
       "      <td>NaN</td>\n",
       "      <td>NaN</td>\n",
       "    </tr>\n",
       "    <tr>\n",
       "      <th>k1</th>\n",
       "      <td>Delhi</td>\n",
       "      <td>87</td>\n",
       "      <td>45f</td>\n",
       "      <td>100.0</td>\n",
       "    </tr>\n",
       "    <tr>\n",
       "      <th>k2</th>\n",
       "      <td>Mumbai</td>\n",
       "      <td>67</td>\n",
       "      <td>67f</td>\n",
       "      <td>200.0</td>\n",
       "    </tr>\n",
       "  </tbody>\n",
       "</table>\n",
       "</div>"
      ],
      "text/plain": [
       "       city  windspeed temperature  population\n",
       "k0  Haryana         67         NaN         NaN\n",
       "k1    Delhi         87         45f       100.0\n",
       "k2   Mumbai         67         67f       200.0"
      ]
     },
     "execution_count": 57,
     "metadata": {},
     "output_type": "execute_result"
    }
   ],
   "source": [
    "df_a.join(df_b, how='left')"
   ]
  },
  {
   "cell_type": "code",
   "execution_count": 58,
   "id": "8480c3c0",
   "metadata": {},
   "outputs": [
    {
     "data": {
      "text/html": [
       "<div>\n",
       "<style scoped>\n",
       "    .dataframe tbody tr th:only-of-type {\n",
       "        vertical-align: middle;\n",
       "    }\n",
       "\n",
       "    .dataframe tbody tr th {\n",
       "        vertical-align: top;\n",
       "    }\n",
       "\n",
       "    .dataframe thead th {\n",
       "        text-align: right;\n",
       "    }\n",
       "</style>\n",
       "<table border=\"1\" class=\"dataframe\">\n",
       "  <thead>\n",
       "    <tr style=\"text-align: right;\">\n",
       "      <th></th>\n",
       "      <th>temperature</th>\n",
       "      <th>population</th>\n",
       "      <th>city</th>\n",
       "      <th>windspeed</th>\n",
       "    </tr>\n",
       "  </thead>\n",
       "  <tbody>\n",
       "    <tr>\n",
       "      <th>k1</th>\n",
       "      <td>45f</td>\n",
       "      <td>100</td>\n",
       "      <td>Delhi</td>\n",
       "      <td>87.0</td>\n",
       "    </tr>\n",
       "    <tr>\n",
       "      <th>k2</th>\n",
       "      <td>67f</td>\n",
       "      <td>200</td>\n",
       "      <td>Mumbai</td>\n",
       "      <td>67.0</td>\n",
       "    </tr>\n",
       "    <tr>\n",
       "      <th>k3</th>\n",
       "      <td>89f</td>\n",
       "      <td>300</td>\n",
       "      <td>NaN</td>\n",
       "      <td>NaN</td>\n",
       "    </tr>\n",
       "  </tbody>\n",
       "</table>\n",
       "</div>"
      ],
      "text/plain": [
       "   temperature  population    city  windspeed\n",
       "k1         45f         100   Delhi       87.0\n",
       "k2         67f         200  Mumbai       67.0\n",
       "k3         89f         300     NaN        NaN"
      ]
     },
     "execution_count": 58,
     "metadata": {},
     "output_type": "execute_result"
    }
   ],
   "source": [
    "df_b.join(df_a)"
   ]
  },
  {
   "cell_type": "code",
   "execution_count": 59,
   "id": "a9b43f1f",
   "metadata": {},
   "outputs": [
    {
     "data": {
      "text/html": [
       "<div>\n",
       "<style scoped>\n",
       "    .dataframe tbody tr th:only-of-type {\n",
       "        vertical-align: middle;\n",
       "    }\n",
       "\n",
       "    .dataframe tbody tr th {\n",
       "        vertical-align: top;\n",
       "    }\n",
       "\n",
       "    .dataframe thead th {\n",
       "        text-align: right;\n",
       "    }\n",
       "</style>\n",
       "<table border=\"1\" class=\"dataframe\">\n",
       "  <thead>\n",
       "    <tr style=\"text-align: right;\">\n",
       "      <th></th>\n",
       "      <th>city</th>\n",
       "      <th>windspeed</th>\n",
       "      <th>temperature</th>\n",
       "      <th>population</th>\n",
       "    </tr>\n",
       "  </thead>\n",
       "  <tbody>\n",
       "    <tr>\n",
       "      <th>k0</th>\n",
       "      <td>Haryana</td>\n",
       "      <td>67</td>\n",
       "      <td>NaN</td>\n",
       "      <td>NaN</td>\n",
       "    </tr>\n",
       "    <tr>\n",
       "      <th>k1</th>\n",
       "      <td>Delhi</td>\n",
       "      <td>87</td>\n",
       "      <td>NaN</td>\n",
       "      <td>NaN</td>\n",
       "    </tr>\n",
       "    <tr>\n",
       "      <th>k2</th>\n",
       "      <td>Mumbai</td>\n",
       "      <td>67</td>\n",
       "      <td>NaN</td>\n",
       "      <td>NaN</td>\n",
       "    </tr>\n",
       "  </tbody>\n",
       "</table>\n",
       "</div>"
      ],
      "text/plain": [
       "       city  windspeed temperature  population\n",
       "k0  Haryana         67         NaN         NaN\n",
       "k1    Delhi         87         NaN         NaN\n",
       "k2   Mumbai         67         NaN         NaN"
      ]
     },
     "execution_count": 59,
     "metadata": {},
     "output_type": "execute_result"
    }
   ],
   "source": [
    "df_a.join(df_b, on='city')"
   ]
  },
  {
   "cell_type": "code",
   "execution_count": null,
   "id": "f4be0c4f",
   "metadata": {},
   "outputs": [],
   "source": []
  }
 ],
 "metadata": {
  "kernelspec": {
   "display_name": "Python 3 (ipykernel)",
   "language": "python",
   "name": "python3"
  },
  "language_info": {
   "codemirror_mode": {
    "name": "ipython",
    "version": 3
   },
   "file_extension": ".py",
   "mimetype": "text/x-python",
   "name": "python",
   "nbconvert_exporter": "python",
   "pygments_lexer": "ipython3",
   "version": "3.9.8"
  }
 },
 "nbformat": 4,
 "nbformat_minor": 5
}
