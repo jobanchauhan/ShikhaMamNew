{
 "cells": [
  {
   "cell_type": "code",
   "execution_count": 1,
   "id": "8ee65be4",
   "metadata": {},
   "outputs": [],
   "source": [
    "import pandas as pd\n",
    "import numpy as np\n",
    "import matplotlib.pyplot as plt\n",
    "import seaborn as sns"
   ]
  },
  {
   "cell_type": "code",
   "execution_count": 2,
   "id": "ddc73c20",
   "metadata": {},
   "outputs": [],
   "source": [
    "covid_data = pd.read_excel(\"covid19_tweets.xlsx\")"
   ]
  },
  {
   "cell_type": "code",
   "execution_count": 3,
   "id": "1c8c59c1",
   "metadata": {},
   "outputs": [
    {
     "data": {
      "text/html": [
       "<div>\n",
       "<style scoped>\n",
       "    .dataframe tbody tr th:only-of-type {\n",
       "        vertical-align: middle;\n",
       "    }\n",
       "\n",
       "    .dataframe tbody tr th {\n",
       "        vertical-align: top;\n",
       "    }\n",
       "\n",
       "    .dataframe thead th {\n",
       "        text-align: right;\n",
       "    }\n",
       "</style>\n",
       "<table border=\"1\" class=\"dataframe\">\n",
       "  <thead>\n",
       "    <tr style=\"text-align: right;\">\n",
       "      <th></th>\n",
       "      <th>user_name</th>\n",
       "      <th>user_location</th>\n",
       "      <th>user_description</th>\n",
       "      <th>user_created</th>\n",
       "      <th>user_followers</th>\n",
       "      <th>user_friends</th>\n",
       "      <th>user_favourites</th>\n",
       "      <th>user_verified</th>\n",
       "      <th>date</th>\n",
       "      <th>text</th>\n",
       "      <th>hashtags</th>\n",
       "      <th>source</th>\n",
       "      <th>is_retweet</th>\n",
       "    </tr>\n",
       "  </thead>\n",
       "  <tbody>\n",
       "    <tr>\n",
       "      <th>0</th>\n",
       "      <td>ᏉᎥ☻լꂅϮ</td>\n",
       "      <td>astroworld</td>\n",
       "      <td>wednesday addams as a disney princess keepin i...</td>\n",
       "      <td>2017-05-26 05:46:42</td>\n",
       "      <td>624</td>\n",
       "      <td>950</td>\n",
       "      <td>18775</td>\n",
       "      <td>False</td>\n",
       "      <td>2020-07-25 12:27:21</td>\n",
       "      <td>If I smelled the scent of hand sanitizers toda...</td>\n",
       "      <td>NaN</td>\n",
       "      <td>Twitter for iPhone</td>\n",
       "      <td>False</td>\n",
       "    </tr>\n",
       "    <tr>\n",
       "      <th>1</th>\n",
       "      <td>Tom Basile 🇺🇸</td>\n",
       "      <td>New York, NY</td>\n",
       "      <td>Husband, Father, Columnist &amp; Commentator. Auth...</td>\n",
       "      <td>2009-04-16 20:06:23</td>\n",
       "      <td>2253</td>\n",
       "      <td>1677</td>\n",
       "      <td>24</td>\n",
       "      <td>True</td>\n",
       "      <td>2020-07-25 12:27:17</td>\n",
       "      <td>Hey @Yankees @YankeesPR and @MLB - wouldn't it...</td>\n",
       "      <td>NaN</td>\n",
       "      <td>Twitter for Android</td>\n",
       "      <td>False</td>\n",
       "    </tr>\n",
       "    <tr>\n",
       "      <th>2</th>\n",
       "      <td>Time4fisticuffs</td>\n",
       "      <td>Pewee Valley, KY</td>\n",
       "      <td>#Christian #Catholic #Conservative #Reagan #Re...</td>\n",
       "      <td>2009-02-28 18:57:41</td>\n",
       "      <td>9275</td>\n",
       "      <td>9525</td>\n",
       "      <td>7254</td>\n",
       "      <td>False</td>\n",
       "      <td>2020-07-25 12:27:14</td>\n",
       "      <td>@diane3443 @wdunlap @realDonaldTrump Trump nev...</td>\n",
       "      <td>['COVID19']</td>\n",
       "      <td>Twitter for Android</td>\n",
       "      <td>False</td>\n",
       "    </tr>\n",
       "    <tr>\n",
       "      <th>3</th>\n",
       "      <td>ethel mertz</td>\n",
       "      <td>Stuck in the Middle</td>\n",
       "      <td>#Browns #Indians #ClevelandProud #[]_[] #Cavs ...</td>\n",
       "      <td>2019-03-07 01:45:06</td>\n",
       "      <td>197</td>\n",
       "      <td>987</td>\n",
       "      <td>1488</td>\n",
       "      <td>False</td>\n",
       "      <td>2020-07-25 12:27:10</td>\n",
       "      <td>@brookbanktv The one gift #COVID19 has give me...</td>\n",
       "      <td>['COVID19']</td>\n",
       "      <td>Twitter for iPhone</td>\n",
       "      <td>False</td>\n",
       "    </tr>\n",
       "    <tr>\n",
       "      <th>4</th>\n",
       "      <td>DIPR-J&amp;K</td>\n",
       "      <td>Jammu and Kashmir</td>\n",
       "      <td>🖊️Official Twitter handle of Department of Inf...</td>\n",
       "      <td>2017-02-12 06:45:15</td>\n",
       "      <td>101009</td>\n",
       "      <td>168</td>\n",
       "      <td>101</td>\n",
       "      <td>False</td>\n",
       "      <td>2020-07-25 12:27:08</td>\n",
       "      <td>25 July : Media Bulletin on Novel #CoronaVirus...</td>\n",
       "      <td>['CoronaVirusUpdates', 'COVID19']</td>\n",
       "      <td>Twitter for Android</td>\n",
       "      <td>False</td>\n",
       "    </tr>\n",
       "    <tr>\n",
       "      <th>...</th>\n",
       "      <td>...</td>\n",
       "      <td>...</td>\n",
       "      <td>...</td>\n",
       "      <td>...</td>\n",
       "      <td>...</td>\n",
       "      <td>...</td>\n",
       "      <td>...</td>\n",
       "      <td>...</td>\n",
       "      <td>...</td>\n",
       "      <td>...</td>\n",
       "      <td>...</td>\n",
       "      <td>...</td>\n",
       "      <td>...</td>\n",
       "    </tr>\n",
       "    <tr>\n",
       "      <th>179103</th>\n",
       "      <td>AJIMATI AbdulRahman O.</td>\n",
       "      <td>Ilorin, Nigeria</td>\n",
       "      <td>Animal Scientist|| Muslim|| Real Madrid/Chelsea</td>\n",
       "      <td>2013-12-30 18:59:19</td>\n",
       "      <td>412</td>\n",
       "      <td>1609</td>\n",
       "      <td>1062</td>\n",
       "      <td>False</td>\n",
       "      <td>2020-08-29 19:44:21</td>\n",
       "      <td>Thanks @IamOhmai for nominating me for the @WH...</td>\n",
       "      <td>['WearAMask']</td>\n",
       "      <td>Twitter for Android</td>\n",
       "      <td>False</td>\n",
       "    </tr>\n",
       "    <tr>\n",
       "      <th>179104</th>\n",
       "      <td>Jason</td>\n",
       "      <td>Ontario</td>\n",
       "      <td>When your cat has more baking soda than Ninja ...</td>\n",
       "      <td>2011-12-21 04:41:30</td>\n",
       "      <td>150</td>\n",
       "      <td>182</td>\n",
       "      <td>7295</td>\n",
       "      <td>False</td>\n",
       "      <td>2020-08-29 19:44:16</td>\n",
       "      <td>2020! The year of insanity! Lol! #COVID19 http...</td>\n",
       "      <td>['COVID19']</td>\n",
       "      <td>Twitter for Android</td>\n",
       "      <td>False</td>\n",
       "    </tr>\n",
       "    <tr>\n",
       "      <th>179105</th>\n",
       "      <td>BEEHEMOTH ⏳</td>\n",
       "      <td>🇨🇦 Canada</td>\n",
       "      <td>⚒️ The Architects of Free Trade ⚒️ Really Did ...</td>\n",
       "      <td>2016-07-13 17:21:59</td>\n",
       "      <td>1623</td>\n",
       "      <td>2160</td>\n",
       "      <td>98000</td>\n",
       "      <td>False</td>\n",
       "      <td>2020-08-29 19:44:15</td>\n",
       "      <td>@CTVNews A powerful painting by Juan Lucena. I...</td>\n",
       "      <td>NaN</td>\n",
       "      <td>Twitter Web App</td>\n",
       "      <td>False</td>\n",
       "    </tr>\n",
       "    <tr>\n",
       "      <th>179106</th>\n",
       "      <td>Gary DelPonte</td>\n",
       "      <td>New York City</td>\n",
       "      <td>Global UX UI Visual Designer. StoryTeller, Mus...</td>\n",
       "      <td>2009-10-27 17:43:13</td>\n",
       "      <td>1338</td>\n",
       "      <td>1111</td>\n",
       "      <td>0</td>\n",
       "      <td>False</td>\n",
       "      <td>2020-08-29 19:44:14</td>\n",
       "      <td>More than 1,200 students test positive for #CO...</td>\n",
       "      <td>['COVID19']</td>\n",
       "      <td>Twitter for iPhone</td>\n",
       "      <td>False</td>\n",
       "    </tr>\n",
       "    <tr>\n",
       "      <th>179107</th>\n",
       "      <td>TUKY II</td>\n",
       "      <td>Aliwal North, South Africa</td>\n",
       "      <td>TOKELO SEKHOPA | TUKY II | LAST BORN | EISH TU...</td>\n",
       "      <td>2018-04-14 17:30:07</td>\n",
       "      <td>97</td>\n",
       "      <td>1697</td>\n",
       "      <td>566</td>\n",
       "      <td>False</td>\n",
       "      <td>2020-08-29 19:44:08</td>\n",
       "      <td>I stop when I see a Stop\\n\\n@SABCNews\\n@Izinda...</td>\n",
       "      <td>NaN</td>\n",
       "      <td>Twitter for Android</td>\n",
       "      <td>False</td>\n",
       "    </tr>\n",
       "  </tbody>\n",
       "</table>\n",
       "<p>179108 rows × 13 columns</p>\n",
       "</div>"
      ],
      "text/plain": [
       "                     user_name               user_location  \\\n",
       "0                       ᏉᎥ☻լꂅϮ                  astroworld   \n",
       "1                Tom Basile 🇺🇸                New York, NY   \n",
       "2              Time4fisticuffs            Pewee Valley, KY   \n",
       "3                  ethel mertz         Stuck in the Middle   \n",
       "4                     DIPR-J&K           Jammu and Kashmir   \n",
       "...                        ...                         ...   \n",
       "179103  AJIMATI AbdulRahman O.             Ilorin, Nigeria   \n",
       "179104                   Jason                     Ontario   \n",
       "179105             BEEHEMOTH ⏳                   🇨🇦 Canada   \n",
       "179106           Gary DelPonte               New York City   \n",
       "179107                 TUKY II  Aliwal North, South Africa   \n",
       "\n",
       "                                         user_description        user_created  \\\n",
       "0       wednesday addams as a disney princess keepin i... 2017-05-26 05:46:42   \n",
       "1       Husband, Father, Columnist & Commentator. Auth... 2009-04-16 20:06:23   \n",
       "2       #Christian #Catholic #Conservative #Reagan #Re... 2009-02-28 18:57:41   \n",
       "3       #Browns #Indians #ClevelandProud #[]_[] #Cavs ... 2019-03-07 01:45:06   \n",
       "4       🖊️Official Twitter handle of Department of Inf... 2017-02-12 06:45:15   \n",
       "...                                                   ...                 ...   \n",
       "179103    Animal Scientist|| Muslim|| Real Madrid/Chelsea 2013-12-30 18:59:19   \n",
       "179104  When your cat has more baking soda than Ninja ... 2011-12-21 04:41:30   \n",
       "179105  ⚒️ The Architects of Free Trade ⚒️ Really Did ... 2016-07-13 17:21:59   \n",
       "179106  Global UX UI Visual Designer. StoryTeller, Mus... 2009-10-27 17:43:13   \n",
       "179107  TOKELO SEKHOPA | TUKY II | LAST BORN | EISH TU... 2018-04-14 17:30:07   \n",
       "\n",
       "        user_followers  user_friends  user_favourites  user_verified  \\\n",
       "0                  624           950            18775          False   \n",
       "1                 2253          1677               24           True   \n",
       "2                 9275          9525             7254          False   \n",
       "3                  197           987             1488          False   \n",
       "4               101009           168              101          False   \n",
       "...                ...           ...              ...            ...   \n",
       "179103             412          1609             1062          False   \n",
       "179104             150           182             7295          False   \n",
       "179105            1623          2160            98000          False   \n",
       "179106            1338          1111                0          False   \n",
       "179107              97          1697              566          False   \n",
       "\n",
       "                      date                                               text  \\\n",
       "0      2020-07-25 12:27:21  If I smelled the scent of hand sanitizers toda...   \n",
       "1      2020-07-25 12:27:17  Hey @Yankees @YankeesPR and @MLB - wouldn't it...   \n",
       "2      2020-07-25 12:27:14  @diane3443 @wdunlap @realDonaldTrump Trump nev...   \n",
       "3      2020-07-25 12:27:10  @brookbanktv The one gift #COVID19 has give me...   \n",
       "4      2020-07-25 12:27:08  25 July : Media Bulletin on Novel #CoronaVirus...   \n",
       "...                    ...                                                ...   \n",
       "179103 2020-08-29 19:44:21  Thanks @IamOhmai for nominating me for the @WH...   \n",
       "179104 2020-08-29 19:44:16  2020! The year of insanity! Lol! #COVID19 http...   \n",
       "179105 2020-08-29 19:44:15  @CTVNews A powerful painting by Juan Lucena. I...   \n",
       "179106 2020-08-29 19:44:14  More than 1,200 students test positive for #CO...   \n",
       "179107 2020-08-29 19:44:08  I stop when I see a Stop\\n\\n@SABCNews\\n@Izinda...   \n",
       "\n",
       "                                 hashtags               source  is_retweet  \n",
       "0                                     NaN   Twitter for iPhone       False  \n",
       "1                                     NaN  Twitter for Android       False  \n",
       "2                             ['COVID19']  Twitter for Android       False  \n",
       "3                             ['COVID19']   Twitter for iPhone       False  \n",
       "4       ['CoronaVirusUpdates', 'COVID19']  Twitter for Android       False  \n",
       "...                                   ...                  ...         ...  \n",
       "179103                      ['WearAMask']  Twitter for Android       False  \n",
       "179104                        ['COVID19']  Twitter for Android       False  \n",
       "179105                                NaN      Twitter Web App       False  \n",
       "179106                        ['COVID19']   Twitter for iPhone       False  \n",
       "179107                                NaN  Twitter for Android       False  \n",
       "\n",
       "[179108 rows x 13 columns]"
      ]
     },
     "execution_count": 3,
     "metadata": {},
     "output_type": "execute_result"
    }
   ],
   "source": [
    "covid_data"
   ]
  },
  {
   "cell_type": "code",
   "execution_count": 4,
   "id": "490fe3e9",
   "metadata": {},
   "outputs": [],
   "source": [
    "import tqdm"
   ]
  },
  {
   "cell_type": "code",
   "execution_count": 5,
   "id": "983bae9e",
   "metadata": {},
   "outputs": [],
   "source": [
    "rows,columns = covid_data.shape"
   ]
  },
  {
   "cell_type": "code",
   "execution_count": 6,
   "id": "3ca9b95f",
   "metadata": {},
   "outputs": [
    {
     "data": {
      "text/plain": [
       "179108"
      ]
     },
     "execution_count": 6,
     "metadata": {},
     "output_type": "execute_result"
    }
   ],
   "source": [
    "rows"
   ]
  },
  {
   "cell_type": "code",
   "execution_count": 7,
   "id": "7cbe9632",
   "metadata": {},
   "outputs": [
    {
     "data": {
      "text/plain": [
       "13"
      ]
     },
     "execution_count": 7,
     "metadata": {},
     "output_type": "execute_result"
    }
   ],
   "source": [
    "columns"
   ]
  },
  {
   "cell_type": "code",
   "execution_count": 8,
   "id": "1b2c0972",
   "metadata": {},
   "outputs": [
    {
     "name": "stdout",
     "output_type": "stream",
     "text": [
      "<class 'pandas.core.frame.DataFrame'>\n",
      "RangeIndex: 179108 entries, 0 to 179107\n",
      "Data columns (total 13 columns):\n",
      " #   Column            Non-Null Count   Dtype         \n",
      "---  ------            --------------   -----         \n",
      " 0   user_name         179108 non-null  object        \n",
      " 1   user_location     142304 non-null  object        \n",
      " 2   user_description  168822 non-null  object        \n",
      " 3   user_created      179108 non-null  datetime64[ns]\n",
      " 4   user_followers    179108 non-null  int64         \n",
      " 5   user_friends      179108 non-null  int64         \n",
      " 6   user_favourites   179108 non-null  int64         \n",
      " 7   user_verified     179108 non-null  bool          \n",
      " 8   date              179108 non-null  datetime64[ns]\n",
      " 9   text              179108 non-null  object        \n",
      " 10  hashtags          127774 non-null  object        \n",
      " 11  source            179031 non-null  object        \n",
      " 12  is_retweet        179108 non-null  bool          \n",
      "dtypes: bool(2), datetime64[ns](2), int64(3), object(6)\n",
      "memory usage: 15.4+ MB\n"
     ]
    }
   ],
   "source": [
    "covid_data.info()"
   ]
  },
  {
   "cell_type": "code",
   "execution_count": 9,
   "id": "d40d79be",
   "metadata": {
    "scrolled": true
   },
   "outputs": [
    {
     "data": {
      "text/html": [
       "<div>\n",
       "<style scoped>\n",
       "    .dataframe tbody tr th:only-of-type {\n",
       "        vertical-align: middle;\n",
       "    }\n",
       "\n",
       "    .dataframe tbody tr th {\n",
       "        vertical-align: top;\n",
       "    }\n",
       "\n",
       "    .dataframe thead th {\n",
       "        text-align: right;\n",
       "    }\n",
       "</style>\n",
       "<table border=\"1\" class=\"dataframe\">\n",
       "  <thead>\n",
       "    <tr style=\"text-align: right;\">\n",
       "      <th></th>\n",
       "      <th>user_followers</th>\n",
       "      <th>user_friends</th>\n",
       "      <th>user_favourites</th>\n",
       "    </tr>\n",
       "  </thead>\n",
       "  <tbody>\n",
       "    <tr>\n",
       "      <th>count</th>\n",
       "      <td>1.791080e+05</td>\n",
       "      <td>179108.000000</td>\n",
       "      <td>1.791080e+05</td>\n",
       "    </tr>\n",
       "    <tr>\n",
       "      <th>mean</th>\n",
       "      <td>1.090555e+05</td>\n",
       "      <td>2121.701566</td>\n",
       "      <td>1.444411e+04</td>\n",
       "    </tr>\n",
       "    <tr>\n",
       "      <th>std</th>\n",
       "      <td>8.414670e+05</td>\n",
       "      <td>9162.553072</td>\n",
       "      <td>4.452270e+04</td>\n",
       "    </tr>\n",
       "    <tr>\n",
       "      <th>min</th>\n",
       "      <td>0.000000e+00</td>\n",
       "      <td>0.000000</td>\n",
       "      <td>0.000000e+00</td>\n",
       "    </tr>\n",
       "    <tr>\n",
       "      <th>25%</th>\n",
       "      <td>1.720000e+02</td>\n",
       "      <td>148.000000</td>\n",
       "      <td>2.060000e+02</td>\n",
       "    </tr>\n",
       "    <tr>\n",
       "      <th>50%</th>\n",
       "      <td>9.920000e+02</td>\n",
       "      <td>542.000000</td>\n",
       "      <td>1.791000e+03</td>\n",
       "    </tr>\n",
       "    <tr>\n",
       "      <th>75%</th>\n",
       "      <td>5.284000e+03</td>\n",
       "      <td>1725.250000</td>\n",
       "      <td>9.388000e+03</td>\n",
       "    </tr>\n",
       "    <tr>\n",
       "      <th>max</th>\n",
       "      <td>4.944256e+07</td>\n",
       "      <td>497363.000000</td>\n",
       "      <td>2.047197e+06</td>\n",
       "    </tr>\n",
       "  </tbody>\n",
       "</table>\n",
       "</div>"
      ],
      "text/plain": [
       "       user_followers   user_friends  user_favourites\n",
       "count    1.791080e+05  179108.000000     1.791080e+05\n",
       "mean     1.090555e+05    2121.701566     1.444411e+04\n",
       "std      8.414670e+05    9162.553072     4.452270e+04\n",
       "min      0.000000e+00       0.000000     0.000000e+00\n",
       "25%      1.720000e+02     148.000000     2.060000e+02\n",
       "50%      9.920000e+02     542.000000     1.791000e+03\n",
       "75%      5.284000e+03    1725.250000     9.388000e+03\n",
       "max      4.944256e+07  497363.000000     2.047197e+06"
      ]
     },
     "execution_count": 9,
     "metadata": {},
     "output_type": "execute_result"
    }
   ],
   "source": [
    "covid_data.describe()"
   ]
  },
  {
   "cell_type": "code",
   "execution_count": 10,
   "id": "90861a69",
   "metadata": {},
   "outputs": [
    {
     "data": {
      "text/plain": [
       "user_name               0\n",
       "user_location       36804\n",
       "user_description    10286\n",
       "user_created            0\n",
       "user_followers          0\n",
       "user_friends            0\n",
       "user_favourites         0\n",
       "user_verified           0\n",
       "date                    0\n",
       "text                    0\n",
       "hashtags            51334\n",
       "source                 77\n",
       "is_retweet              0\n",
       "dtype: int64"
      ]
     },
     "execution_count": 10,
     "metadata": {},
     "output_type": "execute_result"
    }
   ],
   "source": [
    "covid_data.isnull().sum()"
   ]
  },
  {
   "cell_type": "code",
   "execution_count": 11,
   "id": "41c70826",
   "metadata": {},
   "outputs": [
    {
     "data": {
      "text/plain": [
       "Index(['user_name', 'user_location', 'user_description', 'user_created',\n",
       "       'user_followers', 'user_friends', 'user_favourites', 'user_verified',\n",
       "       'date', 'text', 'hashtags', 'source', 'is_retweet'],\n",
       "      dtype='object')"
      ]
     },
     "execution_count": 11,
     "metadata": {},
     "output_type": "execute_result"
    }
   ],
   "source": [
    "covid_data.columns"
   ]
  },
  {
   "cell_type": "code",
   "execution_count": 12,
   "id": "34f67a46",
   "metadata": {},
   "outputs": [
    {
     "data": {
      "text/plain": [
       "<AxesSubplot:>"
      ]
     },
     "execution_count": 12,
     "metadata": {},
     "output_type": "execute_result"
    },
    {
     "data": {
      "image/png": "[encoded data removed]",
      "text/plain": [
       "<Figure size 432x288 with 2 Axes>"
      ]
     },
     "metadata": {
      "needs_background": "light"
     },
     "output_type": "display_data"
    }
   ],
   "source": [
    "\n",
    "sns.heatmap(covid_data.isnull())"
   ]
  },
  {
   "cell_type": "markdown",
   "id": "2189a401",
   "metadata": {},
   "source": [
    "### We have to remove the null values as we cannot impute or fill coloumns with string values,also its negligible compare to total value"
   ]
  },
  {
   "cell_type": "code",
   "execution_count": 13,
   "id": "50335903",
   "metadata": {},
   "outputs": [
    {
     "data": {
      "text/html": [
       "<div>\n",
       "<style scoped>\n",
       "    .dataframe tbody tr th:only-of-type {\n",
       "        vertical-align: middle;\n",
       "    }\n",
       "\n",
       "    .dataframe tbody tr th {\n",
       "        vertical-align: top;\n",
       "    }\n",
       "\n",
       "    .dataframe thead th {\n",
       "        text-align: right;\n",
       "    }\n",
       "</style>\n",
       "<table border=\"1\" class=\"dataframe\">\n",
       "  <thead>\n",
       "    <tr style=\"text-align: right;\">\n",
       "      <th></th>\n",
       "      <th>user_name</th>\n",
       "      <th>user_location</th>\n",
       "      <th>user_description</th>\n",
       "      <th>user_created</th>\n",
       "      <th>user_followers</th>\n",
       "      <th>user_friends</th>\n",
       "      <th>user_favourites</th>\n",
       "      <th>user_verified</th>\n",
       "      <th>date</th>\n",
       "      <th>text</th>\n",
       "      <th>hashtags</th>\n",
       "      <th>source</th>\n",
       "      <th>is_retweet</th>\n",
       "    </tr>\n",
       "  </thead>\n",
       "  <tbody>\n",
       "    <tr>\n",
       "      <th>2</th>\n",
       "      <td>Time4fisticuffs</td>\n",
       "      <td>Pewee Valley, KY</td>\n",
       "      <td>#Christian #Catholic #Conservative #Reagan #Re...</td>\n",
       "      <td>2009-02-28 18:57:41</td>\n",
       "      <td>9275</td>\n",
       "      <td>9525</td>\n",
       "      <td>7254</td>\n",
       "      <td>False</td>\n",
       "      <td>2020-07-25 12:27:14</td>\n",
       "      <td>@diane3443 @wdunlap @realDonaldTrump Trump nev...</td>\n",
       "      <td>['COVID19']</td>\n",
       "      <td>Twitter for Android</td>\n",
       "      <td>False</td>\n",
       "    </tr>\n",
       "    <tr>\n",
       "      <th>3</th>\n",
       "      <td>ethel mertz</td>\n",
       "      <td>Stuck in the Middle</td>\n",
       "      <td>#Browns #Indians #ClevelandProud #[]_[] #Cavs ...</td>\n",
       "      <td>2019-03-07 01:45:06</td>\n",
       "      <td>197</td>\n",
       "      <td>987</td>\n",
       "      <td>1488</td>\n",
       "      <td>False</td>\n",
       "      <td>2020-07-25 12:27:10</td>\n",
       "      <td>@brookbanktv The one gift #COVID19 has give me...</td>\n",
       "      <td>['COVID19']</td>\n",
       "      <td>Twitter for iPhone</td>\n",
       "      <td>False</td>\n",
       "    </tr>\n",
       "    <tr>\n",
       "      <th>4</th>\n",
       "      <td>DIPR-J&amp;K</td>\n",
       "      <td>Jammu and Kashmir</td>\n",
       "      <td>🖊️Official Twitter handle of Department of Inf...</td>\n",
       "      <td>2017-02-12 06:45:15</td>\n",
       "      <td>101009</td>\n",
       "      <td>168</td>\n",
       "      <td>101</td>\n",
       "      <td>False</td>\n",
       "      <td>2020-07-25 12:27:08</td>\n",
       "      <td>25 July : Media Bulletin on Novel #CoronaVirus...</td>\n",
       "      <td>['CoronaVirusUpdates', 'COVID19']</td>\n",
       "      <td>Twitter for Android</td>\n",
       "      <td>False</td>\n",
       "    </tr>\n",
       "    <tr>\n",
       "      <th>5</th>\n",
       "      <td>🎹 Franz Schubert</td>\n",
       "      <td>Новоро́ссия</td>\n",
       "      <td>🎼  #Новоро́ссия #Novorossiya #оставайсядома #S...</td>\n",
       "      <td>2018-03-19 16:29:52</td>\n",
       "      <td>1180</td>\n",
       "      <td>1071</td>\n",
       "      <td>1287</td>\n",
       "      <td>False</td>\n",
       "      <td>2020-07-25 12:27:06</td>\n",
       "      <td>#coronavirus #covid19 deaths continue to rise....</td>\n",
       "      <td>['coronavirus', 'covid19']</td>\n",
       "      <td>Twitter Web App</td>\n",
       "      <td>False</td>\n",
       "    </tr>\n",
       "    <tr>\n",
       "      <th>6</th>\n",
       "      <td>hr bartender</td>\n",
       "      <td>Gainesville, FL</td>\n",
       "      <td>Workplace tips and advice served up in a frien...</td>\n",
       "      <td>2008-08-12 18:19:49</td>\n",
       "      <td>79956</td>\n",
       "      <td>54810</td>\n",
       "      <td>3801</td>\n",
       "      <td>False</td>\n",
       "      <td>2020-07-25 12:27:03</td>\n",
       "      <td>How #COVID19 Will Change Work in General (and ...</td>\n",
       "      <td>['COVID19', 'Recruiting']</td>\n",
       "      <td>Buffer</td>\n",
       "      <td>False</td>\n",
       "    </tr>\n",
       "  </tbody>\n",
       "</table>\n",
       "</div>"
      ],
      "text/plain": [
       "          user_name        user_location  \\\n",
       "2   Time4fisticuffs     Pewee Valley, KY   \n",
       "3       ethel mertz  Stuck in the Middle   \n",
       "4          DIPR-J&K    Jammu and Kashmir   \n",
       "5  🎹 Franz Schubert          Новоро́ссия   \n",
       "6      hr bartender      Gainesville, FL   \n",
       "\n",
       "                                    user_description        user_created  \\\n",
       "2  #Christian #Catholic #Conservative #Reagan #Re... 2009-02-28 18:57:41   \n",
       "3  #Browns #Indians #ClevelandProud #[]_[] #Cavs ... 2019-03-07 01:45:06   \n",
       "4  🖊️Official Twitter handle of Department of Inf... 2017-02-12 06:45:15   \n",
       "5  🎼  #Новоро́ссия #Novorossiya #оставайсядома #S... 2018-03-19 16:29:52   \n",
       "6  Workplace tips and advice served up in a frien... 2008-08-12 18:19:49   \n",
       "\n",
       "   user_followers  user_friends  user_favourites  user_verified  \\\n",
       "2            9275          9525             7254          False   \n",
       "3             197           987             1488          False   \n",
       "4          101009           168              101          False   \n",
       "5            1180          1071             1287          False   \n",
       "6           79956         54810             3801          False   \n",
       "\n",
       "                 date                                               text  \\\n",
       "2 2020-07-25 12:27:14  @diane3443 @wdunlap @realDonaldTrump Trump nev...   \n",
       "3 2020-07-25 12:27:10  @brookbanktv The one gift #COVID19 has give me...   \n",
       "4 2020-07-25 12:27:08  25 July : Media Bulletin on Novel #CoronaVirus...   \n",
       "5 2020-07-25 12:27:06  #coronavirus #covid19 deaths continue to rise....   \n",
       "6 2020-07-25 12:27:03  How #COVID19 Will Change Work in General (and ...   \n",
       "\n",
       "                            hashtags               source  is_retweet  \n",
       "2                        ['COVID19']  Twitter for Android       False  \n",
       "3                        ['COVID19']   Twitter for iPhone       False  \n",
       "4  ['CoronaVirusUpdates', 'COVID19']  Twitter for Android       False  \n",
       "5         ['coronavirus', 'covid19']      Twitter Web App       False  \n",
       "6          ['COVID19', 'Recruiting']               Buffer       False  "
      ]
     },
     "execution_count": 13,
     "metadata": {},
     "output_type": "execute_result"
    }
   ],
   "source": [
    "covid_data.dropna(inplace=True)\n",
    "covid_data.head()"
   ]
  },
  {
   "cell_type": "code",
   "execution_count": 14,
   "id": "7f68de8a",
   "metadata": {},
   "outputs": [
    {
     "name": "stdout",
     "output_type": "stream",
     "text": [
      "<class 'pandas.core.frame.DataFrame'>\n",
      "Int64Index: 99117 entries, 2 to 179106\n",
      "Data columns (total 13 columns):\n",
      " #   Column            Non-Null Count  Dtype         \n",
      "---  ------            --------------  -----         \n",
      " 0   user_name         99117 non-null  object        \n",
      " 1   user_location     99117 non-null  object        \n",
      " 2   user_description  99117 non-null  object        \n",
      " 3   user_created      99117 non-null  datetime64[ns]\n",
      " 4   user_followers    99117 non-null  int64         \n",
      " 5   user_friends      99117 non-null  int64         \n",
      " 6   user_favourites   99117 non-null  int64         \n",
      " 7   user_verified     99117 non-null  bool          \n",
      " 8   date              99117 non-null  datetime64[ns]\n",
      " 9   text              99117 non-null  object        \n",
      " 10  hashtags          99117 non-null  object        \n",
      " 11  source            99117 non-null  object        \n",
      " 12  is_retweet        99117 non-null  bool          \n",
      "dtypes: bool(2), datetime64[ns](2), int64(3), object(6)\n",
      "memory usage: 9.3+ MB\n"
     ]
    }
   ],
   "source": [
    "covid_data.info()"
   ]
  },
  {
   "cell_type": "code",
   "execution_count": 15,
   "id": "749282be",
   "metadata": {},
   "outputs": [
    {
     "data": {
      "text/plain": [
       "covidnews.ch              402\n",
       "GlobalPandemic.NET        320\n",
       "Blood Donors India        282\n",
       "Hindustan Times           267\n",
       "IANS Tweets               228\n",
       "                         ... \n",
       "CODEINE COWBOY🍼🍬            1\n",
       "Newsindia2580               1\n",
       "University of Bath          1\n",
       "Rebecca Linssen             1\n",
       "AJIMATI AbdulRahman O.      1\n",
       "Name: user_name, Length: 53233, dtype: int64"
      ]
     },
     "execution_count": 15,
     "metadata": {},
     "output_type": "execute_result"
    }
   ],
   "source": [
    "covid_data.user_name.value_counts()"
   ]
  },
  {
   "cell_type": "markdown",
   "id": "3274c44c",
   "metadata": {},
   "source": [
    "### Fuzzymatch and other techniques"
   ]
  },
  {
   "cell_type": "code",
   "execution_count": 16,
   "id": "6c8f93df",
   "metadata": {},
   "outputs": [
    {
     "data": {
      "text/html": [
       "<div>\n",
       "<style scoped>\n",
       "    .dataframe tbody tr th:only-of-type {\n",
       "        vertical-align: middle;\n",
       "    }\n",
       "\n",
       "    .dataframe tbody tr th {\n",
       "        vertical-align: top;\n",
       "    }\n",
       "\n",
       "    .dataframe thead th {\n",
       "        text-align: right;\n",
       "    }\n",
       "</style>\n",
       "<table border=\"1\" class=\"dataframe\">\n",
       "  <thead>\n",
       "    <tr style=\"text-align: right;\">\n",
       "      <th></th>\n",
       "      <th>user_location</th>\n",
       "      <th>user_followers</th>\n",
       "      <th>user_friends</th>\n",
       "      <th>user_favourites</th>\n",
       "    </tr>\n",
       "  </thead>\n",
       "  <tbody>\n",
       "    <tr>\n",
       "      <th>2</th>\n",
       "      <td>Pewee Valley, KY</td>\n",
       "      <td>9275</td>\n",
       "      <td>9525</td>\n",
       "      <td>7254</td>\n",
       "    </tr>\n",
       "    <tr>\n",
       "      <th>3</th>\n",
       "      <td>Stuck in the Middle</td>\n",
       "      <td>197</td>\n",
       "      <td>987</td>\n",
       "      <td>1488</td>\n",
       "    </tr>\n",
       "    <tr>\n",
       "      <th>4</th>\n",
       "      <td>Jammu and Kashmir</td>\n",
       "      <td>101009</td>\n",
       "      <td>168</td>\n",
       "      <td>101</td>\n",
       "    </tr>\n",
       "    <tr>\n",
       "      <th>5</th>\n",
       "      <td>Новоро́ссия</td>\n",
       "      <td>1180</td>\n",
       "      <td>1071</td>\n",
       "      <td>1287</td>\n",
       "    </tr>\n",
       "    <tr>\n",
       "      <th>6</th>\n",
       "      <td>Gainesville, FL</td>\n",
       "      <td>79956</td>\n",
       "      <td>54810</td>\n",
       "      <td>3801</td>\n",
       "    </tr>\n",
       "    <tr>\n",
       "      <th>9</th>\n",
       "      <td>👇🏻location at link below👇🏻</td>\n",
       "      <td>55201</td>\n",
       "      <td>34239</td>\n",
       "      <td>29802</td>\n",
       "    </tr>\n",
       "    <tr>\n",
       "      <th>11</th>\n",
       "      <td>Dhaka,Bangladesh</td>\n",
       "      <td>241</td>\n",
       "      <td>1694</td>\n",
       "      <td>8443</td>\n",
       "    </tr>\n",
       "    <tr>\n",
       "      <th>12</th>\n",
       "      <td>Hotel living - various cities!  Who needs a ho...</td>\n",
       "      <td>0</td>\n",
       "      <td>8</td>\n",
       "      <td>32</td>\n",
       "    </tr>\n",
       "    <tr>\n",
       "      <th>13</th>\n",
       "      <td>Africa</td>\n",
       "      <td>830</td>\n",
       "      <td>254</td>\n",
       "      <td>3692</td>\n",
       "    </tr>\n",
       "    <tr>\n",
       "      <th>15</th>\n",
       "      <td>Nagaland, India</td>\n",
       "      <td>274</td>\n",
       "      <td>32</td>\n",
       "      <td>378</td>\n",
       "    </tr>\n",
       "    <tr>\n",
       "      <th>17</th>\n",
       "      <td>Brussels</td>\n",
       "      <td>283</td>\n",
       "      <td>1432</td>\n",
       "      <td>1546</td>\n",
       "    </tr>\n",
       "    <tr>\n",
       "      <th>23</th>\n",
       "      <td>100+ countries</td>\n",
       "      <td>3038</td>\n",
       "      <td>2713</td>\n",
       "      <td>7445</td>\n",
       "    </tr>\n",
       "    <tr>\n",
       "      <th>24</th>\n",
       "      <td>Graz</td>\n",
       "      <td>18145</td>\n",
       "      <td>1389</td>\n",
       "      <td>13578</td>\n",
       "    </tr>\n",
       "    <tr>\n",
       "      <th>25</th>\n",
       "      <td>Mumbai, India</td>\n",
       "      <td>1215920</td>\n",
       "      <td>2047</td>\n",
       "      <td>19359</td>\n",
       "    </tr>\n",
       "    <tr>\n",
       "      <th>26</th>\n",
       "      <td>Working in 175+ countries</td>\n",
       "      <td>20699</td>\n",
       "      <td>458</td>\n",
       "      <td>2680</td>\n",
       "    </tr>\n",
       "    <tr>\n",
       "      <th>27</th>\n",
       "      <td>Manhattan, NY</td>\n",
       "      <td>86</td>\n",
       "      <td>259</td>\n",
       "      <td>9412</td>\n",
       "    </tr>\n",
       "    <tr>\n",
       "      <th>28</th>\n",
       "      <td>no e-pass to cross borders...</td>\n",
       "      <td>8205</td>\n",
       "      <td>1083</td>\n",
       "      <td>32076</td>\n",
       "    </tr>\n",
       "    <tr>\n",
       "      <th>31</th>\n",
       "      <td>Chennai, India</td>\n",
       "      <td>55589</td>\n",
       "      <td>548</td>\n",
       "      <td>10526</td>\n",
       "    </tr>\n",
       "    <tr>\n",
       "      <th>32</th>\n",
       "      <td>Miami, FL</td>\n",
       "      <td>82</td>\n",
       "      <td>92</td>\n",
       "      <td>1152</td>\n",
       "    </tr>\n",
       "    <tr>\n",
       "      <th>33</th>\n",
       "      <td>British Columbia, Canada</td>\n",
       "      <td>54</td>\n",
       "      <td>422</td>\n",
       "      <td>1392</td>\n",
       "    </tr>\n",
       "  </tbody>\n",
       "</table>\n",
       "</div>"
      ],
      "text/plain": [
       "                                        user_location  user_followers  \\\n",
       "2                                    Pewee Valley, KY            9275   \n",
       "3                                 Stuck in the Middle             197   \n",
       "4                                   Jammu and Kashmir          101009   \n",
       "5                                         Новоро́ссия            1180   \n",
       "6                                     Gainesville, FL           79956   \n",
       "9                          👇🏻location at link below👇🏻           55201   \n",
       "11                                   Dhaka,Bangladesh             241   \n",
       "12  Hotel living - various cities!  Who needs a ho...               0   \n",
       "13                                             Africa             830   \n",
       "15                                    Nagaland, India             274   \n",
       "17                                           Brussels             283   \n",
       "23                                     100+ countries            3038   \n",
       "24                                               Graz           18145   \n",
       "25                                      Mumbai, India         1215920   \n",
       "26                          Working in 175+ countries           20699   \n",
       "27                                      Manhattan, NY              86   \n",
       "28                      no e-pass to cross borders...            8205   \n",
       "31                                     Chennai, India           55589   \n",
       "32                                          Miami, FL              82   \n",
       "33                           British Columbia, Canada              54   \n",
       "\n",
       "    user_friends  user_favourites  \n",
       "2           9525             7254  \n",
       "3            987             1488  \n",
       "4            168              101  \n",
       "5           1071             1287  \n",
       "6          54810             3801  \n",
       "9          34239            29802  \n",
       "11          1694             8443  \n",
       "12             8               32  \n",
       "13           254             3692  \n",
       "15            32              378  \n",
       "17          1432             1546  \n",
       "23          2713             7445  \n",
       "24          1389            13578  \n",
       "25          2047            19359  \n",
       "26           458             2680  \n",
       "27           259             9412  \n",
       "28          1083            32076  \n",
       "31           548            10526  \n",
       "32            92             1152  \n",
       "33           422             1392  "
      ]
     },
     "execution_count": 16,
     "metadata": {},
     "output_type": "execute_result"
    }
   ],
   "source": [
    "df = covid_data.drop(['user_name','user_description','user_created','user_verified','date','text','hashtags','source','is_retweet'], axis=1)\n",
    "df.head(20)"
   ]
  },
  {
   "cell_type": "code",
   "execution_count": 17,
   "id": "d81bcdad",
   "metadata": {},
   "outputs": [
    {
     "name": "stderr",
     "output_type": "stream",
     "text": [
      "C:\\Users\\Joban Chauhan\\AppData\\Local\\Programs\\Python\\Python39\\lib\\site-packages\\fuzzywuzzy\\fuzz.py:11: UserWarning: Using slow pure-python SequenceMatcher. Install python-Levenshtein to remove this warning\n",
      "  warnings.warn('Using slow pure-python SequenceMatcher. Install python-Levenshtein to remove this warning')\n"
     ]
    }
   ],
   "source": [
    "#Fuzzi Matching\n",
    "x=['Pankaj','Sudheer','Prerna','Gyan']\n",
    "y=['abc','Prem','Pankaj','Sudha S','Arun','jkapna']\n",
    "from fuzzywuzzy import fuzz,process"
   ]
  },
  {
   "cell_type": "code",
   "execution_count": 18,
   "id": "51a3d583",
   "metadata": {},
   "outputs": [],
   "source": [
    "matches=[]\n",
    "for i in x:\n",
    "    matches.append(process.extract(i,y,limit=2))"
   ]
  },
  {
   "cell_type": "code",
   "execution_count": 19,
   "id": "3cd22a45",
   "metadata": {},
   "outputs": [
    {
     "name": "stdout",
     "output_type": "stream",
     "text": [
      "[[('Pankaj', 100), ('Arun', 45)], [('Sudha S', 57), ('Prem', 30)], [('Prem', 68), ('Pankaj', 50)], [('Arun', 50), ('Pankaj', 45)]]\n"
     ]
    }
   ],
   "source": [
    "print(matches)"
   ]
  },
  {
   "cell_type": "code",
   "execution_count": 20,
   "id": "1b40e4f1",
   "metadata": {},
   "outputs": [
    {
     "data": {
      "text/plain": [
       "(['Pankaj', 'Sudheer', 'Prerna', 'Gyan'],\n",
       " ['abc', 'Prem', 'Pankaj', 'Sudha S', 'Arun', 'jkapna'])"
      ]
     },
     "execution_count": 20,
     "metadata": {},
     "output_type": "execute_result"
    }
   ],
   "source": [
    "x,y"
   ]
  },
  {
   "cell_type": "code",
   "execution_count": 21,
   "id": "28eb4c6c",
   "metadata": {},
   "outputs": [
    {
     "name": "stdout",
     "output_type": "stream",
     "text": [
      "[[('Pankaj', 100), ('Arun', 45), ('jkapna', 33), ('abc', 30), ('Prem', 22)], [('Sudha S', 57), ('Prem', 30), ('Arun', 30), ('abc', 0), ('Pankaj', 0)], [('Prem', 68), ('Pankaj', 50), ('jkapna', 50), ('abc', 45), ('Arun', 40)], [('Arun', 50), ('Pankaj', 45), ('jkapna', 45), ('abc', 29), ('Sudha S', 25)]]\n"
     ]
    }
   ],
   "source": [
    "matches=[]\n",
    "for i in x:\n",
    "    matches.append(process.extract(i,y))\n",
    "print(matches)"
   ]
  },
  {
   "cell_type": "code",
   "execution_count": 22,
   "id": "c1f14c9e",
   "metadata": {},
   "outputs": [
    {
     "name": "stdout",
     "output_type": "stream",
     "text": [
      "[('Pankaj', 100), ('Arun', 45), ('jkapna', 33), ('abc', 30), ('Prem', 22)]\n",
      "[('Sudha S', 57), ('Prem', 30), ('Arun', 30), ('abc', 0), ('Pankaj', 0)]\n",
      "[('Prem', 68), ('Pankaj', 50), ('jkapna', 50), ('abc', 45), ('Arun', 40)]\n",
      "[('Arun', 50), ('Pankaj', 45), ('jkapna', 45), ('abc', 29), ('Sudha S', 25)]\n"
     ]
    }
   ],
   "source": [
    "for i in matches:\n",
    "    print(i)"
   ]
  },
  {
   "cell_type": "code",
   "execution_count": 23,
   "id": "e887ab25",
   "metadata": {},
   "outputs": [],
   "source": [
    "import difflib"
   ]
  },
  {
   "cell_type": "code",
   "execution_count": 24,
   "id": "6aa4904b",
   "metadata": {},
   "outputs": [],
   "source": [
    "from difflib import SequenceMatcher"
   ]
  },
  {
   "cell_type": "code",
   "execution_count": 25,
   "id": "6675e315",
   "metadata": {},
   "outputs": [
    {
     "data": {
      "text/plain": [
       "<difflib.SequenceMatcher at 0x27f49a65430>"
      ]
     },
     "execution_count": 25,
     "metadata": {},
     "output_type": "execute_result"
    }
   ],
   "source": [
    "s1='python world'\n",
    "s2='The world is python'\n",
    "sm2=SequenceMatcher(a=s1,b=s2)\n",
    "sm2"
   ]
  },
  {
   "cell_type": "code",
   "execution_count": 26,
   "id": "9dfff136",
   "metadata": {},
   "outputs": [
    {
     "data": {
      "text/plain": [
       "0.3870967741935484"
      ]
     },
     "execution_count": 26,
     "metadata": {},
     "output_type": "execute_result"
    }
   ],
   "source": [
    "sm2.ratio()"
   ]
  },
  {
   "cell_type": "code",
   "execution_count": 27,
   "id": "b836ad23",
   "metadata": {},
   "outputs": [
    {
     "data": {
      "text/plain": [
       "0.9230769230769231"
      ]
     },
     "execution_count": 27,
     "metadata": {},
     "output_type": "execute_result"
    }
   ],
   "source": [
    "s1='Joban Chauhan'\n",
    "s2='Joban_Chauhan'\n",
    "sm=SequenceMatcher(a=s1,b=s2)\n",
    "sm.ratio()"
   ]
  },
  {
   "cell_type": "code",
   "execution_count": 28,
   "id": "af0a9d72",
   "metadata": {},
   "outputs": [],
   "source": [
    "from difflib import Differ"
   ]
  },
  {
   "cell_type": "code",
   "execution_count": 29,
   "id": "8fb5cbbf",
   "metadata": {},
   "outputs": [],
   "source": [
    "from difflib import get_close_matches"
   ]
  },
  {
   "cell_type": "code",
   "execution_count": 30,
   "id": "cdb8f87c",
   "metadata": {},
   "outputs": [
    {
     "name": "stdout",
     "output_type": "stream",
     "text": [
      "['covid19', '19covid', 'Covid']\n"
     ]
    }
   ],
   "source": [
    "d=get_close_matches('covid19',['world python','coronavirus','19covid','covid19','Covid'],cutoff=0.6)\n",
    "print(d)"
   ]
  },
  {
   "cell_type": "code",
   "execution_count": 31,
   "id": "d6f61aa7",
   "metadata": {},
   "outputs": [
    {
     "name": "stdout",
     "output_type": "stream",
     "text": [
      "['covid19', '19covid']\n"
     ]
    }
   ],
   "source": [
    "d=get_close_matches('covid19',['world python','coronavirus','19covid','covid19','Covid'],n=2)\n",
    "print(d)"
   ]
  },
  {
   "cell_type": "markdown",
   "id": "ab14a0eb",
   "metadata": {},
   "source": [
    "### EDA on Tweet count with Location"
   ]
  },
  {
   "cell_type": "code",
   "execution_count": 32,
   "id": "4ab0f08e",
   "metadata": {},
   "outputs": [],
   "source": [
    "User_loc_df = covid_data.user_location.value_counts().reset_index()\n",
    "User_loc_df.sort_values(by='user_location',ascending=False,inplace=True)\n",
    "User_loc_df.rename(columns = {'index':'Location', 'user_location':'Count'}, inplace = True)"
   ]
  },
  {
   "cell_type": "code",
   "execution_count": 33,
   "id": "675878c6",
   "metadata": {
    "scrolled": true
   },
   "outputs": [
    {
     "data": {
      "text/html": [
       "<div>\n",
       "<style scoped>\n",
       "    .dataframe tbody tr th:only-of-type {\n",
       "        vertical-align: middle;\n",
       "    }\n",
       "\n",
       "    .dataframe tbody tr th {\n",
       "        vertical-align: top;\n",
       "    }\n",
       "\n",
       "    .dataframe thead th {\n",
       "        text-align: right;\n",
       "    }\n",
       "</style>\n",
       "<table border=\"1\" class=\"dataframe\">\n",
       "  <thead>\n",
       "    <tr style=\"text-align: right;\">\n",
       "      <th></th>\n",
       "      <th>Location</th>\n",
       "      <th>Count</th>\n",
       "    </tr>\n",
       "  </thead>\n",
       "  <tbody>\n",
       "    <tr>\n",
       "      <th>0</th>\n",
       "      <td>India</td>\n",
       "      <td>2978</td>\n",
       "    </tr>\n",
       "    <tr>\n",
       "      <th>1</th>\n",
       "      <td>United States</td>\n",
       "      <td>1736</td>\n",
       "    </tr>\n",
       "    <tr>\n",
       "      <th>2</th>\n",
       "      <td>New Delhi, India</td>\n",
       "      <td>1349</td>\n",
       "    </tr>\n",
       "    <tr>\n",
       "      <th>3</th>\n",
       "      <td>Mumbai, India</td>\n",
       "      <td>1098</td>\n",
       "    </tr>\n",
       "    <tr>\n",
       "      <th>4</th>\n",
       "      <td>Washington, DC</td>\n",
       "      <td>956</td>\n",
       "    </tr>\n",
       "    <tr>\n",
       "      <th>...</th>\n",
       "      <td>...</td>\n",
       "      <td>...</td>\n",
       "    </tr>\n",
       "    <tr>\n",
       "      <th>11662</th>\n",
       "      <td>Huntington,WV</td>\n",
       "      <td>1</td>\n",
       "    </tr>\n",
       "    <tr>\n",
       "      <th>11663</th>\n",
       "      <td>GM, SAIL, Dhanbad, India</td>\n",
       "      <td>1</td>\n",
       "    </tr>\n",
       "    <tr>\n",
       "      <th>11664</th>\n",
       "      <td>Johannesburg &amp; Cape Town</td>\n",
       "      <td>1</td>\n",
       "    </tr>\n",
       "    <tr>\n",
       "      <th>11665</th>\n",
       "      <td>Puget Sound, USA</td>\n",
       "      <td>1</td>\n",
       "    </tr>\n",
       "    <tr>\n",
       "      <th>20370</th>\n",
       "      <td>T.O.</td>\n",
       "      <td>1</td>\n",
       "    </tr>\n",
       "  </tbody>\n",
       "</table>\n",
       "<p>20371 rows × 2 columns</p>\n",
       "</div>"
      ],
      "text/plain": [
       "                       Location  Count\n",
       "0                         India   2978\n",
       "1                 United States   1736\n",
       "2              New Delhi, India   1349\n",
       "3                 Mumbai, India   1098\n",
       "4                Washington, DC    956\n",
       "...                         ...    ...\n",
       "11662             Huntington,WV      1\n",
       "11663  GM, SAIL, Dhanbad, India      1\n",
       "11664  Johannesburg & Cape Town      1\n",
       "11665         Puget Sound, USA       1\n",
       "20370                      T.O.      1\n",
       "\n",
       "[20371 rows x 2 columns]"
      ]
     },
     "execution_count": 33,
     "metadata": {},
     "output_type": "execute_result"
    }
   ],
   "source": [
    "User_loc_df"
   ]
  },
  {
   "cell_type": "code",
   "execution_count": 34,
   "id": "8acbd504",
   "metadata": {},
   "outputs": [
    {
     "name": "stdout",
     "output_type": "stream",
     "text": [
      "As we can see that India has highest tweets on covid 19 is 2978\n"
     ]
    }
   ],
   "source": [
    "print(f\"As we can see that {User_loc_df.Location[0]} has highest tweets on covid 19 is {User_loc_df.Count[0]}\")"
   ]
  },
  {
   "cell_type": "code",
   "execution_count": 35,
   "id": "47878a62",
   "metadata": {
    "scrolled": true
   },
   "outputs": [
    {
     "data": {
      "text/plain": [
       "Text(0, 0.5, 'Count Of tweets per User Location')"
      ]
     },
     "execution_count": 35,
     "metadata": {},
     "output_type": "execute_result"
    },
    {
     "data": {
      "image/png": "[encoded data removed]",
      "text/plain": [
       "<Figure size 1440x720 with 1 Axes>"
      ]
     },
     "metadata": {
      "needs_background": "light"
     },
     "output_type": "display_data"
    }
   ],
   "source": [
    "# We can see other country/regions tweet count (top 50) as shown compare to India\n",
    "\n",
    "plt.figure(figsize=(20,10))\n",
    "user_loc = covid_data.user_location.value_counts().head(50).plot.bar()\n",
    "plt.title(\"No of User location\")\n",
    "plt.xlabel(\"User location\")\n",
    "plt.ylabel(\"Count Of tweets per User Location\")\n"
   ]
  },
  {
   "cell_type": "code",
   "execution_count": 36,
   "id": "ea5149d5",
   "metadata": {},
   "outputs": [],
   "source": [
    "# user_loc_group = covid_data.groupby(\"user_location\").plot.bar()"
   ]
  },
  {
   "cell_type": "code",
   "execution_count": 37,
   "id": "4e51f824",
   "metadata": {},
   "outputs": [],
   "source": [
    "unique_loc = covid_data.user_location.unique()"
   ]
  },
  {
   "cell_type": "code",
   "execution_count": 38,
   "id": "4a2bfe92",
   "metadata": {},
   "outputs": [
    {
     "data": {
      "text/plain": [
       "20371"
      ]
     },
     "execution_count": 38,
     "metadata": {},
     "output_type": "execute_result"
    }
   ],
   "source": [
    "len(unique_loc)"
   ]
  },
  {
   "cell_type": "code",
   "execution_count": 39,
   "id": "e3a345d1",
   "metadata": {},
   "outputs": [
    {
     "data": {
      "text/plain": [
       "array(['Pewee Valley, KY', 'Stuck in the Middle', 'Jammu and Kashmir',\n",
       "       ..., 'Europe 🌏', 'Newton, NJ', 'T.O.'], dtype=object)"
      ]
     },
     "execution_count": 39,
     "metadata": {},
     "output_type": "execute_result"
    }
   ],
   "source": [
    "unique_loc"
   ]
  },
  {
   "cell_type": "code",
   "execution_count": 40,
   "id": "2aee15c9",
   "metadata": {},
   "outputs": [],
   "source": [
    "def df_unique_values(df):\n",
    "    unique_df = pd.DataFrame()\n",
    "    unique_df[\"column\"] = covid_data.columns\n",
    "    uni_values = []\n",
    "    for i in covid_data.columns:\n",
    "        j = covid_data[i].nunique()\n",
    "        uni_values.append(j)\n",
    "    unique_df[\"unique_values\"] = uni_values\n",
    "    return unique_df"
   ]
  },
  {
   "cell_type": "code",
   "execution_count": 41,
   "id": "dccdbdda",
   "metadata": {},
   "outputs": [],
   "source": [
    "df_unique = df_unique_values(covid_data)"
   ]
  },
  {
   "cell_type": "code",
   "execution_count": 42,
   "id": "51ac8c20",
   "metadata": {},
   "outputs": [
    {
     "data": {
      "text/html": [
       "<div>\n",
       "<style scoped>\n",
       "    .dataframe tbody tr th:only-of-type {\n",
       "        vertical-align: middle;\n",
       "    }\n",
       "\n",
       "    .dataframe tbody tr th {\n",
       "        vertical-align: top;\n",
       "    }\n",
       "\n",
       "    .dataframe thead th {\n",
       "        text-align: right;\n",
       "    }\n",
       "</style>\n",
       "<table border=\"1\" class=\"dataframe\">\n",
       "  <thead>\n",
       "    <tr style=\"text-align: right;\">\n",
       "      <th></th>\n",
       "      <th>column</th>\n",
       "      <th>unique_values</th>\n",
       "    </tr>\n",
       "  </thead>\n",
       "  <tbody>\n",
       "    <tr>\n",
       "      <th>0</th>\n",
       "      <td>user_name</td>\n",
       "      <td>53233</td>\n",
       "    </tr>\n",
       "    <tr>\n",
       "      <th>1</th>\n",
       "      <td>user_location</td>\n",
       "      <td>20371</td>\n",
       "    </tr>\n",
       "    <tr>\n",
       "      <th>2</th>\n",
       "      <td>user_description</td>\n",
       "      <td>54637</td>\n",
       "    </tr>\n",
       "    <tr>\n",
       "      <th>3</th>\n",
       "      <td>user_created</td>\n",
       "      <td>53513</td>\n",
       "    </tr>\n",
       "    <tr>\n",
       "      <th>4</th>\n",
       "      <td>user_followers</td>\n",
       "      <td>22146</td>\n",
       "    </tr>\n",
       "    <tr>\n",
       "      <th>5</th>\n",
       "      <td>user_friends</td>\n",
       "      <td>9226</td>\n",
       "    </tr>\n",
       "    <tr>\n",
       "      <th>6</th>\n",
       "      <td>user_favourites</td>\n",
       "      <td>26037</td>\n",
       "    </tr>\n",
       "    <tr>\n",
       "      <th>7</th>\n",
       "      <td>user_verified</td>\n",
       "      <td>2</td>\n",
       "    </tr>\n",
       "    <tr>\n",
       "      <th>8</th>\n",
       "      <td>date</td>\n",
       "      <td>83767</td>\n",
       "    </tr>\n",
       "    <tr>\n",
       "      <th>9</th>\n",
       "      <td>text</td>\n",
       "      <td>98920</td>\n",
       "    </tr>\n",
       "    <tr>\n",
       "      <th>10</th>\n",
       "      <td>hashtags</td>\n",
       "      <td>41698</td>\n",
       "    </tr>\n",
       "    <tr>\n",
       "      <th>11</th>\n",
       "      <td>source</td>\n",
       "      <td>432</td>\n",
       "    </tr>\n",
       "    <tr>\n",
       "      <th>12</th>\n",
       "      <td>is_retweet</td>\n",
       "      <td>1</td>\n",
       "    </tr>\n",
       "  </tbody>\n",
       "</table>\n",
       "</div>"
      ],
      "text/plain": [
       "              column  unique_values\n",
       "0          user_name          53233\n",
       "1      user_location          20371\n",
       "2   user_description          54637\n",
       "3       user_created          53513\n",
       "4     user_followers          22146\n",
       "5       user_friends           9226\n",
       "6    user_favourites          26037\n",
       "7      user_verified              2\n",
       "8               date          83767\n",
       "9               text          98920\n",
       "10          hashtags          41698\n",
       "11            source            432\n",
       "12        is_retweet              1"
      ]
     },
     "execution_count": 42,
     "metadata": {},
     "output_type": "execute_result"
    }
   ],
   "source": [
    "df_unique"
   ]
  },
  {
   "cell_type": "code",
   "execution_count": 43,
   "id": "84e878ed",
   "metadata": {
    "scrolled": true
   },
   "outputs": [
    {
     "data": {
      "image/png": "[encoded data removed]",
      "text/plain": [
       "<Figure size 1080x720 with 1 Axes>"
      ]
     },
     "metadata": {
      "needs_background": "light"
     },
     "output_type": "display_data"
    }
   ],
   "source": [
    "plt.figure(figsize=(15,10))\n",
    "plt.bar(df_unique.column,df_unique.unique_values)\n",
    "plt.title(\"Count Of unique values per features\")\n",
    "plt.xlabel(\"features\")\n",
    "plt.ylabel(\"Count Of unique values\")\n",
    "plt.xticks(rotation = 90)\n",
    "plt.show()\n"
   ]
  },
  {
   "cell_type": "markdown",
   "id": "9a871a91",
   "metadata": {},
   "source": [
    "### EDA on Tweet count with Source"
   ]
  },
  {
   "cell_type": "code",
   "execution_count": 44,
   "id": "ea51761a",
   "metadata": {},
   "outputs": [],
   "source": [
    "Source_df = covid_data.source.value_counts().reset_index()\n",
    "Source_df.sort_values(by='source',ascending=False,inplace=True)\n",
    "Source_df.rename(columns = {'index':'Source', 'Source':'Count'}, inplace = True)"
   ]
  },
  {
   "cell_type": "code",
   "execution_count": 45,
   "id": "697a3451",
   "metadata": {},
   "outputs": [
    {
     "data": {
      "text/html": [
       "<div>\n",
       "<style scoped>\n",
       "    .dataframe tbody tr th:only-of-type {\n",
       "        vertical-align: middle;\n",
       "    }\n",
       "\n",
       "    .dataframe tbody tr th {\n",
       "        vertical-align: top;\n",
       "    }\n",
       "\n",
       "    .dataframe thead th {\n",
       "        text-align: right;\n",
       "    }\n",
       "</style>\n",
       "<table border=\"1\" class=\"dataframe\">\n",
       "  <thead>\n",
       "    <tr style=\"text-align: right;\">\n",
       "      <th></th>\n",
       "      <th>Source</th>\n",
       "      <th>source</th>\n",
       "    </tr>\n",
       "  </thead>\n",
       "  <tbody>\n",
       "    <tr>\n",
       "      <th>0</th>\n",
       "      <td>Twitter Web App</td>\n",
       "      <td>32288</td>\n",
       "    </tr>\n",
       "    <tr>\n",
       "      <th>1</th>\n",
       "      <td>Twitter for Android</td>\n",
       "      <td>21461</td>\n",
       "    </tr>\n",
       "    <tr>\n",
       "      <th>2</th>\n",
       "      <td>Twitter for iPhone</td>\n",
       "      <td>18572</td>\n",
       "    </tr>\n",
       "    <tr>\n",
       "      <th>3</th>\n",
       "      <td>TweetDeck</td>\n",
       "      <td>5392</td>\n",
       "    </tr>\n",
       "    <tr>\n",
       "      <th>4</th>\n",
       "      <td>Hootsuite Inc.</td>\n",
       "      <td>4268</td>\n",
       "    </tr>\n",
       "    <tr>\n",
       "      <th>...</th>\n",
       "      <td>...</td>\n",
       "      <td>...</td>\n",
       "    </tr>\n",
       "    <tr>\n",
       "      <th>348</th>\n",
       "      <td>InfoBlaze India</td>\n",
       "      <td>1</td>\n",
       "    </tr>\n",
       "    <tr>\n",
       "      <th>347</th>\n",
       "      <td>Bot Libre!</td>\n",
       "      <td>1</td>\n",
       "    </tr>\n",
       "    <tr>\n",
       "      <th>346</th>\n",
       "      <td>Promo.com</td>\n",
       "      <td>1</td>\n",
       "    </tr>\n",
       "    <tr>\n",
       "      <th>345</th>\n",
       "      <td>BT Production Site</td>\n",
       "      <td>1</td>\n",
       "    </tr>\n",
       "    <tr>\n",
       "      <th>431</th>\n",
       "      <td>GroupTweet</td>\n",
       "      <td>1</td>\n",
       "    </tr>\n",
       "  </tbody>\n",
       "</table>\n",
       "<p>432 rows × 2 columns</p>\n",
       "</div>"
      ],
      "text/plain": [
       "                  Source  source\n",
       "0        Twitter Web App   32288\n",
       "1    Twitter for Android   21461\n",
       "2     Twitter for iPhone   18572\n",
       "3              TweetDeck    5392\n",
       "4         Hootsuite Inc.    4268\n",
       "..                   ...     ...\n",
       "348      InfoBlaze India       1\n",
       "347           Bot Libre!       1\n",
       "346            Promo.com       1\n",
       "345   BT Production Site       1\n",
       "431           GroupTweet       1\n",
       "\n",
       "[432 rows x 2 columns]"
      ]
     },
     "execution_count": 45,
     "metadata": {},
     "output_type": "execute_result"
    }
   ],
   "source": [
    "Source_df"
   ]
  },
  {
   "cell_type": "code",
   "execution_count": 46,
   "id": "e9b77c1d",
   "metadata": {},
   "outputs": [
    {
     "data": {
      "text/plain": [
       "0               Twitter Web App\n",
       "1           Twitter for Android\n",
       "2            Twitter for iPhone\n",
       "3                     TweetDeck\n",
       "4                Hootsuite Inc.\n",
       "                 ...           \n",
       "427    Janetter Pro for Android\n",
       "428     TD Wealth Social Centre\n",
       "429               SpaceRefTweet\n",
       "430                    Planable\n",
       "431                  GroupTweet\n",
       "Name: index, Length: 432, dtype: object"
      ]
     },
     "execution_count": 46,
     "metadata": {},
     "output_type": "execute_result"
    }
   ],
   "source": [
    "covid_data[\"source\"].value_counts().reset_index()[\"index\"].astype(\"str\")"
   ]
  },
  {
   "cell_type": "code",
   "execution_count": 47,
   "id": "19645836",
   "metadata": {},
   "outputs": [
    {
     "data": {
      "text/plain": [
       "0               Twitter Web App\n",
       "1           Twitter for Android\n",
       "2            Twitter for iPhone\n",
       "3                     TweetDeck\n",
       "4                Hootsuite Inc.\n",
       "                 ...           \n",
       "427    Janetter Pro for Android\n",
       "428     TD Wealth Social Centre\n",
       "429               SpaceRefTweet\n",
       "430                    Planable\n",
       "431                  GroupTweet\n",
       "Name: index, Length: 432, dtype: object"
      ]
     },
     "execution_count": 47,
     "metadata": {},
     "output_type": "execute_result"
    }
   ],
   "source": [
    "covid_unique_source_count = covid_data[\"source\"].value_counts().reset_index()[\"index\"].astype(\"str\")\n",
    "for i in covid_unique_source_count:\n",
    "    if type(i) != str:\n",
    "        print(i)\n",
    "covid_unique_source_count"
   ]
  },
  {
   "cell_type": "code",
   "execution_count": 48,
   "id": "0a1dd0de",
   "metadata": {},
   "outputs": [
    {
     "data": {
      "text/plain": [
       "{'Twitter Web App': 32288,\n",
       " 'Twitter for Android': 21461,\n",
       " 'Twitter for iPhone': 18572,\n",
       " 'TweetDeck': 5392,\n",
       " 'Hootsuite Inc.': 4268,\n",
       " 'Twitter for iPad': 2425,\n",
       " 'Buffer': 1693,\n",
       " 'Instagram': 1212,\n",
       " 'Sprout Social': 1152,\n",
       " 'IFTTT': 792,\n",
       " 'LinkedIn': 422,\n",
       " 'WordPress.com': 416,\n",
       " 'Twitter Media Studio': 416,\n",
       " 'FS Poster': 403,\n",
       " 'Sprinklr': 350,\n",
       " 'GlobalPandemic.NET': 320,\n",
       " 'HubSpot': 293,\n",
       " 'Blood Donors India': 281,\n",
       " 'Paper.li': 252,\n",
       " 'Dynamic Signal': 221,\n",
       " 'Twitter for Advertisers': 206,\n",
       " 'dlvr.it': 204,\n",
       " 'HN_Comments': 191,\n",
       " 'Fabrik.fm': 174,\n",
       " 'IAMBLOG2TWITTER': 129,\n",
       " 'ContentStudio.io': 118,\n",
       " 'rate_twitte': 116,\n",
       " 'Tweetbot for iΟS': 116,\n",
       " 'Twitter for Mac': 115,\n",
       " 'Zoho Social': 113,\n",
       " 'Hocalwire Social Share': 110,\n",
       " 'Social Media Publisher App': 107,\n",
       " 'SocialPilot.co': 103,\n",
       " 'Khoros': 98,\n",
       " 'Oktopost': 97,\n",
       " 'Salesforce - Social Studio': 94,\n",
       " 'China Xinhua News': 94,\n",
       " 'TweetCaster for Android': 84,\n",
       " 'Twitter Media Studio - LiveCut': 84,\n",
       " 'SocialFlow': 79,\n",
       " 'AgoraPulse Manager': 77,\n",
       " 'Orlo': 74,\n",
       " 'Twidere for Android': 74,\n",
       " 'SocialNewsDesk': 71,\n",
       " 'Falcon Social Media Management': 71,\n",
       " 'shankar_live_bot': 70,\n",
       " 'OneUp App': 63,\n",
       " 'Prof. Shanku': 60,\n",
       " 'National Herald': 58,\n",
       " 'Tweet Suite': 58,\n",
       " 'PTI_Tweets': 54,\n",
       " 'The Social Jukebox': 54,\n",
       " 'LaterMedia': 53,\n",
       " 'Tumblr': 52,\n",
       " 'Grabyo': 51,\n",
       " 'Africa Newsroom': 50,\n",
       " 'Venrap Radio': 47,\n",
       " 'Cubi.so': 46,\n",
       " 'CoSchedule': 46,\n",
       " 'SEMrush Social Media Tool': 45,\n",
       " 'Global Citizen Mobile App': 45,\n",
       " 'Tweetbot for Mac': 45,\n",
       " 'True Anthem': 45,\n",
       " 'eMartmarket': 44,\n",
       " 'Smarp.': 44,\n",
       " 'tweet pro stiff': 44,\n",
       " 'Sprinklr Publishing': 42,\n",
       " 'autotweet scheduler': 41,\n",
       " 'preprint-alert': 41,\n",
       " 'ExanteData Robots': 39,\n",
       " 'Crowdfire App': 38,\n",
       " 'Socialbakers': 38,\n",
       " 'SocialOomph': 37,\n",
       " 'econ b2b post': 36,\n",
       " 'Echobox': 36,\n",
       " 'Integromat': 36,\n",
       " 'SmarterQueue': 36,\n",
       " 'EveryoneSocial': 35,\n",
       " 'Zapier.com': 35,\n",
       " 'Phone2Action': 34,\n",
       " 'Mobile Web (M2)': 33,\n",
       " 'eClincher': 32,\n",
       " 'Periscope': 31,\n",
       " 'Bitly': 30,\n",
       " 'Bambu by Sprout Social': 29,\n",
       " 'JoinDiaspora': 29,\n",
       " 'MeetEdgar': 29,\n",
       " 'Microsoft Power Platform': 28,\n",
       " 'Zift Platform': 27,\n",
       " 'UK COVID-19 Alerts': 26,\n",
       " 'UberSocial for Android': 25,\n",
       " 'Blog2Social APP': 25,\n",
       " 'Google': 24,\n",
       " 'Agenparl': 24,\n",
       " 'TweetAutomaticos': 24,\n",
       " 'Khoros Marketing': 24,\n",
       " 'Hearsay Social': 24,\n",
       " 'Twittimer': 24,\n",
       " 'The Tweeted Times': 23,\n",
       " 'Microsoft Azure Logic Apps': 23,\n",
       " 'Loomly': 23,\n",
       " 'HWD': 22,\n",
       " \"Sebastian's Twitter Bot\": 22,\n",
       " 'Resistbot Open Letters': 22,\n",
       " 'Typepad': 21,\n",
       " 'Facelift-Cloud': 21,\n",
       " 'Radio.co now playing': 21,\n",
       " 'ReadyForSocial App': 20,\n",
       " 'Threader_client': 20,\n",
       " 'Postcron App': 20,\n",
       " 'CovidUpdatesBot': 20,\n",
       " 'ContentCal Studio': 20,\n",
       " 'Echofon': 19,\n",
       " 'Twitter Ads': 18,\n",
       " 'TweetCaster for iOS': 18,\n",
       " 'Spreaker': 18,\n",
       " 'SocialBee.io v2': 18,\n",
       " 'Mailchimp': 17,\n",
       " 'Meltwater Social': 17,\n",
       " 'Nuzzel': 16,\n",
       " 'Post Planner Inc.': 16,\n",
       " 'PostBeyond': 16,\n",
       " 'assarofficial': 15,\n",
       " 'HeyOrca': 14,\n",
       " 'Traject Social': 14,\n",
       " 'Scoop.it': 13,\n",
       " 'tc_covid_bot': 13,\n",
       " 'Qnary.io': 13,\n",
       " 'allAfrica.com': 13,\n",
       " 'StockTwits Web': 13,\n",
       " 'Fenix 2': 13,\n",
       " 'Twitterrific for iOS': 13,\n",
       " 'Canva': 13,\n",
       " 'Missinglettr': 12,\n",
       " 'abrbuzz': 12,\n",
       " 'Fortinet Partner Social': 12,\n",
       " 'Twitseq': 12,\n",
       " 'trackingbot2020': 12,\n",
       " 'ContentMX': 12,\n",
       " 'POZ Auto Tweet': 12,\n",
       " 'Vaccines and Homeopathy News': 11,\n",
       " 'COVID19 Daily Stats': 11,\n",
       " 'Gain Platform': 11,\n",
       " \"K's posts\": 11,\n",
       " 'Sendible': 11,\n",
       " 'Powered by Sprinklr': 11,\n",
       " 'SnapStream TV Search': 10,\n",
       " 'rhega.net': 10,\n",
       " 'Kashmir Life': 10,\n",
       " 'Clearview Social, Inc.': 10,\n",
       " 'aa.com.tr': 10,\n",
       " 'Sprinklr Publisher': 9,\n",
       " 'Wildmoka': 9,\n",
       " 'Lightful': 9,\n",
       " 'CrowdControlHQ': 9,\n",
       " 'Pardot': 9,\n",
       " 'Isrg': 9,\n",
       " 'Bizcommunity.com': 8,\n",
       " 'Peeping Moon': 8,\n",
       " 'likefollowretweet': 8,\n",
       " 'Plume\\xa0for\\xa0Android': 8,\n",
       " 'GT_Backend': 8,\n",
       " 'Canada COVID-19 Bot': 8,\n",
       " \"Janindu's Bot\": 8,\n",
       " 'My Khel': 8,\n",
       " 'Vattel Tracker Dev': 8,\n",
       " 'XHNorthAmerica': 7,\n",
       " 'Phil Ammann': 7,\n",
       " 'Penname': 7,\n",
       " 'SociabbleApp': 7,\n",
       " 'Social Genie by Brighter Vision': 7,\n",
       " 'LFALSNAPAP': 7,\n",
       " 'TS Auto Tweet': 7,\n",
       " '24liveblog': 7,\n",
       " 'tprzechlewski.app': 7,\n",
       " 'dailyindia': 7,\n",
       " 'Publer': 7,\n",
       " 'Metricool': 6,\n",
       " 'Zymplify': 6,\n",
       " 'coronaBot-Purvesh': 6,\n",
       " 'Talon Android': 6,\n",
       " 'Revive Social App': 6,\n",
       " 'Salsa Social Publishing': 6,\n",
       " 'SocialChamp IO': 6,\n",
       " 'yorkshire-times': 6,\n",
       " 'ThreadReaderApp': 6,\n",
       " 'EastMojo': 6,\n",
       " 'PwC UK SMART': 6,\n",
       " 'Hep Auto Tweet': 6,\n",
       " 'Nelio Content': 6,\n",
       " 'Оwly': 6,\n",
       " 'Contentpilot': 5,\n",
       " 'paulcrypto': 5,\n",
       " 'PromoRepublic': 5,\n",
       " 'Postfity.com': 5,\n",
       " 'Social Press Kit': 5,\n",
       " 'TTYtter': 5,\n",
       " 'Triberr': 5,\n",
       " 'Tweepsmap': 5,\n",
       " 'Kontentino': 5,\n",
       " 'Qureet Leads': 5,\n",
       " 'Threat Intel Hub': 5,\n",
       " 'SocialRabbit Plugin': 5,\n",
       " 'Whitley2020': 5,\n",
       " 'Constant Contact - Social Posts': 5,\n",
       " 'twittbot.net': 5,\n",
       " 'DTR Auto Post': 5,\n",
       " 'NIAAuto': 5,\n",
       " 'VoiceFeed': 4,\n",
       " 'Nolwa-Digital': 4,\n",
       " 'Aleph א': 4,\n",
       " 'Restream.io': 4,\n",
       " 'Sharpspring': 4,\n",
       " 'Libsyn On-Publish': 4,\n",
       " 'Commun.it Intelligence': 4,\n",
       " \"iContact's Social Tools\": 4,\n",
       " 'Chorus publishing platform': 4,\n",
       " 'EnrichrBot': 4,\n",
       " 'Freshdesk': 4,\n",
       " 'Healio Twitter': 4,\n",
       " 'SoCast Digital': 4,\n",
       " 'Coosto': 4,\n",
       " 'newsgovhk': 4,\n",
       " 'Stuffed Productions': 4,\n",
       " \"Let's Talk Singapore\": 4,\n",
       " 'Campaign Share': 4,\n",
       " 'SmartNews | スマートニュース': 4,\n",
       " 'floridapolitics.com': 4,\n",
       " 'Shauntv': 4,\n",
       " 'chirr.app': 4,\n",
       " 'TW Blue': 4,\n",
       " 'PlayStation®Network': 4,\n",
       " 'cmsoc': 4,\n",
       " 'ME Construction News': 3,\n",
       " 'STL.News': 3,\n",
       " 'covidestimates': 3,\n",
       " 'Foursquare': 3,\n",
       " 'OS X': 3,\n",
       " 'xh_scitech': 3,\n",
       " 'ChimpReports_': 3,\n",
       " 'Influitive': 3,\n",
       " 'NewsAutocorrect': 3,\n",
       " 'Percolate': 3,\n",
       " 'Twitter Web Client': 3,\n",
       " 'Dynamic Tweets': 3,\n",
       " 'OneCMS Social Connect': 3,\n",
       " 'Ripl App': 3,\n",
       " 'rtweet_token_sc': 3,\n",
       " 'Flamingo for Android': 3,\n",
       " 'El Cañonazo de las 9': 3,\n",
       " 'RiteKit': 3,\n",
       " 'recurpost.com': 3,\n",
       " 'Hacker Noon': 3,\n",
       " 'Weebly App': 3,\n",
       " 'Seket Aanru LVLII': 3,\n",
       " 'PNSposter': 3,\n",
       " 'Swat.io': 3,\n",
       " 'pixiv: Post to Twitter': 3,\n",
       " 'Constant Contact': 3,\n",
       " 'PinkVilla': 3,\n",
       " 'remote.io': 3,\n",
       " 'Cheap Bots, Done Quick!': 3,\n",
       " 'Raven Tools': 3,\n",
       " 'Post to Social by SHIFT1': 3,\n",
       " 'iHeartMedia Publishing': 3,\n",
       " 'Flote.app': 3,\n",
       " 'Phone2Action Advocacy': 2,\n",
       " 'VotepledgeBot': 2,\n",
       " 'SocialGest': 2,\n",
       " 'LatelyAI': 2,\n",
       " 'COVIDRecoveredBot': 2,\n",
       " 'Fan Page Robot': 2,\n",
       " 'App for IconicHipster.com': 2,\n",
       " 'KhuramKTS': 2,\n",
       " 'WP to Twitter IAR': 2,\n",
       " 'Social Reputation': 2,\n",
       " 'GearGuide Twitter': 2,\n",
       " 'Nonli': 2,\n",
       " 'PixelTweeter': 2,\n",
       " 'Liberal Forum Political Chat': 2,\n",
       " 'SlackSocial': 2,\n",
       " 'Paiger': 2,\n",
       " 'Nintendo Switch Share': 2,\n",
       " 'Fenix for Android': 2,\n",
       " 'Bigram Poetry': 2,\n",
       " 'Cloud Campaign': 2,\n",
       " 'SOCi - Simplifying Social Media': 2,\n",
       " 'Twibble.io': 2,\n",
       " 'POZ Army Auto Tweets': 2,\n",
       " 'Africa News Hub': 2,\n",
       " 'Ground News': 2,\n",
       " 'Moa Bridge': 2,\n",
       " 'Lately Social': 2,\n",
       " 'Mention\\xa0': 2,\n",
       " 'RegulatorWatch.com': 2,\n",
       " 'LegendLakeComApp': 2,\n",
       " 'thefivedaily': 2,\n",
       " 'Auto-Post (IMW)': 2,\n",
       " 'Ryzely': 2,\n",
       " 'UhmazingPressRelease': 2,\n",
       " 'Amplifr': 2,\n",
       " 'A Touch of Snark': 2,\n",
       " 'masterdebater.net': 2,\n",
       " 'peetm': 2,\n",
       " 'Streamlabs Twitter': 2,\n",
       " 'CivilDialog': 2,\n",
       " 'WatchDog Uganda': 2,\n",
       " 'DR Data': 2,\n",
       " 'Etsy': 2,\n",
       " 'Bloglovin': 2,\n",
       " 'Mastodon-Twitter Crossposter': 2,\n",
       " 'Friends Me': 2,\n",
       " 'EUobserver': 2,\n",
       " 'dancehallaudio': 2,\n",
       " 'Radiology: AI app': 1,\n",
       " 'Xinhua Sports': 1,\n",
       " 'Total Travel TAG': 1,\n",
       " 'Hiplay': 1,\n",
       " 'oysttyer': 1,\n",
       " 'CGS Tech Tweeter': 1,\n",
       " 'Choqok': 1,\n",
       " 'WP to Twitter EPR': 1,\n",
       " 'PublishToTwitter': 1,\n",
       " '_stranger_twitterbot_': 1,\n",
       " 'Cawbird': 1,\n",
       " 'Freebie-Depot': 1,\n",
       " 'Poshmark': 1,\n",
       " 'TwitPane for Android': 1,\n",
       " 'WIZS 1450 AM': 1,\n",
       " 'gifincric': 1,\n",
       " 'Boma Marketing': 1,\n",
       " 'Hail — Create Curate Communicate': 1,\n",
       " 'Fox XRIO 2 News': 1,\n",
       " 'Unshackled Content Poster': 1,\n",
       " 'Twitter VIT App for iOS': 1,\n",
       " 'Clarabridge Engage': 1,\n",
       " 'TheWhiteHouse': 1,\n",
       " 'The Tweeted Times Mobile': 1,\n",
       " 'SPTK: PutnamDV': 1,\n",
       " 'FPTraffic': 1,\n",
       " 'LOOKBOOK.nu': 1,\n",
       " 'CareerIndia_Tweet_Counts': 1,\n",
       " 'Heropost': 1,\n",
       " 'NewsFromDonbass': 1,\n",
       " 'Portal de CNMG': 1,\n",
       " 'BT Production Site': 1,\n",
       " 'Promo.com': 1,\n",
       " 'Bot Libre!': 1,\n",
       " 'InfoBlaze India': 1,\n",
       " 'Revive Old NatCorn Posts': 1,\n",
       " 'The Recycler': 1,\n",
       " 'apherald': 1,\n",
       " 'twidered': 1,\n",
       " 'Plurk': 1,\n",
       " 'MomoRScrape': 1,\n",
       " 'App Political Hispanic': 1,\n",
       " 'Conservative Daily News': 1,\n",
       " 'InfoBlaze Southeast Asia': 1,\n",
       " 'CIO Tech Asia Twitter': 1,\n",
       " 'Dram Scotland': 1,\n",
       " 'autopo.st - @Radio_Lichfield': 1,\n",
       " 'TeamSight Publisher': 1,\n",
       " 'Snaps1': 1,\n",
       " 'RSS Masher - Dev': 1,\n",
       " 'AtlantaTechBlogs': 1,\n",
       " 'NetNaija Twiit': 1,\n",
       " 'Twitterrific for Mac': 1,\n",
       " 'Dr. Kill Pain': 1,\n",
       " 'science faction twitter bot': 1,\n",
       " 'SocialHub by maloon': 1,\n",
       " 'BrentStafford.com': 1,\n",
       " 'StreamElements': 1,\n",
       " 'Squarespace': 1,\n",
       " 'Dynamics 365 for Marketing': 1,\n",
       " 'opendorse': 1,\n",
       " 'Greenfly': 1,\n",
       " 'EdgeTheory': 1,\n",
       " 'Emma Social Connector': 1,\n",
       " 'DataBlogger': 1,\n",
       " 'PublishBestNews': 1,\n",
       " 'Tweetlogix': 1,\n",
       " 'Arena.im': 1,\n",
       " 'crystalwind.ca': 1,\n",
       " 'WPwamnwebsitescript': 1,\n",
       " 'drumup.io': 1,\n",
       " 'Konnect Social': 1,\n",
       " 'Siargao Guide': 1,\n",
       " 'Twitter for  iPhone': 1,\n",
       " 'Spire FM': 1,\n",
       " 'dnh twitter publisher': 1,\n",
       " 'Tweetings for Android': 1,\n",
       " 'DopeyUncle2': 1,\n",
       " 'Chicken Nugget': 1,\n",
       " 'ETRetail.com': 1,\n",
       " 'Sociality.io': 1,\n",
       " 'Echofon  Android': 1,\n",
       " 'Partnermarketing.com': 1,\n",
       " 'nwindianabusiness.com': 1,\n",
       " 'Newry.ie': 1,\n",
       " '4strat-foresight': 1,\n",
       " 'App for TonysTShirts': 1,\n",
       " 'PLANOLY': 1,\n",
       " 'Newswise Expert Pitch': 1,\n",
       " 'Imbibe Website Publishing': 1,\n",
       " 'ALCOVID19': 1,\n",
       " 'Hub Central APP Agencies': 1,\n",
       " 'Grapevine6': 1,\n",
       " 'VoterVoice Tweet': 1,\n",
       " 'Right Relevance': 1,\n",
       " 'Social5': 1,\n",
       " 'OnlyPultCom': 1,\n",
       " 'Elgato Stream Deck': 1,\n",
       " \"Joe's Politics\": 1,\n",
       " '15 Minute Fun': 1,\n",
       " 'ISN Autotweet': 1,\n",
       " 'Tweecha Lite': 1,\n",
       " 'Statusbrew': 1,\n",
       " 'Social Aider': 1,\n",
       " 'Pressenza IPA eng': 1,\n",
       " 'standard3d': 1,\n",
       " 'Hypefury': 1,\n",
       " 'BLOX CMS': 1,\n",
       " 'Lead Accel': 1,\n",
       " 'Socialchief': 1,\n",
       " 'Web lider': 1,\n",
       " 'GCCHD': 1,\n",
       " 'Emphatic': 1,\n",
       " 'Janetter Pro for Android': 1,\n",
       " 'TD Wealth Social Centre': 1,\n",
       " 'SpaceRefTweet': 1,\n",
       " 'Planable': 1,\n",
       " 'GroupTweet': 1}"
      ]
     },
     "execution_count": 48,
     "metadata": {},
     "output_type": "execute_result"
    }
   ],
   "source": [
    "dict(covid_data[\"source\"].value_counts())"
   ]
  },
  {
   "cell_type": "code",
   "execution_count": 49,
   "id": "ed4f0e73",
   "metadata": {},
   "outputs": [
    {
     "data": {
      "text/plain": [
       "Text(0, 0.5, 'Count Of tweets per Sources')"
      ]
     },
     "execution_count": 49,
     "metadata": {},
     "output_type": "execute_result"
    },
    {
     "data": {
      "image/png": "[encoded data removed]",
      "text/plain": [
       "<Figure size 1440x720 with 1 Axes>"
      ]
     },
     "metadata": {
      "needs_background": "light"
     },
     "output_type": "display_data"
    }
   ],
   "source": [
    "# \n",
    "\n",
    "plt.figure(figsize=(20,10))\n",
    "user_source = covid_data.source.value_counts().head(10).plot.bar()\n",
    "plt.title(\"No of tweets per Sources \")\n",
    "plt.xlabel(\"Source\")\n",
    "plt.ylabel(\"Count Of tweets per Sources\")\n"
   ]
  },
  {
   "cell_type": "code",
   "execution_count": 50,
   "id": "fcafcb4d",
   "metadata": {},
   "outputs": [],
   "source": [
    "unique_user_loc_dict = dict(covid_data[\"user_location\"].value_counts())\n",
    "unique_user_loc_list =list(unique_user_loc_dict.keys())"
   ]
  },
  {
   "cell_type": "code",
   "execution_count": 51,
   "id": "d479979c",
   "metadata": {},
   "outputs": [
    {
     "data": {
      "text/plain": [
       "20371"
      ]
     },
     "execution_count": 51,
     "metadata": {},
     "output_type": "execute_result"
    }
   ],
   "source": [
    "unique_user_loc_dict\n",
    "len(unique_user_loc_dict)"
   ]
  },
  {
   "cell_type": "code",
   "execution_count": 52,
   "id": "57d0f2e3",
   "metadata": {},
   "outputs": [
    {
     "ename": "TypeError",
     "evalue": "object of type 'int' has no len()",
     "output_type": "error",
     "traceback": [
      "\u001b[1;31m---------------------------------------------------------------------------\u001b[0m",
      "\u001b[1;31mTypeError\u001b[0m                                 Traceback (most recent call last)",
      "\u001b[1;32mC:\\Users\\JOBANC~1\\AppData\\Local\\Temp/ipykernel_8336/2060620011.py\u001b[0m in \u001b[0;36m<module>\u001b[1;34m\u001b[0m\n\u001b[1;32m----> 1\u001b[1;33m \u001b[0muser_loc_india\u001b[0m\u001b[1;33m=\u001b[0m\u001b[0mget_close_matches\u001b[0m\u001b[1;33m(\u001b[0m\u001b[1;34m'India'\u001b[0m\u001b[1;33m,\u001b[0m\u001b[0mlist\u001b[0m\u001b[1;33m(\u001b[0m\u001b[0munique_user_loc_list\u001b[0m\u001b[1;33m)\u001b[0m\u001b[1;33m,\u001b[0m\u001b[0mcutoff\u001b[0m\u001b[1;33m=\u001b[0m\u001b[1;36m0.2\u001b[0m\u001b[1;33m)\u001b[0m\u001b[1;33m\u001b[0m\u001b[1;33m\u001b[0m\u001b[0m\n\u001b[0m\u001b[0;32m      2\u001b[0m \u001b[0mprint\u001b[0m\u001b[1;33m(\u001b[0m\u001b[0muser_loc_india\u001b[0m\u001b[1;33m)\u001b[0m\u001b[1;33m\u001b[0m\u001b[1;33m\u001b[0m\u001b[0m\n",
      "\u001b[1;32m~\\AppData\\Local\\Programs\\Python\\Python39\\lib\\difflib.py\u001b[0m in \u001b[0;36mget_close_matches\u001b[1;34m(word, possibilities, n, cutoff)\u001b[0m\n\u001b[0;32m    702\u001b[0m     \u001b[1;32mfor\u001b[0m \u001b[0mx\u001b[0m \u001b[1;32min\u001b[0m \u001b[0mpossibilities\u001b[0m\u001b[1;33m:\u001b[0m\u001b[1;33m\u001b[0m\u001b[1;33m\u001b[0m\u001b[0m\n\u001b[0;32m    703\u001b[0m         \u001b[0ms\u001b[0m\u001b[1;33m.\u001b[0m\u001b[0mset_seq1\u001b[0m\u001b[1;33m(\u001b[0m\u001b[0mx\u001b[0m\u001b[1;33m)\u001b[0m\u001b[1;33m\u001b[0m\u001b[1;33m\u001b[0m\u001b[0m\n\u001b[1;32m--> 704\u001b[1;33m         \u001b[1;32mif\u001b[0m \u001b[0ms\u001b[0m\u001b[1;33m.\u001b[0m\u001b[0mreal_quick_ratio\u001b[0m\u001b[1;33m(\u001b[0m\u001b[1;33m)\u001b[0m \u001b[1;33m>=\u001b[0m \u001b[0mcutoff\u001b[0m \u001b[1;32mand\u001b[0m\u001b[0;31m \u001b[0m\u001b[0;31m\\\u001b[0m\u001b[1;33m\u001b[0m\u001b[1;33m\u001b[0m\u001b[0m\n\u001b[0m\u001b[0;32m    705\u001b[0m            \u001b[0ms\u001b[0m\u001b[1;33m.\u001b[0m\u001b[0mquick_ratio\u001b[0m\u001b[1;33m(\u001b[0m\u001b[1;33m)\u001b[0m \u001b[1;33m>=\u001b[0m \u001b[0mcutoff\u001b[0m \u001b[1;32mand\u001b[0m\u001b[0;31m \u001b[0m\u001b[0;31m\\\u001b[0m\u001b[1;33m\u001b[0m\u001b[1;33m\u001b[0m\u001b[0m\n\u001b[0;32m    706\u001b[0m            \u001b[0ms\u001b[0m\u001b[1;33m.\u001b[0m\u001b[0mratio\u001b[0m\u001b[1;33m(\u001b[0m\u001b[1;33m)\u001b[0m \u001b[1;33m>=\u001b[0m \u001b[0mcutoff\u001b[0m\u001b[1;33m:\u001b[0m\u001b[1;33m\u001b[0m\u001b[1;33m\u001b[0m\u001b[0m\n",
      "\u001b[1;32m~\\AppData\\Local\\Programs\\Python\\Python39\\lib\\difflib.py\u001b[0m in \u001b[0;36mreal_quick_ratio\u001b[1;34m(self)\u001b[0m\n\u001b[0;32m    656\u001b[0m         \"\"\"\n\u001b[0;32m    657\u001b[0m \u001b[1;33m\u001b[0m\u001b[0m\n\u001b[1;32m--> 658\u001b[1;33m         \u001b[0mla\u001b[0m\u001b[1;33m,\u001b[0m \u001b[0mlb\u001b[0m \u001b[1;33m=\u001b[0m \u001b[0mlen\u001b[0m\u001b[1;33m(\u001b[0m\u001b[0mself\u001b[0m\u001b[1;33m.\u001b[0m\u001b[0ma\u001b[0m\u001b[1;33m)\u001b[0m\u001b[1;33m,\u001b[0m \u001b[0mlen\u001b[0m\u001b[1;33m(\u001b[0m\u001b[0mself\u001b[0m\u001b[1;33m.\u001b[0m\u001b[0mb\u001b[0m\u001b[1;33m)\u001b[0m\u001b[1;33m\u001b[0m\u001b[1;33m\u001b[0m\u001b[0m\n\u001b[0m\u001b[0;32m    659\u001b[0m         \u001b[1;31m# can't have more matches than the number of elements in the\u001b[0m\u001b[1;33m\u001b[0m\u001b[1;33m\u001b[0m\u001b[0m\n\u001b[0;32m    660\u001b[0m         \u001b[1;31m# shorter sequence\u001b[0m\u001b[1;33m\u001b[0m\u001b[1;33m\u001b[0m\u001b[0m\n",
      "\u001b[1;31mTypeError\u001b[0m: object of type 'int' has no len()"
     ]
    }
   ],
   "source": [
    "user_loc_india=get_close_matches('India',list(unique_user_loc_list),cutoff=0.2)\n",
    "print(user_loc_india)"
   ]
  },
  {
   "cell_type": "code",
   "execution_count": null,
   "id": "a58e9fd6",
   "metadata": {},
   "outputs": [],
   "source": [
    "unique_user_loc_list"
   ]
  },
  {
   "cell_type": "code",
   "execution_count": null,
   "id": "d467e4ce",
   "metadata": {},
   "outputs": [],
   "source": [
    "covid_data[\"user_location\"].unique()"
   ]
  },
  {
   "cell_type": "code",
   "execution_count": null,
   "id": "fb295abd",
   "metadata": {},
   "outputs": [],
   "source": [
    "if type('Joban')  == str:\n",
    "    print(\"Joban\")"
   ]
  },
  {
   "cell_type": "code",
   "execution_count": null,
   "id": "51464d67",
   "metadata": {},
   "outputs": [],
   "source": [
    "type(\"Joban\")"
   ]
  },
  {
   "cell_type": "code",
   "execution_count": null,
   "id": "4db94305",
   "metadata": {},
   "outputs": [],
   "source": [
    "user_loc_not_str = {i for i in covid_data[\"user_location\"] if type(i) != str}    "
   ]
  },
  {
   "cell_type": "code",
   "execution_count": null,
   "id": "e073c367",
   "metadata": {},
   "outputs": [],
   "source": [
    "#{unique_user_loc_dict.get(i):i for i in unique_user_loc_dict if type(i) != str}    "
   ]
  },
  {
   "cell_type": "code",
   "execution_count": null,
   "id": "c4f60846",
   "metadata": {},
   "outputs": [],
   "source": [
    "user_loc_not_str"
   ]
  },
  {
   "cell_type": "code",
   "execution_count": null,
   "id": "ab1e3635",
   "metadata": {},
   "outputs": [],
   "source": [
    "len(user_loc_not_str)"
   ]
  },
  {
   "cell_type": "code",
   "execution_count": null,
   "id": "132c72a2",
   "metadata": {},
   "outputs": [],
   "source": [
    "unique_user_loc_dict[10101]"
   ]
  },
  {
   "cell_type": "code",
   "execution_count": null,
   "id": "40cea450",
   "metadata": {},
   "outputs": [],
   "source": [
    "import datetime\n",
    "unique_user_loc_dict[datetime.time(21, 21)]"
   ]
  },
  {
   "cell_type": "code",
   "execution_count": null,
   "id": "687925b6",
   "metadata": {},
   "outputs": [],
   "source": [
    "str(datetime.time(21, 21))"
   ]
  },
  {
   "cell_type": "code",
   "execution_count": null,
   "id": "38f29d04",
   "metadata": {},
   "outputs": [],
   "source": [
    "#pass it as argument unique_user_loc_dict\n",
    "def user_loc_match(match):\n",
    "    for i in range(len(match)):\n",
    "        if type(match[i]) != str:\n",
    "            #print(match[i])\n",
    "            #print(str(match[i]))\n",
    "            match[i] = str(match[i])\n",
    "        else :\n",
    "            pass\n",
    "        \n",
    "    "
   ]
  },
  {
   "cell_type": "code",
   "execution_count": null,
   "id": "4befe9a0",
   "metadata": {
    "scrolled": true
   },
   "outputs": [],
   "source": [
    "unique_user_loc_list"
   ]
  },
  {
   "cell_type": "code",
   "execution_count": null,
   "id": "051c1152",
   "metadata": {},
   "outputs": [],
   "source": [
    "l2 = [1.0]\n",
    "user_loc_match(l2)\n",
    "type(l2[0])"
   ]
  },
  {
   "cell_type": "code",
   "execution_count": null,
   "id": "d4ec3920",
   "metadata": {},
   "outputs": [],
   "source": [
    "user_loc_match(unique_user_loc_list)"
   ]
  },
  {
   "cell_type": "code",
   "execution_count": null,
   "id": "2c6abced",
   "metadata": {},
   "outputs": [],
   "source": [
    "for i in unique_user_loc_list:\n",
    "    if type(i) != str:\n",
    "        print(i)"
   ]
  },
  {
   "cell_type": "code",
   "execution_count": null,
   "id": "2298eb58",
   "metadata": {},
   "outputs": [],
   "source": [
    "\"10101\" in unique_user_loc_list"
   ]
  },
  {
   "cell_type": "code",
   "execution_count": null,
   "id": "88cd876a",
   "metadata": {},
   "outputs": [],
   "source": [
    "\"datetime.time(21, 21)\" in unique_user_loc_list"
   ]
  },
  {
   "cell_type": "code",
   "execution_count": null,
   "id": "f8c95857",
   "metadata": {},
   "outputs": [],
   "source": [
    "unique_user_loc_list.index('10101')"
   ]
  },
  {
   "cell_type": "code",
   "execution_count": null,
   "id": "0ca236f6",
   "metadata": {},
   "outputs": [],
   "source": [
    "covid_data.loc[17610]"
   ]
  },
  {
   "cell_type": "code",
   "execution_count": null,
   "id": "04973d1f",
   "metadata": {},
   "outputs": [],
   "source": [
    "str(unique_user_loc_list[17610]).replace(unique_user_loc_list[17610],str(unique_user_loc_list[17610]))"
   ]
  },
  {
   "cell_type": "code",
   "execution_count": null,
   "id": "af0b6f26",
   "metadata": {},
   "outputs": [],
   "source": [
    "#unique_user_loc_dict[\"GroupTweet\"]"
   ]
  },
  {
   "cell_type": "code",
   "execution_count": null,
   "id": "984fee00",
   "metadata": {},
   "outputs": [],
   "source": [
    "covid_data.hashtags[2].dtypes"
   ]
  },
  {
   "cell_type": "code",
   "execution_count": null,
   "id": "6c2b111e",
   "metadata": {},
   "outputs": [],
   "source": [
    "covid_data.hashtags[4].dtypes"
   ]
  },
  {
   "cell_type": "code",
   "execution_count": null,
   "id": "b7b2d9b0",
   "metadata": {},
   "outputs": [],
   "source": [
    "covid_data.hashtags"
   ]
  },
  {
   "cell_type": "code",
   "execution_count": null,
   "id": "a7ce9bfd",
   "metadata": {},
   "outputs": [],
   "source": [
    "print(type(covid_data.hashtags[2]))\n",
    "print(covid_data.hashtags[2])"
   ]
  },
  {
   "cell_type": "code",
   "execution_count": null,
   "id": "18975947",
   "metadata": {},
   "outputs": [],
   "source": [
    "print(type(covid_data.hashtags[4]))\n",
    "print(covid_data.hashtags[4])"
   ]
  },
  {
   "cell_type": "code",
   "execution_count": null,
   "id": "66997b13",
   "metadata": {
    "scrolled": true
   },
   "outputs": [],
   "source": [
    "covid_hashtags =covid_data.hashtags\n",
    "for i in covid_hashtags[:50]:\n",
    "    print(type(i))"
   ]
  },
  {
   "cell_type": "code",
   "execution_count": null,
   "id": "06579b7e",
   "metadata": {},
   "outputs": [],
   "source": [
    "for i in covid_data.hashtags:\n",
    "    if type(i) != list:\n",
    "        print(i.strip(']['))#.split(', '))\n",
    "        "
   ]
  },
  {
   "cell_type": "code",
   "execution_count": null,
   "id": "3d4d8fb2",
   "metadata": {},
   "outputs": [],
   "source": [
    "hashtag_list = [i.strip('][') for i in covid_data.hashtags if type(i) != list]"
   ]
  },
  {
   "cell_type": "code",
   "execution_count": null,
   "id": "293264ae",
   "metadata": {
    "scrolled": true
   },
   "outputs": [],
   "source": [
    "hashtag_list"
   ]
  },
  {
   "cell_type": "markdown",
   "id": "ce0de0a8",
   "metadata": {},
   "source": [
    "### Convert a string representation of list into list in Python"
   ]
  },
  {
   "cell_type": "code",
   "execution_count": null,
   "id": "7722c2ac",
   "metadata": {},
   "outputs": [],
   "source": [
    "stringA = \"[Mon, 2, Tue, 5,]\"\n",
    "# Given string\n",
    "print(\"Given string\", stringA)\n",
    "print(type(stringA))\n",
    "# String to list\n",
    "res = stringA.strip('][').split(', ')\n",
    "# Result and its type\n",
    "print(\"final list\", res)\n",
    "print(type(res))"
   ]
  },
  {
   "cell_type": "code",
   "execution_count": null,
   "id": "f2043aa0",
   "metadata": {},
   "outputs": [],
   "source": [
    "covid_data.head()"
   ]
  },
  {
   "cell_type": "code",
   "execution_count": null,
   "id": "b5cbc6e6",
   "metadata": {},
   "outputs": [],
   "source": [
    "covid_data['hashtags'] = covid_data['hashtags'].apply(lambda cell:''.join(c for c in cell if c not in \"'[]\").split(', '))"
   ]
  },
  {
   "cell_type": "code",
   "execution_count": null,
   "id": "a2a6b1f3",
   "metadata": {},
   "outputs": [],
   "source": [
    "type(covid_data.hashtags[2])"
   ]
  },
  {
   "cell_type": "code",
   "execution_count": null,
   "id": "1f07c77f",
   "metadata": {},
   "outputs": [],
   "source": [
    "new_df = covid_data.explode(\"hashtags\",ignore_index=True)"
   ]
  },
  {
   "cell_type": "code",
   "execution_count": null,
   "id": "4d04cf28",
   "metadata": {},
   "outputs": [],
   "source": [
    "new_df.head()"
   ]
  },
  {
   "cell_type": "code",
   "execution_count": null,
   "id": "e53ca516",
   "metadata": {},
   "outputs": [],
   "source": [
    "l3 = []\n",
    "for c in \"['Joban']\":\n",
    "    if c not in \"'[]\":\n",
    "        l3.append(c)"
   ]
  },
  {
   "cell_type": "code",
   "execution_count": null,
   "id": "5c3af2f4",
   "metadata": {},
   "outputs": [],
   "source": [
    "l3"
   ]
  },
  {
   "cell_type": "code",
   "execution_count": null,
   "id": "d080bf32",
   "metadata": {},
   "outputs": [],
   "source": [
    "\"\".join(l3).split(', ')"
   ]
  },
  {
   "cell_type": "code",
   "execution_count": null,
   "id": "fc6f908b",
   "metadata": {},
   "outputs": [],
   "source": [
    "\"\".join(l3)#.split(',')"
   ]
  },
  {
   "cell_type": "code",
   "execution_count": null,
   "id": "7ea0249e",
   "metadata": {},
   "outputs": [],
   "source": [
    "hashtags_df = new_df.hashtags.value_counts().reset_index()\n",
    "hashtags_df.sort_values(by='hashtags',ascending=False,inplace=True)\n",
    "hashtags_df.rename(columns = {'index':'hashtags', 'hashtags':'Count'}, inplace = True)"
   ]
  },
  {
   "cell_type": "code",
   "execution_count": null,
   "id": "10c3c2e3",
   "metadata": {},
   "outputs": [],
   "source": [
    "hashtags_df"
   ]
  },
  {
   "cell_type": "code",
   "execution_count": null,
   "id": "d363a0b9",
   "metadata": {},
   "outputs": [],
   "source": [
    "plt.figure(figsize=(20,10))\n",
    "hashtag = new_df.hashtags.value_counts().head(50).plot.bar()\n",
    "plt.title(\"No of tweets on hashtags v/s hashtags\")\n",
    "plt.xlabel(\"Hashtags\")\n",
    "plt.ylabel(\"No of tweets on hashtags\")\n"
   ]
  },
  {
   "cell_type": "code",
   "execution_count": null,
   "id": "e66a9c46",
   "metadata": {},
   "outputs": [],
   "source": []
  }
 ],
 "metadata": {
  "kernelspec": {
   "display_name": "Python 3 (ipykernel)",
   "language": "python",
   "name": "python3"
  },
  "language_info": {
   "codemirror_mode": {
    "name": "ipython",
    "version": 3
   },
   "file_extension": ".py",
   "mimetype": "text/x-python",
   "name": "python",
   "nbconvert_exporter": "python",
   "pygments_lexer": "ipython3",
   "version": "3.9.8"
  },
  "vscode": {
   "interpreter": {
    "hash": "e282a1bb29d30dbbc814a3b17f1e0a13243cacf4a9b35976f2918ad90aa5c1db"
   }
  }
 },
 "nbformat": 4,
 "nbformat_minor": 5
}
